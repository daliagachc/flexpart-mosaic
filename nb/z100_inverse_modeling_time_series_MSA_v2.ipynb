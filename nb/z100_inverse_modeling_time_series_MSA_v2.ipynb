{
 "cells": [
  {
   "cell_type": "code",
   "execution_count": 2,
   "metadata": {
    "collapsed": false,
    "jupyter": {
     "outputs_hidden": false
    }
   },
   "outputs": [],
   "source": [
    "%load_ext autoreload\n",
    "%autoreload 2\n",
    "\n",
    "import matplotlib.pyplot as plt\n",
    "import numpy as np\n",
    "import pandas as pd\n",
    "import xarray as xr\n",
    "\n",
    "import regression_funs as rfu"
   ]
  },
  {
   "cell_type": "markdown",
   "metadata": {
    "title": "md"
   },
   "source": [
    "\n",
    "## constants and functions"
   ]
  },
  {
   "cell_type": "code",
   "execution_count": 524,
   "metadata": {
    "collapsed": false,
    "jupyter": {
     "outputs_hidden": false
    },
    "lines_to_next_cell": 2
   },
   "outputs": [],
   "source": [
    "\n",
    "PATH_TO_FILE = '../data_in/flexpart-mosaic-data_alias/AIRTRACER_100m.nc'\n",
    "\n",
    "PATH_TO_SO2 = '../data_in/flexpart-mosaic-data_alias/MSAQSO2L4_2005-2018_v01-04_20190314.h5'\n",
    "\n",
    "PATH_TO_ST = '../data_in/ciapitof_masked_filtered.csv'\n",
    "\n",
    "PATH_TO_BC = '../data_in/black_carbon_channel6_masked_5min.csv'\n",
    "# PATH_TO_BC = '../data_in/black_carbon_channel6_raw_5min.csv'\n",
    "\n",
    "PATH_1000_CLUS = '../data_out/cluster1000.nc'\n",
    "\n",
    "LA = 'lat'\n",
    "LO = 'lon'\n",
    "TI = 'time'\n",
    "AG = 'age'\n",
    "AT = 'AIRTRACER'\n",
    "L = 'lab'\n",
    "CM = 'tab20'\n",
    "\n",
    "SA = 'sa'\n",
    "MSA = 'msa'\n",
    "IA = 'ia'\n",
    "\n",
    "BC = 'bc_masked_ngm3'\n",
    "\n",
    "# BC = 'bc_raw_ngm3'\n",
    "\n",
    "LBC = 'log(bc)'\n",
    "\n",
    "LSA = 'log10(sa)'\n",
    "LMSA = 'log10(msa)'\n",
    "LIA = 'log10(ia)'\n",
    "\n",
    "COLS = [SA, MSA, IA]\n",
    "LCOLS = [LSA, LMSA, LIA]\n",
    "\n",
    "DATA_OUT = '../data_out'\n",
    "\n",
    "COL = plt.get_cmap('Dark2')\n",
    "\n",
    "DC = {\n",
    "    SA  : COL(0),\n",
    "    MSA : COL(1),\n",
    "    IA  : COL(2),\n",
    "    LSA : COL(0),\n",
    "    LMSA: COL(1),\n",
    "    LIA : COL(2),\n",
    "    BC  : COL(3),\n",
    "    LBC : COL(3)\n",
    "}"
   ]
  },
  {
   "cell_type": "code",
   "execution_count": 654,
   "metadata": {},
   "outputs": [],
   "source": [
    "PAR=MSA"
   ]
  },
  {
   "cell_type": "code",
   "execution_count": 655,
   "metadata": {},
   "outputs": [
    {
     "data": {
      "text/plain": [
       "True     27170\n",
       "False      231\n",
       "Name: msa, dtype: int64"
      ]
     },
     "execution_count": 655,
     "metadata": {},
     "output_type": "execute_result"
    }
   ],
   "source": [
    "df = pd.read_csv(PATH_TO_ST, index_col=0, parse_dates=True)\n",
    "(df[PAR]>0).value_counts()"
   ]
  },
  {
   "cell_type": "code",
   "execution_count": 656,
   "metadata": {},
   "outputs": [],
   "source": [
    "df = df[df[PAR]>0][[PAR]]"
   ]
  },
  {
   "cell_type": "code",
   "execution_count": 657,
   "metadata": {},
   "outputs": [
    {
     "data": {
      "text/html": [
       "<div>\n",
       "<style scoped>\n",
       "    .dataframe tbody tr th:only-of-type {\n",
       "        vertical-align: middle;\n",
       "    }\n",
       "\n",
       "    .dataframe tbody tr th {\n",
       "        vertical-align: top;\n",
       "    }\n",
       "\n",
       "    .dataframe thead th {\n",
       "        text-align: right;\n",
       "    }\n",
       "</style>\n",
       "<table border=\"1\" class=\"dataframe\">\n",
       "  <thead>\n",
       "    <tr style=\"text-align: right;\">\n",
       "      <th></th>\n",
       "      <th>msa</th>\n",
       "    </tr>\n",
       "    <tr>\n",
       "      <th>time</th>\n",
       "      <th></th>\n",
       "    </tr>\n",
       "  </thead>\n",
       "  <tbody>\n",
       "    <tr>\n",
       "      <th>2019-10-20 02:55:00</th>\n",
       "      <td>471655.500000</td>\n",
       "    </tr>\n",
       "    <tr>\n",
       "      <th>2019-10-20 03:05:00</th>\n",
       "      <td>397632.562500</td>\n",
       "    </tr>\n",
       "    <tr>\n",
       "      <th>2019-10-20 03:15:00</th>\n",
       "      <td>398285.281250</td>\n",
       "    </tr>\n",
       "    <tr>\n",
       "      <th>2019-10-20 03:25:00</th>\n",
       "      <td>540646.187500</td>\n",
       "    </tr>\n",
       "    <tr>\n",
       "      <th>2019-10-20 03:45:00</th>\n",
       "      <td>603345.437500</td>\n",
       "    </tr>\n",
       "    <tr>\n",
       "      <th>...</th>\n",
       "      <td>...</td>\n",
       "    </tr>\n",
       "    <tr>\n",
       "      <th>2020-10-01 08:05:00</th>\n",
       "      <td>26403.804688</td>\n",
       "    </tr>\n",
       "    <tr>\n",
       "      <th>2020-10-01 08:15:00</th>\n",
       "      <td>58329.910156</td>\n",
       "    </tr>\n",
       "    <tr>\n",
       "      <th>2020-10-01 08:20:00</th>\n",
       "      <td>30199.201172</td>\n",
       "    </tr>\n",
       "    <tr>\n",
       "      <th>2020-10-01 08:25:00</th>\n",
       "      <td>24432.607422</td>\n",
       "    </tr>\n",
       "    <tr>\n",
       "      <th>2020-10-01 08:30:00</th>\n",
       "      <td>75088.710938</td>\n",
       "    </tr>\n",
       "  </tbody>\n",
       "</table>\n",
       "<p>27170 rows × 1 columns</p>\n",
       "</div>"
      ],
      "text/plain": [
       "                               msa\n",
       "time                              \n",
       "2019-10-20 02:55:00  471655.500000\n",
       "2019-10-20 03:05:00  397632.562500\n",
       "2019-10-20 03:15:00  398285.281250\n",
       "2019-10-20 03:25:00  540646.187500\n",
       "2019-10-20 03:45:00  603345.437500\n",
       "...                            ...\n",
       "2020-10-01 08:05:00   26403.804688\n",
       "2020-10-01 08:15:00   58329.910156\n",
       "2020-10-01 08:20:00   30199.201172\n",
       "2020-10-01 08:25:00   24432.607422\n",
       "2020-10-01 08:30:00   75088.710938\n",
       "\n",
       "[27170 rows x 1 columns]"
      ]
     },
     "execution_count": 657,
     "metadata": {},
     "output_type": "execute_result"
    }
   ],
   "source": [
    "df"
   ]
  },
  {
   "cell_type": "code",
   "execution_count": 658,
   "metadata": {},
   "outputs": [],
   "source": [
    "q1,q2 = df[PAR].quantile([.001,.999])"
   ]
  },
  {
   "cell_type": "code",
   "execution_count": 659,
   "metadata": {},
   "outputs": [
    {
     "data": {
      "image/png": "[encoded data removed]",
      "text/plain": [
       "<Figure size 432x288 with 1 Axes>"
      ]
     },
     "metadata": {
      "needs_background": "light"
     },
     "output_type": "display_data"
    }
   ],
   "source": [
    "df[PAR].plot.hist(bins=[df[PAR].min()-1,*np.geomspace(q1,q2)])\n",
    "plt.gca().set_xscale('log')"
   ]
  },
  {
   "cell_type": "code",
   "execution_count": null,
   "metadata": {},
   "outputs": [],
   "source": []
  },
  {
   "cell_type": "code",
   "execution_count": 660,
   "metadata": {},
   "outputs": [],
   "source": [
    "df=df[df[PAR]>0]"
   ]
  },
  {
   "cell_type": "code",
   "execution_count": 661,
   "metadata": {},
   "outputs": [
    {
     "data": {
      "text/plain": [
       "(19533.186201171877, 56643067.98000085)"
      ]
     },
     "execution_count": 661,
     "metadata": {},
     "output_type": "execute_result"
    },
    {
     "data": {
      "image/png": "[encoded data removed]",
      "text/plain": [
       "<Figure size 432x288 with 1 Axes>"
      ]
     },
     "metadata": {
      "needs_background": "light"
     },
     "output_type": "display_data"
    }
   ],
   "source": [
    "p = (df[PAR]**1)\n",
    "q1,q2 = p.quantile([.001,.999])\n",
    "p.plot.hist(bins=np.linspace(q1,q2))\n",
    "ax = plt.gca()\n",
    "ax.set_xlim(q1,q2)"
   ]
  },
  {
   "cell_type": "code",
   "execution_count": 662,
   "metadata": {},
   "outputs": [
    {
     "data": {
      "text/plain": [
       "(19.374459808470604, 211.8086271821241)"
      ]
     },
     "execution_count": 662,
     "metadata": {},
     "output_type": "execute_result"
    },
    {
     "data": {
      "image/png": "[encoded data removed]",
      "text/plain": [
       "<Figure size 432x288 with 1 Axes>"
      ]
     },
     "metadata": {
      "needs_background": "light"
     },
     "output_type": "display_data"
    }
   ],
   "source": [
    "p = (df[PAR]**.3)\n",
    "q1,q2 = p.quantile([.001,.999])\n",
    "p.plot.hist(bins=np.linspace(q1,q2))\n",
    "ax = plt.gca()\n",
    "ax.set_xlim(q1,q2)"
   ]
  },
  {
   "cell_type": "code",
   "execution_count": 663,
   "metadata": {},
   "outputs": [],
   "source": [
    "# df[LBC] = np.log10(df[PAR])"
   ]
  },
  {
   "cell_type": "code",
   "execution_count": null,
   "metadata": {},
   "outputs": [],
   "source": []
  },
  {
   "cell_type": "markdown",
   "metadata": {},
   "source": [
    "# distributions\n",
    "\n",
    "\n",
    "lets find what kind of dist. do we have. They seem to be log dists."
   ]
  },
  {
   "cell_type": "code",
   "execution_count": null,
   "metadata": {},
   "outputs": [],
   "source": []
  },
  {
   "cell_type": "code",
   "execution_count": 664,
   "metadata": {},
   "outputs": [
    {
     "data": {
      "text/plain": [
       "Text(0.5, 0, 'log10')"
      ]
     },
     "execution_count": 664,
     "metadata": {},
     "output_type": "execute_result"
    },
    {
     "data": {
      "image/png": "[encoded data removed]",
      "text/plain": [
       "<Figure size 432x288 with 1 Axes>"
      ]
     },
     "metadata": {
      "needs_background": "light"
     },
     "output_type": "display_data"
    }
   ],
   "source": [
    "for c in [PAR]:\n",
    "    np.log10(df[c]).plot.hist(alpha=.5, bins=100, label=c, color=DC[c])\n",
    "ax = plt.gca()\n",
    "ax.legend()\n",
    "ax.set_xlabel('log10')"
   ]
  },
  {
   "cell_type": "markdown",
   "metadata": {},
   "source": [
    "# timeseries of the trace gases"
   ]
  },
  {
   "cell_type": "code",
   "execution_count": null,
   "metadata": {},
   "outputs": [],
   "source": []
  },
  {
   "cell_type": "markdown",
   "metadata": {},
   "source": [
    "# open and merge flex 1000 clusters"
   ]
  },
  {
   "cell_type": "code",
   "execution_count": 665,
   "metadata": {},
   "outputs": [],
   "source": [
    "ds = xr.open_dataset(PATH_1000_CLUS)"
   ]
  },
  {
   "cell_type": "code",
   "execution_count": 666,
   "metadata": {},
   "outputs": [],
   "source": [
    "dsf = ds.groupby(L).sum().to_dataframe()[AT].unstack(L)"
   ]
  },
  {
   "cell_type": "code",
   "execution_count": 667,
   "metadata": {},
   "outputs": [
    {
     "data": {
      "text/plain": [
       "lab\n",
       "0      117.893692\n",
       "1      116.569145\n",
       "2       99.189194\n",
       "3       98.726097\n",
       "4       90.979523\n",
       "          ...    \n",
       "995      0.544238\n",
       "996      0.526847\n",
       "997      0.512809\n",
       "998      0.465698\n",
       "999      0.453642\n",
       "Length: 1000, dtype: float32"
      ]
     },
     "execution_count": 667,
     "metadata": {},
     "output_type": "execute_result"
    }
   ],
   "source": [
    "dsf.sum()"
   ]
  },
  {
   "cell_type": "code",
   "execution_count": 668,
   "metadata": {},
   "outputs": [],
   "source": [
    "from sklearn.preprocessing import RobustScaler"
   ]
  },
  {
   "cell_type": "code",
   "execution_count": 669,
   "metadata": {},
   "outputs": [],
   "source": [
    "RS = RobustScaler(\n",
    "    with_centering=False,\n",
    "    with_scaling=True,\n",
    "    quantile_range=(25.0, 75.0),\n",
    "    copy=True,\n",
    "    unit_variance=False,\n",
    ")"
   ]
  },
  {
   "cell_type": "code",
   "execution_count": 670,
   "metadata": {},
   "outputs": [],
   "source": [
    "dsf2 = dsf/np.sqrt((dsf**2).sum())"
   ]
  },
  {
   "cell_type": "code",
   "execution_count": 671,
   "metadata": {},
   "outputs": [
    {
     "data": {
      "text/plain": [
       "lab\n",
       "0      15.317408\n",
       "1      11.129049\n",
       "2      10.441088\n",
       "3      11.637880\n",
       "4      14.796584\n",
       "         ...    \n",
       "995    30.548052\n",
       "996    31.100914\n",
       "997    30.608913\n",
       "998    30.391745\n",
       "999    32.368301\n",
       "Length: 1000, dtype: float32"
      ]
     },
     "execution_count": 671,
     "metadata": {},
     "output_type": "execute_result"
    }
   ],
   "source": [
    "dsf2.sum()"
   ]
  },
  {
   "cell_type": "code",
   "execution_count": 672,
   "metadata": {},
   "outputs": [],
   "source": [
    "df1 = df[[PAR]]"
   ]
  },
  {
   "cell_type": "code",
   "execution_count": null,
   "metadata": {},
   "outputs": [],
   "source": []
  },
  {
   "cell_type": "code",
   "execution_count": 673,
   "metadata": {},
   "outputs": [],
   "source": [
    "df2 = df1.resample('3H').median()\n",
    "df3 = df2[~df2[PAR].isna()]"
   ]
  },
  {
   "cell_type": "code",
   "execution_count": null,
   "metadata": {},
   "outputs": [],
   "source": []
  },
  {
   "cell_type": "code",
   "execution_count": 674,
   "metadata": {
    "lines_to_next_cell": 2
   },
   "outputs": [],
   "source": [
    "dm = pd.merge(df3, dsf2, left_index=True, right_index=True, how='inner', validate=\"1:1\")"
   ]
  },
  {
   "cell_type": "code",
   "execution_count": null,
   "metadata": {},
   "outputs": [],
   "source": []
  },
  {
   "cell_type": "markdown",
   "metadata": {},
   "source": [
    "# Linear Regression"
   ]
  },
  {
   "cell_type": "code",
   "execution_count": 675,
   "metadata": {},
   "outputs": [],
   "source": [
    "from sklearn.linear_model import ElasticNetCV,ElasticNet, LinearRegression"
   ]
  },
  {
   "cell_type": "code",
   "execution_count": 676,
   "metadata": {},
   "outputs": [],
   "source": [
    "lreg = LinearRegression(\n",
    "    fit_intercept=False,\n",
    "    normalize='deprecated',\n",
    "    copy_X=True,\n",
    "    n_jobs=None,\n",
    "    positive=True,\n",
    ")"
   ]
  },
  {
   "cell_type": "code",
   "execution_count": 677,
   "metadata": {},
   "outputs": [],
   "source": [
    "X = dm[dsf2.columns]\n",
    "y = dm[PAR]\n",
    "lreg.fit(X,y)\n",
    "y_pred = lreg.predict(X)"
   ]
  },
  {
   "cell_type": "code",
   "execution_count": 678,
   "metadata": {},
   "outputs": [
    {
     "data": {
      "image/png": "[encoded data removed]",
      "text/plain": [
       "<Figure size 432x288 with 1 Axes>"
      ]
     },
     "metadata": {
      "needs_background": "light"
     },
     "output_type": "display_data"
    }
   ],
   "source": [
    "plt.scatter(y_pred,y,alpha=.1)\n",
    "ax=plt.gca()\n",
    "ax.set_xlim(0,y.quantile(.99))\n",
    "ax.set_ylim(0,y.quantile(.99))\n",
    "ax.set_aspect('equal')"
   ]
  },
  {
   "cell_type": "code",
   "execution_count": 679,
   "metadata": {},
   "outputs": [
    {
     "data": {
      "text/plain": [
       "<AxesSubplot:xlabel='time'>"
      ]
     },
     "execution_count": 679,
     "metadata": {},
     "output_type": "execute_result"
    },
    {
     "data": {
      "image/png": "[encoded data removed]",
      "text/plain": [
       "<Figure size 1440x360 with 1 Axes>"
      ]
     },
     "metadata": {
      "needs_background": "light"
     },
     "output_type": "display_data"
    }
   ],
   "source": [
    "f,ax = plt.subplots(figsize=(20,5))\n",
    "y.plot(lw=0,marker='x')\n",
    "(y*0 + y_pred).plot(lw=0,marker='v')"
   ]
  },
  {
   "cell_type": "code",
   "execution_count": 680,
   "metadata": {},
   "outputs": [],
   "source": [
    "tot_sd = (y**2).sum()**.5"
   ]
  },
  {
   "cell_type": "code",
   "execution_count": 681,
   "metadata": {},
   "outputs": [],
   "source": [
    "exp_sd = ((y-y_pred)**2).sum()**.5"
   ]
  },
  {
   "cell_type": "code",
   "execution_count": 682,
   "metadata": {},
   "outputs": [
    {
     "data": {
      "text/plain": [
       "0.5649802670699394"
      ]
     },
     "execution_count": 682,
     "metadata": {},
     "output_type": "execute_result"
    }
   ],
   "source": [
    "best_sd = exp_sd/tot_sd\n",
    "best_sd"
   ]
  },
  {
   "cell_type": "code",
   "execution_count": 683,
   "metadata": {},
   "outputs": [
    {
     "data": {
      "text/plain": [
       "0.6297685740058092"
      ]
     },
     "execution_count": 683,
     "metadata": {},
     "output_type": "execute_result"
    }
   ],
   "source": [
    "np.corrcoef(y,y_pred)[0,1]**2"
   ]
  },
  {
   "cell_type": "code",
   "execution_count": 684,
   "metadata": {},
   "outputs": [
    {
     "data": {
      "image/png": "[encoded data removed]",
      "text/plain": [
       "<Figure size 432x288 with 1 Axes>"
      ]
     },
     "metadata": {
      "needs_background": "light"
     },
     "output_type": "display_data"
    }
   ],
   "source": [
    "plt.hist(lreg.coef_,bins=40);"
   ]
  },
  {
   "cell_type": "markdown",
   "metadata": {},
   "source": [
    "# Elastic net regression cross validated\n",
    "\n",
    "$L_{\\text {enet }}(\\hat{\\beta})=\\frac{\\sum_{i=1}^{n}\\left(y_{i}-x_{i}^{\\prime} \\hat{\\beta}\\right)^{2}}{2 n}+\\lambda\\left(\\frac{1-\\alpha}{2} \\sum_{j=1}^{m} \\hat{\\beta}_{j}^{2}+\\alpha \\sum_{j=1}^{m}\\left|\\hat{\\beta}_{j}\\right|\\right)$"
   ]
  },
  {
   "cell_type": "code",
   "execution_count": 685,
   "metadata": {},
   "outputs": [],
   "source": [
    "e_reg_cv=ElasticNetCV(\n",
    "    l1_ratio=[.1,0.5,0.7,.9,.99,.999,.9999,.99999,.999999,.9999999],\n",
    "    eps=0.001,\n",
    "    n_alphas=100,\n",
    "    alphas=None,\n",
    "    fit_intercept=False,\n",
    "    normalize='deprecated',\n",
    "    precompute='auto',\n",
    "    max_iter=1000,\n",
    "    tol=0.0001,\n",
    "    cv=5,\n",
    "    copy_X=True,\n",
    "    verbose=0,\n",
    "    n_jobs=None,\n",
    "    positive=True,\n",
    "    random_state=None,\n",
    "    selection='cyclic',\n",
    ")"
   ]
  },
  {
   "cell_type": "code",
   "execution_count": 686,
   "metadata": {},
   "outputs": [],
   "source": [
    "X = dm[dsf2.columns]\n",
    "y = dm[PAR]\n",
    "e_reg_cv.fit(X,y)\n",
    "y_pred = e_reg_cv.predict(X)"
   ]
  },
  {
   "cell_type": "code",
   "execution_count": 687,
   "metadata": {},
   "outputs": [],
   "source": [
    "exp_sd = ((y-y_pred)**2).sum()**.5"
   ]
  },
  {
   "cell_type": "code",
   "execution_count": 688,
   "metadata": {},
   "outputs": [
    {
     "data": {
      "text/plain": [
       "0.7129654974941849"
      ]
     },
     "execution_count": 688,
     "metadata": {},
     "output_type": "execute_result"
    }
   ],
   "source": [
    "exp_sd/tot_sd"
   ]
  },
  {
   "cell_type": "code",
   "execution_count": 689,
   "metadata": {},
   "outputs": [
    {
     "data": {
      "text/plain": [
       "174.13010627593974"
      ]
     },
     "execution_count": 689,
     "metadata": {},
     "output_type": "execute_result"
    }
   ],
   "source": [
    "cv_a = e_reg_cv.alpha_\n",
    "cv_a"
   ]
  },
  {
   "cell_type": "code",
   "execution_count": 690,
   "metadata": {},
   "outputs": [
    {
     "data": {
      "text/plain": [
       "0.99999"
      ]
     },
     "execution_count": 690,
     "metadata": {},
     "output_type": "execute_result"
    }
   ],
   "source": [
    "cv_l1 = e_reg_cv.l1_ratio_\n",
    "cv_l1"
   ]
  },
  {
   "cell_type": "code",
   "execution_count": 691,
   "metadata": {},
   "outputs": [
    {
     "data": {
      "image/png": "[encoded data removed]",
      "text/plain": [
       "<Figure size 432x288 with 1 Axes>"
      ]
     },
     "metadata": {
      "needs_background": "light"
     },
     "output_type": "display_data"
    }
   ],
   "source": [
    "plt.hist(e_reg_cv.coef_,bins=40);"
   ]
  },
  {
   "cell_type": "code",
   "execution_count": 692,
   "metadata": {},
   "outputs": [
    {
     "data": {
      "image/png": "[encoded data removed]",
      "text/plain": [
       "<Figure size 432x288 with 1 Axes>"
      ]
     },
     "metadata": {
      "needs_background": "light"
     },
     "output_type": "display_data"
    }
   ],
   "source": [
    "plt.scatter(y_pred,y,alpha=.1)\n",
    "ax=plt.gca()\n",
    "ax.set_xlim(0,y.quantile(.99))\n",
    "ax.set_ylim(0,y.quantile(.99))\n",
    "ax.set_aspect('equal')"
   ]
  },
  {
   "cell_type": "code",
   "execution_count": 693,
   "metadata": {},
   "outputs": [
    {
     "data": {
      "text/plain": [
       "<AxesSubplot:xlabel='time'>"
      ]
     },
     "execution_count": 693,
     "metadata": {},
     "output_type": "execute_result"
    },
    {
     "data": {
      "image/png": "[encoded data removed]",
      "text/plain": [
       "<Figure size 1440x360 with 1 Axes>"
      ]
     },
     "metadata": {
      "needs_background": "light"
     },
     "output_type": "display_data"
    }
   ],
   "source": [
    "f,ax = plt.subplots(figsize=(20,5))\n",
    "y.plot(lw=0,marker='x',alpha=.5)\n",
    "(y*0 + y_pred).plot(lw=0,marker='v',alpha=.5)"
   ]
  },
  {
   "cell_type": "markdown",
   "metadata": {},
   "source": [
    "alpha = a + b and l1_ratio = a / (a + b)"
   ]
  },
  {
   "cell_type": "code",
   "execution_count": 694,
   "metadata": {},
   "outputs": [
    {
     "data": {
      "text/plain": [
       "174.13010627593974"
      ]
     },
     "execution_count": 694,
     "metadata": {},
     "output_type": "execute_result"
    }
   ],
   "source": [
    "cv_a"
   ]
  },
  {
   "cell_type": "code",
   "execution_count": 695,
   "metadata": {},
   "outputs": [
    {
     "data": {
      "text/plain": [
       "0.0017413010627514726"
      ]
     },
     "execution_count": 695,
     "metadata": {},
     "output_type": "execute_result"
    }
   ],
   "source": [
    "B = cv_a * (1-cv_l1)\n",
    "B"
   ]
  },
  {
   "cell_type": "code",
   "execution_count": 696,
   "metadata": {},
   "outputs": [
    {
     "data": {
      "text/plain": [
       "174.12836497487697"
      ]
     },
     "execution_count": 696,
     "metadata": {},
     "output_type": "execute_result"
    }
   ],
   "source": [
    "A = cv_a - B\n",
    "A"
   ]
  },
  {
   "cell_type": "code",
   "execution_count": null,
   "metadata": {},
   "outputs": [],
   "source": []
  },
  {
   "cell_type": "markdown",
   "metadata": {},
   "source": [
    "# selection"
   ]
  },
  {
   "cell_type": "code",
   "execution_count": 697,
   "metadata": {
    "lines_to_next_cell": 0
   },
   "outputs": [],
   "source": [
    "def elastic_net(_a, _l1, dsf2, dm, PAR,tot_sd):\n",
    "    e_reg = ElasticNet(\n",
    "        alpha=_a,\n",
    "        l1_ratio=_l1,\n",
    "        fit_intercept=False,\n",
    "        normalize='deprecated',\n",
    "        precompute=False,\n",
    "        max_iter=10000,\n",
    "        copy_X=True,\n",
    "        tol=0.0001,\n",
    "        warm_start=False,\n",
    "        positive=True,\n",
    "        random_state=None,\n",
    "        selection='cyclic',\n",
    "    )\n",
    "\n",
    "    X = dm[dsf2.columns]\n",
    "    y = dm[PAR]\n",
    "    e_reg.fit(X, y)\n",
    "    y_pred = e_reg.predict(X)\n",
    "\n",
    "\n",
    "\n",
    "    exp_sd = ((y - y_pred) ** 2).sum() ** .5\n",
    "\n",
    "    ratio = exp_sd / tot_sd\n",
    "\n",
    "    coef = X.sum().T * 0 + e_reg.coef_\n",
    "    return coef, ratio, exp_sd"
   ]
  },
  {
   "cell_type": "code",
   "execution_count": 698,
   "metadata": {},
   "outputs": [],
   "source": [
    "g = []\n",
    "def to_min(fac):\n",
    "    global g \n",
    "\n",
    "    nA = fac*A\n",
    "\n",
    "    _a = B + nA \n",
    "\n",
    "    _l1 = nA/(nA + B)\n",
    "\n",
    "\n",
    "    coef, ratio, exp_sd = elastic_net(_a, _l1, dsf2, dm, PAR,tot_sd)\n",
    "#     print(ratio)\n",
    "    g.append([ratio,fac])\n",
    "\n",
    "    return np.abs(ratio - .999)"
   ]
  },
  {
   "cell_type": "code",
   "execution_count": 699,
   "metadata": {},
   "outputs": [],
   "source": [
    "from scipy.optimize import minimize_scalar"
   ]
  },
  {
   "cell_type": "code",
   "execution_count": 703,
   "metadata": {
    "tags": []
   },
   "outputs": [],
   "source": [
    "res = minimize_scalar(to_min,method='Bounded',bounds=(1,300))"
   ]
  },
  {
   "cell_type": "code",
   "execution_count": 704,
   "metadata": {},
   "outputs": [
    {
     "data": {
      "text/plain": [
       "[[0.9878276692016555, 229.79764073881296],\n",
       " [1.0, 371.202359261187],\n",
       " [1.0, 458.5952814776259],\n",
       " [1.0, 414.89882036940645],\n",
       " [1.0, 398.2082574141545],\n",
       " [1.0, 387.89292221643893],\n",
       " [1.0, 381.51769445890255],\n",
       " [1.0, 377.5775870187233],\n",
       " [1.0, 375.14246670136623],\n",
       " [1.0, 373.6374795785441],\n",
       " [1.0, 372.7073463840091],\n",
       " [1.0, 372.13249245572194],\n",
       " [1.0, 371.7772131894741],\n",
       " [1.0, 371.5576385274348],\n",
       " [1.0, 371.4219339232263],\n",
       " [1.0, 371.33806386539555],\n",
       " [1.0, 371.2862293190177],\n",
       " [1.0, 371.2541938075648],\n",
       " [1.0, 371.2343947726399],\n",
       " [1.0, 371.2221582961119],\n",
       " [1.0, 371.214595737715],\n",
       " [1.0, 371.2099218195838],\n",
       " [1.0, 371.20703317931816],\n",
       " [1.0, 371.2052479014527],\n",
       " [1.0, 371.2041445390525],\n",
       " [1.0, 371.20346262358726],\n",
       " [1.0, 371.2030411766523],\n",
       " [1.0, 371.20278070812196],\n",
       " [1.0, 371.20261972971724],\n",
       " [1.0, 371.2025202395917],\n",
       " [1.0, 371.2024587513126],\n",
       " [1.0, 371.20242074946617],\n",
       " [1.0, 371.20239726303345],\n",
       " [1.0, 371.2023827476197],\n",
       " [1.0, 371.20237377660067],\n",
       " [0.8737222286187805, 115.20783736378142],\n",
       " [0.9605600426241467, 185.79216263621853],\n",
       " [0.9876721007852517, 229.41567472756287],\n",
       " [0.9968025011557513, 265.9020866157599],\n",
       " [0.9985995444459953, 274.65721153253753],\n",
       " [0.9999481755825917, 284.33729535740935],\n",
       " [0.9991858263809749, 277.50536793737155],\n",
       " [0.9992484034053124, 278.03231865407474],\n",
       " [0.9990274668664865, 276.73642935969343],\n",
       " [0.9988639581476164, 275.9422388197346],\n",
       " [0.9990099066442776, 276.6511585567485],\n",
       " [0.9989748214000146, 276.4807590745099],\n",
       " [0.9989965028738341, 276.58607174619874],\n",
       " [0.9989975279730494, 276.5910479802156],\n",
       " [0.9990012053821294, 276.60889437384026],\n",
       " [0.9990045284945415, 276.6250378552045],\n",
       " [0.9990006012568672, 276.6059694819506],\n",
       " [0.998999757697612, 276.6018792326932],\n",
       " [0.9989996512833208, 276.6013330143062],\n",
       " [0.9990000301690516, 276.60320439871685],\n",
       " [0.9990002484537381, 276.6042605665304],\n",
       " [0.9990000021282724, 276.60306151346657],\n",
       " [0.9989999497677957, 276.6028073863231],\n",
       " [0.998999995255782, 276.6030319122262],\n",
       " [0.9990000056206838, 276.60307349089715],\n",
       " [0.9989999987328306, 276.6030515481822],\n",
       " [0.9989999986414844, 276.6030441121626]]"
      ]
     },
     "execution_count": 704,
     "metadata": {},
     "output_type": "execute_result"
    }
   ],
   "source": [
    "g"
   ]
  },
  {
   "cell_type": "code",
   "execution_count": 705,
   "metadata": {},
   "outputs": [
    {
     "data": {
      "text/plain": [
       "     fun: 1.2671693694343844e-09\n",
       " message: 'Solution found.'\n",
       "    nfev: 27\n",
       "  status: 0\n",
       " success: True\n",
       "       x: 276.6030515481822"
      ]
     },
     "execution_count": 705,
     "metadata": {},
     "output_type": "execute_result"
    }
   ],
   "source": [
    "res"
   ]
  },
  {
   "cell_type": "code",
   "execution_count": 706,
   "metadata": {},
   "outputs": [],
   "source": [
    "aas = np.linspace(1,res.x,100)"
   ]
  },
  {
   "cell_type": "code",
   "execution_count": 707,
   "metadata": {},
   "outputs": [],
   "source": [
    "coef, ratio, exp_sd = elastic_net(_a, _l1, dsf2, dm, PAR,tot_sd)"
   ]
  },
  {
   "cell_type": "code",
   "execution_count": 708,
   "metadata": {
    "tags": []
   },
   "outputs": [],
   "source": [
    "dic = {}\n",
    "for aa in aas[::-1]:\n",
    "#     print(aa)\n",
    "    d2 = {}\n",
    "    nA = aa * A\n",
    "#     print(aa)\n",
    "\n",
    "    _a = B + nA \n",
    "\n",
    "    _l1 = nA/(nA + B)\n",
    "\n",
    "\n",
    "    coef, ratio, exp_sd = elastic_net(_a, _l1, dsf2, dm, PAR,tot_sd)\n",
    "\n",
    "#     inn=coef[coef>0].index\n",
    "\n",
    "\n",
    "#     e_reg_cv=ElasticNetCV(\n",
    "#         l1_ratio=0.001,\n",
    "#         eps=0.001,\n",
    "#     #     n_alphas=100,\n",
    "#         alphas=[.0001,.001,.01,.1,1,10,100,1000,10000],\n",
    "#         fit_intercept=False,\n",
    "#         normalize='deprecated',\n",
    "#         precompute='auto',\n",
    "#         max_iter=10000000,\n",
    "#         tol=0.0001,\n",
    "#         cv=5,\n",
    "#         copy_X=True,\n",
    "#         verbose=0,\n",
    "#         n_jobs=None,\n",
    "#         positive=True,\n",
    "#         random_state=None,\n",
    "#         selection='cyclic',\n",
    "#     )\n",
    "\n",
    "#     X = dm[inn]\n",
    "#     y = dm[PAR]\n",
    "#     e_reg_cv.fit(X, y)\n",
    "#     y_pred = e_reg_cv.predict(X)\n",
    "\n",
    "#     exp_sd = ((y - y_pred) ** 2).sum() ** .5\n",
    "\n",
    "#     ratio = exp_sd / tot_sd\n",
    "\n",
    "#     coef = X.sum().T * 0 + e_reg_cv.coef_\n",
    "\n",
    "    d2['coef'] = coef\n",
    "    d2['ratio'] = ratio\n",
    "    d2['exp_sd'] = exp_sd\n",
    "    dic[aa] = d2\n",
    "        \n"
   ]
  },
  {
   "cell_type": "code",
   "execution_count": 709,
   "metadata": {},
   "outputs": [],
   "source": [
    "dk = {}\n",
    "for k,r in dic.items():\n",
    "    dk[k] = r['coef'].to_dict()\n",
    "ddf = pd.DataFrame(dk).T"
   ]
  },
  {
   "cell_type": "code",
   "execution_count": null,
   "metadata": {},
   "outputs": [],
   "source": []
  },
  {
   "cell_type": "code",
   "execution_count": 710,
   "metadata": {},
   "outputs": [
    {
     "data": {
      "image/png": "[encoded data removed]",
      "text/plain": [
       "<Figure size 432x288 with 1 Axes>"
      ]
     },
     "metadata": {
      "needs_background": "light"
     },
     "output_type": "display_data"
    }
   ],
   "source": [
    "\n",
    "ddf.plot.area()\n",
    "ax = plt.gca()\n",
    "ax.get_legend().remove()"
   ]
  },
  {
   "cell_type": "code",
   "execution_count": 711,
   "metadata": {},
   "outputs": [
    {
     "data": {
      "text/plain": [
       "<AxesSubplot:>"
      ]
     },
     "execution_count": 711,
     "metadata": {},
     "output_type": "execute_result"
    },
    {
     "data": {
      "image/png": "[encoded data removed]",
      "text/plain": [
       "<Figure size 432x288 with 1 Axes>"
      ]
     },
     "metadata": {
      "needs_background": "light"
     },
     "output_type": "display_data"
    }
   ],
   "source": [
    "dk = {}\n",
    "for k,r in dic.items():\n",
    "    dk[k] = 1-r['ratio']\n",
    "pd.Series(dk).plot()"
   ]
  },
  {
   "cell_type": "code",
   "execution_count": 712,
   "metadata": {},
   "outputs": [],
   "source": [
    "dk = {}\n",
    "for k,r in dic.items():\n",
    "    dk[1-dic[k]['ratio']] = r['coef'].to_dict()\n",
    "ddf = pd.DataFrame(dk).T"
   ]
  },
  {
   "cell_type": "code",
   "execution_count": null,
   "metadata": {},
   "outputs": [],
   "source": []
  },
  {
   "cell_type": "code",
   "execution_count": 713,
   "metadata": {},
   "outputs": [],
   "source": [
    "la = []\n",
    "rr = []\n",
    "# lr = {0.1+i/100000:0 for i in range(1,100)}\n",
    "lr = {0:0}\n",
    "# lr = {}\n",
    "for l,r in ddf[::].iterrows():\n",
    "    ii = r[r>0].index\n",
    "    bo = ~ii.isin(la)\n",
    "    la = [*la,*list(ii[bo])]\n",
    "    rr = [*rr,*r[list(ii[bo])].values]\n",
    "    lr[len(la)] = l\n",
    "#     if len(la)>37: break\n",
    "    \n",
    "    "
   ]
  },
  {
   "cell_type": "code",
   "execution_count": 714,
   "metadata": {},
   "outputs": [],
   "source": [
    "n_sd = pd.Series(lr)"
   ]
  },
  {
   "cell_type": "code",
   "execution_count": 715,
   "metadata": {},
   "outputs": [
    {
     "data": {
      "text/plain": [
       "0      0.000000\n",
       "2      0.006692\n",
       "3      0.011302\n",
       "5      0.013517\n",
       "6      0.014710\n",
       "         ...   \n",
       "297    0.277439\n",
       "309    0.280154\n",
       "323    0.282676\n",
       "342    0.284973\n",
       "364    0.287035\n",
       "Length: 76, dtype: float64"
      ]
     },
     "execution_count": 715,
     "metadata": {},
     "output_type": "execute_result"
    }
   ],
   "source": [
    "n_sd"
   ]
  },
  {
   "cell_type": "code",
   "execution_count": 716,
   "metadata": {},
   "outputs": [
    {
     "name": "stderr",
     "output_type": "stream",
     "text": [
      "/Users/aliaga/miniforge3/envs/q5/lib/python3.9/site-packages/pygam/pygam.py:752: RuntimeWarning: divide by zero encountered in reciprocal\n",
      "  np.fill_diagonal(Dinv, d**-1) # invert the singular values\n"
     ]
    }
   ],
   "source": [
    "from pygam import LinearGAM, s\n",
    "\n",
    "# X = np.log10(n_sd.reset_index()[['index']])\n",
    "X = (n_sd.reset_index()[['index']])\n",
    "y = n_sd\n",
    "\n",
    "gam1 = LinearGAM(s(0, constraints='concave',n_splines=20,spline_order=3)).fit(X, y)\n",
    "# gam1 = LinearGAM(s(0,n_splines=20,spline_order=3)).fit(X, y)"
   ]
  },
  {
   "cell_type": "code",
   "execution_count": 717,
   "metadata": {},
   "outputs": [],
   "source": [
    "X1=10**X\n",
    "X1=X"
   ]
  },
  {
   "cell_type": "code",
   "execution_count": 718,
   "metadata": {},
   "outputs": [
    {
     "data": {
      "text/plain": [
       "[<matplotlib.lines.Line2D at 0x2a3bd5730>]"
      ]
     },
     "execution_count": 718,
     "metadata": {},
     "output_type": "execute_result"
    },
    {
     "data": {
      "image/png": "[encoded data removed]",
      "text/plain": [
       "<Figure size 432x288 with 2 Axes>"
      ]
     },
     "metadata": {
      "needs_background": "light"
     },
     "output_type": "display_data"
    }
   ],
   "source": [
    "f,ax = plt.subplots()\n",
    "ax.plot(X1,n_sd,lw=0,marker='x')\n",
    "ax.plot(X1,gam1.predict(X))\n",
    "\n",
    "def ffit(x): \n",
    "#     if x ==0:\n",
    "#         return 0\n",
    "#     else:\n",
    "#         return gam1.predict([x])[0]\n",
    "    return gam1.predict([x])[0]\n",
    "\n",
    "from scipy.misc import derivative\n",
    "\n",
    "x = np.arange(0,500,1)\n",
    "\n",
    "y = [derivative(ffit,_) for _ in x ]\n",
    "\n",
    "axx = ax.twinx()\n",
    "axx.plot(x,y,lw=1,marker='o')\n",
    "# axx.set_yscale('log')"
   ]
  },
  {
   "cell_type": "code",
   "execution_count": null,
   "metadata": {},
   "outputs": [],
   "source": []
  },
  {
   "cell_type": "code",
   "execution_count": 719,
   "metadata": {},
   "outputs": [],
   "source": [
    "ni = pd.Series(rr,index=la)"
   ]
  },
  {
   "cell_type": "code",
   "execution_count": null,
   "metadata": {},
   "outputs": [],
   "source": []
  },
  {
   "cell_type": "code",
   "execution_count": 720,
   "metadata": {},
   "outputs": [],
   "source": [
    "ni1 = ni[::-1].reset_index().reset_index().set_index('index')['level_0'].to_dict()\n",
    "ni1 = ni[::].reset_index().reset_index().set_index('index')['level_0'].to_dict()"
   ]
  },
  {
   "cell_type": "code",
   "execution_count": 721,
   "metadata": {},
   "outputs": [],
   "source": [
    "ni2 = {i:derivative(ffit,_)  for i,_ in ni1.items()}\n",
    "ni2 = {i:ffit(_)  for i,_ in ni1.items()}"
   ]
  },
  {
   "cell_type": "code",
   "execution_count": 722,
   "metadata": {},
   "outputs": [],
   "source": [
    "_ds = ds['lab'].to_series()"
   ]
  },
  {
   "cell_type": "code",
   "execution_count": 723,
   "metadata": {},
   "outputs": [],
   "source": [
    "_ds1 = _ds.where(_ds.isin(ni2)).replace(ni2).to_xarray()"
   ]
  },
  {
   "cell_type": "code",
   "execution_count": 724,
   "metadata": {},
   "outputs": [
    {
     "data": {
      "text/html": [
       "<div><svg style=\"position: absolute; width: 0; height: 0; overflow: hidden\">\n",
       "<defs>\n",
       "<symbol id=\"icon-database\" viewBox=\"0 0 32 32\">\n",
       "<path d=\"M16 0c-8.837 0-16 2.239-16 5v4c0 2.761 7.163 5 16 5s16-2.239 16-5v-4c0-2.761-7.163-5-16-5z\"></path>\n",
       "<path d=\"M16 17c-8.837 0-16-2.239-16-5v6c0 2.761 7.163 5 16 5s16-2.239 16-5v-6c0 2.761-7.163 5-16 5z\"></path>\n",
       "<path d=\"M16 26c-8.837 0-16-2.239-16-5v6c0 2.761 7.163 5 16 5s16-2.239 16-5v-6c0 2.761-7.163 5-16 5z\"></path>\n",
       "</symbol>\n",
       "<symbol id=\"icon-file-text2\" viewBox=\"0 0 32 32\">\n",
       "<path d=\"M28.681 7.159c-0.694-0.947-1.662-2.053-2.724-3.116s-2.169-2.030-3.116-2.724c-1.612-1.182-2.393-1.319-2.841-1.319h-15.5c-1.378 0-2.5 1.121-2.5 2.5v27c0 1.378 1.122 2.5 2.5 2.5h23c1.378 0 2.5-1.122 2.5-2.5v-19.5c0-0.448-0.137-1.23-1.319-2.841zM24.543 5.457c0.959 0.959 1.712 1.825 2.268 2.543h-4.811v-4.811c0.718 0.556 1.584 1.309 2.543 2.268zM28 29.5c0 0.271-0.229 0.5-0.5 0.5h-23c-0.271 0-0.5-0.229-0.5-0.5v-27c0-0.271 0.229-0.5 0.5-0.5 0 0 15.499-0 15.5 0v7c0 0.552 0.448 1 1 1h7v19.5z\"></path>\n",
       "<path d=\"M23 26h-14c-0.552 0-1-0.448-1-1s0.448-1 1-1h14c0.552 0 1 0.448 1 1s-0.448 1-1 1z\"></path>\n",
       "<path d=\"M23 22h-14c-0.552 0-1-0.448-1-1s0.448-1 1-1h14c0.552 0 1 0.448 1 1s-0.448 1-1 1z\"></path>\n",
       "<path d=\"M23 18h-14c-0.552 0-1-0.448-1-1s0.448-1 1-1h14c0.552 0 1 0.448 1 1s-0.448 1-1 1z\"></path>\n",
       "</symbol>\n",
       "</defs>\n",
       "</svg>\n",
       "<style>/* CSS stylesheet for displaying xarray objects in jupyterlab.\n",
       " *\n",
       " */\n",
       "\n",
       ":root {\n",
       "  --xr-font-color0: var(--jp-content-font-color0, rgba(0, 0, 0, 1));\n",
       "  --xr-font-color2: var(--jp-content-font-color2, rgba(0, 0, 0, 0.54));\n",
       "  --xr-font-color3: var(--jp-content-font-color3, rgba(0, 0, 0, 0.38));\n",
       "  --xr-border-color: var(--jp-border-color2, #e0e0e0);\n",
       "  --xr-disabled-color: var(--jp-layout-color3, #bdbdbd);\n",
       "  --xr-background-color: var(--jp-layout-color0, white);\n",
       "  --xr-background-color-row-even: var(--jp-layout-color1, white);\n",
       "  --xr-background-color-row-odd: var(--jp-layout-color2, #eeeeee);\n",
       "}\n",
       "\n",
       "html[theme=dark],\n",
       "body.vscode-dark {\n",
       "  --xr-font-color0: rgba(255, 255, 255, 1);\n",
       "  --xr-font-color2: rgba(255, 255, 255, 0.54);\n",
       "  --xr-font-color3: rgba(255, 255, 255, 0.38);\n",
       "  --xr-border-color: #1F1F1F;\n",
       "  --xr-disabled-color: #515151;\n",
       "  --xr-background-color: #111111;\n",
       "  --xr-background-color-row-even: #111111;\n",
       "  --xr-background-color-row-odd: #313131;\n",
       "}\n",
       "\n",
       ".xr-wrap {\n",
       "  display: block;\n",
       "  min-width: 300px;\n",
       "  max-width: 700px;\n",
       "}\n",
       "\n",
       ".xr-text-repr-fallback {\n",
       "  /* fallback to plain text repr when CSS is not injected (untrusted notebook) */\n",
       "  display: none;\n",
       "}\n",
       "\n",
       ".xr-header {\n",
       "  padding-top: 6px;\n",
       "  padding-bottom: 6px;\n",
       "  margin-bottom: 4px;\n",
       "  border-bottom: solid 1px var(--xr-border-color);\n",
       "}\n",
       "\n",
       ".xr-header > div,\n",
       ".xr-header > ul {\n",
       "  display: inline;\n",
       "  margin-top: 0;\n",
       "  margin-bottom: 0;\n",
       "}\n",
       "\n",
       ".xr-obj-type,\n",
       ".xr-array-name {\n",
       "  margin-left: 2px;\n",
       "  margin-right: 10px;\n",
       "}\n",
       "\n",
       ".xr-obj-type {\n",
       "  color: var(--xr-font-color2);\n",
       "}\n",
       "\n",
       ".xr-sections {\n",
       "  padding-left: 0 !important;\n",
       "  display: grid;\n",
       "  grid-template-columns: 150px auto auto 1fr 20px 20px;\n",
       "}\n",
       "\n",
       ".xr-section-item {\n",
       "  display: contents;\n",
       "}\n",
       "\n",
       ".xr-section-item input {\n",
       "  display: none;\n",
       "}\n",
       "\n",
       ".xr-section-item input + label {\n",
       "  color: var(--xr-disabled-color);\n",
       "}\n",
       "\n",
       ".xr-section-item input:enabled + label {\n",
       "  cursor: pointer;\n",
       "  color: var(--xr-font-color2);\n",
       "}\n",
       "\n",
       ".xr-section-item input:enabled + label:hover {\n",
       "  color: var(--xr-font-color0);\n",
       "}\n",
       "\n",
       ".xr-section-summary {\n",
       "  grid-column: 1;\n",
       "  color: var(--xr-font-color2);\n",
       "  font-weight: 500;\n",
       "}\n",
       "\n",
       ".xr-section-summary > span {\n",
       "  display: inline-block;\n",
       "  padding-left: 0.5em;\n",
       "}\n",
       "\n",
       ".xr-section-summary-in:disabled + label {\n",
       "  color: var(--xr-font-color2);\n",
       "}\n",
       "\n",
       ".xr-section-summary-in + label:before {\n",
       "  display: inline-block;\n",
       "  content: '►';\n",
       "  font-size: 11px;\n",
       "  width: 15px;\n",
       "  text-align: center;\n",
       "}\n",
       "\n",
       ".xr-section-summary-in:disabled + label:before {\n",
       "  color: var(--xr-disabled-color);\n",
       "}\n",
       "\n",
       ".xr-section-summary-in:checked + label:before {\n",
       "  content: '▼';\n",
       "}\n",
       "\n",
       ".xr-section-summary-in:checked + label > span {\n",
       "  display: none;\n",
       "}\n",
       "\n",
       ".xr-section-summary,\n",
       ".xr-section-inline-details {\n",
       "  padding-top: 4px;\n",
       "  padding-bottom: 4px;\n",
       "}\n",
       "\n",
       ".xr-section-inline-details {\n",
       "  grid-column: 2 / -1;\n",
       "}\n",
       "\n",
       ".xr-section-details {\n",
       "  display: none;\n",
       "  grid-column: 1 / -1;\n",
       "  margin-bottom: 5px;\n",
       "}\n",
       "\n",
       ".xr-section-summary-in:checked ~ .xr-section-details {\n",
       "  display: contents;\n",
       "}\n",
       "\n",
       ".xr-array-wrap {\n",
       "  grid-column: 1 / -1;\n",
       "  display: grid;\n",
       "  grid-template-columns: 20px auto;\n",
       "}\n",
       "\n",
       ".xr-array-wrap > label {\n",
       "  grid-column: 1;\n",
       "  vertical-align: top;\n",
       "}\n",
       "\n",
       ".xr-preview {\n",
       "  color: var(--xr-font-color3);\n",
       "}\n",
       "\n",
       ".xr-array-preview,\n",
       ".xr-array-data {\n",
       "  padding: 0 5px !important;\n",
       "  grid-column: 2;\n",
       "}\n",
       "\n",
       ".xr-array-data,\n",
       ".xr-array-in:checked ~ .xr-array-preview {\n",
       "  display: none;\n",
       "}\n",
       "\n",
       ".xr-array-in:checked ~ .xr-array-data,\n",
       ".xr-array-preview {\n",
       "  display: inline-block;\n",
       "}\n",
       "\n",
       ".xr-dim-list {\n",
       "  display: inline-block !important;\n",
       "  list-style: none;\n",
       "  padding: 0 !important;\n",
       "  margin: 0;\n",
       "}\n",
       "\n",
       ".xr-dim-list li {\n",
       "  display: inline-block;\n",
       "  padding: 0;\n",
       "  margin: 0;\n",
       "}\n",
       "\n",
       ".xr-dim-list:before {\n",
       "  content: '(';\n",
       "}\n",
       "\n",
       ".xr-dim-list:after {\n",
       "  content: ')';\n",
       "}\n",
       "\n",
       ".xr-dim-list li:not(:last-child):after {\n",
       "  content: ',';\n",
       "  padding-right: 5px;\n",
       "}\n",
       "\n",
       ".xr-has-index {\n",
       "  font-weight: bold;\n",
       "}\n",
       "\n",
       ".xr-var-list,\n",
       ".xr-var-item {\n",
       "  display: contents;\n",
       "}\n",
       "\n",
       ".xr-var-item > div,\n",
       ".xr-var-item label,\n",
       ".xr-var-item > .xr-var-name span {\n",
       "  background-color: var(--xr-background-color-row-even);\n",
       "  margin-bottom: 0;\n",
       "}\n",
       "\n",
       ".xr-var-item > .xr-var-name:hover span {\n",
       "  padding-right: 5px;\n",
       "}\n",
       "\n",
       ".xr-var-list > li:nth-child(odd) > div,\n",
       ".xr-var-list > li:nth-child(odd) > label,\n",
       ".xr-var-list > li:nth-child(odd) > .xr-var-name span {\n",
       "  background-color: var(--xr-background-color-row-odd);\n",
       "}\n",
       "\n",
       ".xr-var-name {\n",
       "  grid-column: 1;\n",
       "}\n",
       "\n",
       ".xr-var-dims {\n",
       "  grid-column: 2;\n",
       "}\n",
       "\n",
       ".xr-var-dtype {\n",
       "  grid-column: 3;\n",
       "  text-align: right;\n",
       "  color: var(--xr-font-color2);\n",
       "}\n",
       "\n",
       ".xr-var-preview {\n",
       "  grid-column: 4;\n",
       "}\n",
       "\n",
       ".xr-var-name,\n",
       ".xr-var-dims,\n",
       ".xr-var-dtype,\n",
       ".xr-preview,\n",
       ".xr-attrs dt {\n",
       "  white-space: nowrap;\n",
       "  overflow: hidden;\n",
       "  text-overflow: ellipsis;\n",
       "  padding-right: 10px;\n",
       "}\n",
       "\n",
       ".xr-var-name:hover,\n",
       ".xr-var-dims:hover,\n",
       ".xr-var-dtype:hover,\n",
       ".xr-attrs dt:hover {\n",
       "  overflow: visible;\n",
       "  width: auto;\n",
       "  z-index: 1;\n",
       "}\n",
       "\n",
       ".xr-var-attrs,\n",
       ".xr-var-data {\n",
       "  display: none;\n",
       "  background-color: var(--xr-background-color) !important;\n",
       "  padding-bottom: 5px !important;\n",
       "}\n",
       "\n",
       ".xr-var-attrs-in:checked ~ .xr-var-attrs,\n",
       ".xr-var-data-in:checked ~ .xr-var-data {\n",
       "  display: block;\n",
       "}\n",
       "\n",
       ".xr-var-data > table {\n",
       "  float: right;\n",
       "}\n",
       "\n",
       ".xr-var-name span,\n",
       ".xr-var-data,\n",
       ".xr-attrs {\n",
       "  padding-left: 25px !important;\n",
       "}\n",
       "\n",
       ".xr-attrs,\n",
       ".xr-var-attrs,\n",
       ".xr-var-data {\n",
       "  grid-column: 1 / -1;\n",
       "}\n",
       "\n",
       "dl.xr-attrs {\n",
       "  padding: 0;\n",
       "  margin: 0;\n",
       "  display: grid;\n",
       "  grid-template-columns: 125px auto;\n",
       "}\n",
       "\n",
       ".xr-attrs dt,\n",
       ".xr-attrs dd {\n",
       "  padding: 0;\n",
       "  margin: 0;\n",
       "  float: left;\n",
       "  padding-right: 10px;\n",
       "  width: auto;\n",
       "}\n",
       "\n",
       ".xr-attrs dt {\n",
       "  font-weight: normal;\n",
       "  grid-column: 1;\n",
       "}\n",
       "\n",
       ".xr-attrs dt:hover span {\n",
       "  display: inline-block;\n",
       "  background: var(--xr-background-color);\n",
       "  padding-right: 10px;\n",
       "}\n",
       "\n",
       ".xr-attrs dd {\n",
       "  grid-column: 2;\n",
       "  white-space: pre-wrap;\n",
       "  word-break: break-all;\n",
       "}\n",
       "\n",
       ".xr-icon-database,\n",
       ".xr-icon-file-text2 {\n",
       "  display: inline-block;\n",
       "  vertical-align: middle;\n",
       "  width: 1em;\n",
       "  height: 1.5em !important;\n",
       "  stroke-width: 0;\n",
       "  stroke: currentColor;\n",
       "  fill: currentColor;\n",
       "}\n",
       "</style><pre class='xr-text-repr-fallback'>&lt;xarray.DataArray &#x27;lab&#x27; (lat: 24, lon: 72)&gt;\n",
       "array([[0.05755318,        nan, 0.05354802, ..., 0.02342172, 0.00534328,\n",
       "        0.26490624],\n",
       "       [0.05755318,        nan, 0.17116162, ..., 0.02342172, 0.04752628,\n",
       "        0.26490624],\n",
       "       [0.05955124, 0.11012841, 0.14928103, ...,        nan, 0.04752628,\n",
       "               nan],\n",
       "       ...,\n",
       "       [       nan,        nan,        nan, ...,        nan,        nan,\n",
       "               nan],\n",
       "       [0.28523569, 0.28523569, 0.28523569, ..., 0.26158835, 0.28565929,\n",
       "        0.28565929],\n",
       "       [0.2697172 ,        nan,        nan, ..., 0.2697172 , 0.2697172 ,\n",
       "        0.2697172 ]])\n",
       "Coordinates:\n",
       "  * lat      (lat) float64 60.62 61.88 63.12 64.38 ... 85.62 86.88 88.12 89.38\n",
       "  * lon      (lon) float64 2.5 7.5 12.5 17.5 22.5 ... 342.5 347.5 352.5 357.5</pre><div class='xr-wrap' hidden><div class='xr-header'><div class='xr-obj-type'>xarray.DataArray</div><div class='xr-array-name'>'lab'</div><ul class='xr-dim-list'><li><span class='xr-has-index'>lat</span>: 24</li><li><span class='xr-has-index'>lon</span>: 72</li></ul></div><ul class='xr-sections'><li class='xr-section-item'><div class='xr-array-wrap'><input id='section-1e41f7e3-f3ba-424e-814c-2237bde7c28b' class='xr-array-in' type='checkbox' checked><label for='section-1e41f7e3-f3ba-424e-814c-2237bde7c28b' title='Show/hide data repr'><svg class='icon xr-icon-database'><use xlink:href='#icon-database'></use></svg></label><div class='xr-array-preview xr-preview'><span>0.05755 nan 0.05355 0.09795 0.0415 ... 0.2697 0.2697 0.2697 0.2697</span></div><div class='xr-array-data'><pre>array([[0.05755318,        nan, 0.05354802, ..., 0.02342172, 0.00534328,\n",
       "        0.26490624],\n",
       "       [0.05755318,        nan, 0.17116162, ..., 0.02342172, 0.04752628,\n",
       "        0.26490624],\n",
       "       [0.05955124, 0.11012841, 0.14928103, ...,        nan, 0.04752628,\n",
       "               nan],\n",
       "       ...,\n",
       "       [       nan,        nan,        nan, ...,        nan,        nan,\n",
       "               nan],\n",
       "       [0.28523569, 0.28523569, 0.28523569, ..., 0.26158835, 0.28565929,\n",
       "        0.28565929],\n",
       "       [0.2697172 ,        nan,        nan, ..., 0.2697172 , 0.2697172 ,\n",
       "        0.2697172 ]])</pre></div></div></li><li class='xr-section-item'><input id='section-d3f47c17-e417-4287-9139-647071798a23' class='xr-section-summary-in' type='checkbox'  checked><label for='section-d3f47c17-e417-4287-9139-647071798a23' class='xr-section-summary' >Coordinates: <span>(2)</span></label><div class='xr-section-inline-details'></div><div class='xr-section-details'><ul class='xr-var-list'><li class='xr-var-item'><div class='xr-var-name'><span class='xr-has-index'>lat</span></div><div class='xr-var-dims'>(lat)</div><div class='xr-var-dtype'>float64</div><div class='xr-var-preview xr-preview'>60.62 61.88 63.12 ... 88.12 89.38</div><input id='attrs-be82df8a-8cab-4135-b6cd-305aa08e6138' class='xr-var-attrs-in' type='checkbox' disabled><label for='attrs-be82df8a-8cab-4135-b6cd-305aa08e6138' title='Show/Hide attributes'><svg class='icon xr-icon-file-text2'><use xlink:href='#icon-file-text2'></use></svg></label><input id='data-20da2bf9-13ac-4b76-b76c-29a72c2f6e30' class='xr-var-data-in' type='checkbox'><label for='data-20da2bf9-13ac-4b76-b76c-29a72c2f6e30' title='Show/Hide data repr'><svg class='icon xr-icon-database'><use xlink:href='#icon-database'></use></svg></label><div class='xr-var-attrs'><dl class='xr-attrs'></dl></div><div class='xr-var-data'><pre>array([60.625, 61.875, 63.125, 64.375, 65.625, 66.875, 68.125, 69.375, 70.625,\n",
       "       71.875, 73.125, 74.375, 75.625, 76.875, 78.125, 79.375, 80.625, 81.875,\n",
       "       83.125, 84.375, 85.625, 86.875, 88.125, 89.375])</pre></div></li><li class='xr-var-item'><div class='xr-var-name'><span class='xr-has-index'>lon</span></div><div class='xr-var-dims'>(lon)</div><div class='xr-var-dtype'>float64</div><div class='xr-var-preview xr-preview'>2.5 7.5 12.5 ... 347.5 352.5 357.5</div><input id='attrs-a54fa0d5-9d0b-4a3e-b4db-58c006ba2360' class='xr-var-attrs-in' type='checkbox' disabled><label for='attrs-a54fa0d5-9d0b-4a3e-b4db-58c006ba2360' title='Show/Hide attributes'><svg class='icon xr-icon-file-text2'><use xlink:href='#icon-file-text2'></use></svg></label><input id='data-637d96dc-6b8b-4458-8bc8-64b0f1cea391' class='xr-var-data-in' type='checkbox'><label for='data-637d96dc-6b8b-4458-8bc8-64b0f1cea391' title='Show/Hide data repr'><svg class='icon xr-icon-database'><use xlink:href='#icon-database'></use></svg></label><div class='xr-var-attrs'><dl class='xr-attrs'></dl></div><div class='xr-var-data'><pre>array([  2.5,   7.5,  12.5,  17.5,  22.5,  27.5,  32.5,  37.5,  42.5,  47.5,\n",
       "        52.5,  57.5,  62.5,  67.5,  72.5,  77.5,  82.5,  87.5,  92.5,  97.5,\n",
       "       102.5, 107.5, 112.5, 117.5, 122.5, 127.5, 132.5, 137.5, 142.5, 147.5,\n",
       "       152.5, 157.5, 162.5, 167.5, 172.5, 177.5, 182.5, 187.5, 192.5, 197.5,\n",
       "       202.5, 207.5, 212.5, 217.5, 222.5, 227.5, 232.5, 237.5, 242.5, 247.5,\n",
       "       252.5, 257.5, 262.5, 267.5, 272.5, 277.5, 282.5, 287.5, 292.5, 297.5,\n",
       "       302.5, 307.5, 312.5, 317.5, 322.5, 327.5, 332.5, 337.5, 342.5, 347.5,\n",
       "       352.5, 357.5])</pre></div></li></ul></div></li><li class='xr-section-item'><input id='section-82f68427-17d9-4f10-a751-ab3b015c9ba1' class='xr-section-summary-in' type='checkbox' disabled ><label for='section-82f68427-17d9-4f10-a751-ab3b015c9ba1' class='xr-section-summary'  title='Expand/collapse section'>Attributes: <span>(0)</span></label><div class='xr-section-inline-details'></div><div class='xr-section-details'><dl class='xr-attrs'></dl></div></li></ul></div></div>"
      ],
      "text/plain": [
       "<xarray.DataArray 'lab' (lat: 24, lon: 72)>\n",
       "array([[0.05755318,        nan, 0.05354802, ..., 0.02342172, 0.00534328,\n",
       "        0.26490624],\n",
       "       [0.05755318,        nan, 0.17116162, ..., 0.02342172, 0.04752628,\n",
       "        0.26490624],\n",
       "       [0.05955124, 0.11012841, 0.14928103, ...,        nan, 0.04752628,\n",
       "               nan],\n",
       "       ...,\n",
       "       [       nan,        nan,        nan, ...,        nan,        nan,\n",
       "               nan],\n",
       "       [0.28523569, 0.28523569, 0.28523569, ..., 0.26158835, 0.28565929,\n",
       "        0.28565929],\n",
       "       [0.2697172 ,        nan,        nan, ..., 0.2697172 , 0.2697172 ,\n",
       "        0.2697172 ]])\n",
       "Coordinates:\n",
       "  * lat      (lat) float64 60.62 61.88 63.12 64.38 ... 85.62 86.88 88.12 89.38\n",
       "  * lon      (lon) float64 2.5 7.5 12.5 17.5 22.5 ... 342.5 347.5 352.5 357.5"
      ]
     },
     "execution_count": 724,
     "metadata": {},
     "output_type": "execute_result"
    }
   ],
   "source": [
    "_ds1"
   ]
  },
  {
   "cell_type": "code",
   "execution_count": null,
   "metadata": {},
   "outputs": [],
   "source": []
  },
  {
   "cell_type": "code",
   "execution_count": 725,
   "metadata": {},
   "outputs": [],
   "source": [
    "# plt.scatter(y_pred,y,alpha=.1)\n",
    "# ax=plt.gca()\n",
    "# ax.set_xlim(0,y.quantile(.99))\n",
    "# ax.set_ylim(0,y.quantile(.99))\n",
    "# ax.set_aspect('equal')"
   ]
  },
  {
   "cell_type": "code",
   "execution_count": 726,
   "metadata": {},
   "outputs": [],
   "source": [
    "# f,ax = plt.subplots(figsize=(20,5))\n",
    "# y.plot(lw=0,marker='x')\n",
    "# (y*0 + y_pred).plot(lw=0,marker='v')"
   ]
  },
  {
   "cell_type": "code",
   "execution_count": 727,
   "metadata": {},
   "outputs": [],
   "source": [
    "_ds2 = (_ds1/_ds1.max())**10\n",
    "_ds2 = _ds1/_ds1.max()\n",
    "_ds2 = _ds1"
   ]
  },
  {
   "cell_type": "code",
   "execution_count": 728,
   "metadata": {},
   "outputs": [
    {
     "data": {
      "text/plain": [
       "<cartopy.mpl.feature_artist.FeatureArtist at 0x2a0238c10>"
      ]
     },
     "execution_count": 728,
     "metadata": {},
     "output_type": "execute_result"
    },
    {
     "data": {
      "image/png": "[encoded data removed]",
      "text/plain": [
       "<Figure size 432x288 with 2 Axes>"
      ]
     },
     "metadata": {
      "needs_background": "light"
     },
     "output_type": "display_data"
    }
   ],
   "source": [
    "# inn = coef[coef>0].index\n",
    "\n",
    "# pl = ds['lab'].where(ds['lab'].isin(inn))* 0 + 1\n",
    "\n",
    "\n",
    "\n",
    "\n",
    "import cartopy.crs as ccrs\n",
    "ax = plt.subplot(projection=ccrs.Orthographic(0, 90), facecolor='w')\n",
    "(_ds2).plot(\n",
    "    ax=ax,\n",
    "    transform=ccrs.PlateCarree(),\n",
    "    robust=True,\n",
    "    levels=6,\n",
    "    cmap='inferno',\n",
    "#     vmin=0,\n",
    "\n",
    ")\n",
    "ax.coastlines(color='red')"
   ]
  },
  {
   "cell_type": "code",
   "execution_count": 653,
   "metadata": {},
   "outputs": [
    {
     "data": {
      "text/html": [
       "<div><svg style=\"position: absolute; width: 0; height: 0; overflow: hidden\">\n",
       "<defs>\n",
       "<symbol id=\"icon-database\" viewBox=\"0 0 32 32\">\n",
       "<path d=\"M16 0c-8.837 0-16 2.239-16 5v4c0 2.761 7.163 5 16 5s16-2.239 16-5v-4c0-2.761-7.163-5-16-5z\"></path>\n",
       "<path d=\"M16 17c-8.837 0-16-2.239-16-5v6c0 2.761 7.163 5 16 5s16-2.239 16-5v-6c0 2.761-7.163 5-16 5z\"></path>\n",
       "<path d=\"M16 26c-8.837 0-16-2.239-16-5v6c0 2.761 7.163 5 16 5s16-2.239 16-5v-6c0 2.761-7.163 5-16 5z\"></path>\n",
       "</symbol>\n",
       "<symbol id=\"icon-file-text2\" viewBox=\"0 0 32 32\">\n",
       "<path d=\"M28.681 7.159c-0.694-0.947-1.662-2.053-2.724-3.116s-2.169-2.030-3.116-2.724c-1.612-1.182-2.393-1.319-2.841-1.319h-15.5c-1.378 0-2.5 1.121-2.5 2.5v27c0 1.378 1.122 2.5 2.5 2.5h23c1.378 0 2.5-1.122 2.5-2.5v-19.5c0-0.448-0.137-1.23-1.319-2.841zM24.543 5.457c0.959 0.959 1.712 1.825 2.268 2.543h-4.811v-4.811c0.718 0.556 1.584 1.309 2.543 2.268zM28 29.5c0 0.271-0.229 0.5-0.5 0.5h-23c-0.271 0-0.5-0.229-0.5-0.5v-27c0-0.271 0.229-0.5 0.5-0.5 0 0 15.499-0 15.5 0v7c0 0.552 0.448 1 1 1h7v19.5z\"></path>\n",
       "<path d=\"M23 26h-14c-0.552 0-1-0.448-1-1s0.448-1 1-1h14c0.552 0 1 0.448 1 1s-0.448 1-1 1z\"></path>\n",
       "<path d=\"M23 22h-14c-0.552 0-1-0.448-1-1s0.448-1 1-1h14c0.552 0 1 0.448 1 1s-0.448 1-1 1z\"></path>\n",
       "<path d=\"M23 18h-14c-0.552 0-1-0.448-1-1s0.448-1 1-1h14c0.552 0 1 0.448 1 1s-0.448 1-1 1z\"></path>\n",
       "</symbol>\n",
       "</defs>\n",
       "</svg>\n",
       "<style>/* CSS stylesheet for displaying xarray objects in jupyterlab.\n",
       " *\n",
       " */\n",
       "\n",
       ":root {\n",
       "  --xr-font-color0: var(--jp-content-font-color0, rgba(0, 0, 0, 1));\n",
       "  --xr-font-color2: var(--jp-content-font-color2, rgba(0, 0, 0, 0.54));\n",
       "  --xr-font-color3: var(--jp-content-font-color3, rgba(0, 0, 0, 0.38));\n",
       "  --xr-border-color: var(--jp-border-color2, #e0e0e0);\n",
       "  --xr-disabled-color: var(--jp-layout-color3, #bdbdbd);\n",
       "  --xr-background-color: var(--jp-layout-color0, white);\n",
       "  --xr-background-color-row-even: var(--jp-layout-color1, white);\n",
       "  --xr-background-color-row-odd: var(--jp-layout-color2, #eeeeee);\n",
       "}\n",
       "\n",
       "html[theme=dark],\n",
       "body.vscode-dark {\n",
       "  --xr-font-color0: rgba(255, 255, 255, 1);\n",
       "  --xr-font-color2: rgba(255, 255, 255, 0.54);\n",
       "  --xr-font-color3: rgba(255, 255, 255, 0.38);\n",
       "  --xr-border-color: #1F1F1F;\n",
       "  --xr-disabled-color: #515151;\n",
       "  --xr-background-color: #111111;\n",
       "  --xr-background-color-row-even: #111111;\n",
       "  --xr-background-color-row-odd: #313131;\n",
       "}\n",
       "\n",
       ".xr-wrap {\n",
       "  display: block;\n",
       "  min-width: 300px;\n",
       "  max-width: 700px;\n",
       "}\n",
       "\n",
       ".xr-text-repr-fallback {\n",
       "  /* fallback to plain text repr when CSS is not injected (untrusted notebook) */\n",
       "  display: none;\n",
       "}\n",
       "\n",
       ".xr-header {\n",
       "  padding-top: 6px;\n",
       "  padding-bottom: 6px;\n",
       "  margin-bottom: 4px;\n",
       "  border-bottom: solid 1px var(--xr-border-color);\n",
       "}\n",
       "\n",
       ".xr-header > div,\n",
       ".xr-header > ul {\n",
       "  display: inline;\n",
       "  margin-top: 0;\n",
       "  margin-bottom: 0;\n",
       "}\n",
       "\n",
       ".xr-obj-type,\n",
       ".xr-array-name {\n",
       "  margin-left: 2px;\n",
       "  margin-right: 10px;\n",
       "}\n",
       "\n",
       ".xr-obj-type {\n",
       "  color: var(--xr-font-color2);\n",
       "}\n",
       "\n",
       ".xr-sections {\n",
       "  padding-left: 0 !important;\n",
       "  display: grid;\n",
       "  grid-template-columns: 150px auto auto 1fr 20px 20px;\n",
       "}\n",
       "\n",
       ".xr-section-item {\n",
       "  display: contents;\n",
       "}\n",
       "\n",
       ".xr-section-item input {\n",
       "  display: none;\n",
       "}\n",
       "\n",
       ".xr-section-item input + label {\n",
       "  color: var(--xr-disabled-color);\n",
       "}\n",
       "\n",
       ".xr-section-item input:enabled + label {\n",
       "  cursor: pointer;\n",
       "  color: var(--xr-font-color2);\n",
       "}\n",
       "\n",
       ".xr-section-item input:enabled + label:hover {\n",
       "  color: var(--xr-font-color0);\n",
       "}\n",
       "\n",
       ".xr-section-summary {\n",
       "  grid-column: 1;\n",
       "  color: var(--xr-font-color2);\n",
       "  font-weight: 500;\n",
       "}\n",
       "\n",
       ".xr-section-summary > span {\n",
       "  display: inline-block;\n",
       "  padding-left: 0.5em;\n",
       "}\n",
       "\n",
       ".xr-section-summary-in:disabled + label {\n",
       "  color: var(--xr-font-color2);\n",
       "}\n",
       "\n",
       ".xr-section-summary-in + label:before {\n",
       "  display: inline-block;\n",
       "  content: '►';\n",
       "  font-size: 11px;\n",
       "  width: 15px;\n",
       "  text-align: center;\n",
       "}\n",
       "\n",
       ".xr-section-summary-in:disabled + label:before {\n",
       "  color: var(--xr-disabled-color);\n",
       "}\n",
       "\n",
       ".xr-section-summary-in:checked + label:before {\n",
       "  content: '▼';\n",
       "}\n",
       "\n",
       ".xr-section-summary-in:checked + label > span {\n",
       "  display: none;\n",
       "}\n",
       "\n",
       ".xr-section-summary,\n",
       ".xr-section-inline-details {\n",
       "  padding-top: 4px;\n",
       "  padding-bottom: 4px;\n",
       "}\n",
       "\n",
       ".xr-section-inline-details {\n",
       "  grid-column: 2 / -1;\n",
       "}\n",
       "\n",
       ".xr-section-details {\n",
       "  display: none;\n",
       "  grid-column: 1 / -1;\n",
       "  margin-bottom: 5px;\n",
       "}\n",
       "\n",
       ".xr-section-summary-in:checked ~ .xr-section-details {\n",
       "  display: contents;\n",
       "}\n",
       "\n",
       ".xr-array-wrap {\n",
       "  grid-column: 1 / -1;\n",
       "  display: grid;\n",
       "  grid-template-columns: 20px auto;\n",
       "}\n",
       "\n",
       ".xr-array-wrap > label {\n",
       "  grid-column: 1;\n",
       "  vertical-align: top;\n",
       "}\n",
       "\n",
       ".xr-preview {\n",
       "  color: var(--xr-font-color3);\n",
       "}\n",
       "\n",
       ".xr-array-preview,\n",
       ".xr-array-data {\n",
       "  padding: 0 5px !important;\n",
       "  grid-column: 2;\n",
       "}\n",
       "\n",
       ".xr-array-data,\n",
       ".xr-array-in:checked ~ .xr-array-preview {\n",
       "  display: none;\n",
       "}\n",
       "\n",
       ".xr-array-in:checked ~ .xr-array-data,\n",
       ".xr-array-preview {\n",
       "  display: inline-block;\n",
       "}\n",
       "\n",
       ".xr-dim-list {\n",
       "  display: inline-block !important;\n",
       "  list-style: none;\n",
       "  padding: 0 !important;\n",
       "  margin: 0;\n",
       "}\n",
       "\n",
       ".xr-dim-list li {\n",
       "  display: inline-block;\n",
       "  padding: 0;\n",
       "  margin: 0;\n",
       "}\n",
       "\n",
       ".xr-dim-list:before {\n",
       "  content: '(';\n",
       "}\n",
       "\n",
       ".xr-dim-list:after {\n",
       "  content: ')';\n",
       "}\n",
       "\n",
       ".xr-dim-list li:not(:last-child):after {\n",
       "  content: ',';\n",
       "  padding-right: 5px;\n",
       "}\n",
       "\n",
       ".xr-has-index {\n",
       "  font-weight: bold;\n",
       "}\n",
       "\n",
       ".xr-var-list,\n",
       ".xr-var-item {\n",
       "  display: contents;\n",
       "}\n",
       "\n",
       ".xr-var-item > div,\n",
       ".xr-var-item label,\n",
       ".xr-var-item > .xr-var-name span {\n",
       "  background-color: var(--xr-background-color-row-even);\n",
       "  margin-bottom: 0;\n",
       "}\n",
       "\n",
       ".xr-var-item > .xr-var-name:hover span {\n",
       "  padding-right: 5px;\n",
       "}\n",
       "\n",
       ".xr-var-list > li:nth-child(odd) > div,\n",
       ".xr-var-list > li:nth-child(odd) > label,\n",
       ".xr-var-list > li:nth-child(odd) > .xr-var-name span {\n",
       "  background-color: var(--xr-background-color-row-odd);\n",
       "}\n",
       "\n",
       ".xr-var-name {\n",
       "  grid-column: 1;\n",
       "}\n",
       "\n",
       ".xr-var-dims {\n",
       "  grid-column: 2;\n",
       "}\n",
       "\n",
       ".xr-var-dtype {\n",
       "  grid-column: 3;\n",
       "  text-align: right;\n",
       "  color: var(--xr-font-color2);\n",
       "}\n",
       "\n",
       ".xr-var-preview {\n",
       "  grid-column: 4;\n",
       "}\n",
       "\n",
       ".xr-var-name,\n",
       ".xr-var-dims,\n",
       ".xr-var-dtype,\n",
       ".xr-preview,\n",
       ".xr-attrs dt {\n",
       "  white-space: nowrap;\n",
       "  overflow: hidden;\n",
       "  text-overflow: ellipsis;\n",
       "  padding-right: 10px;\n",
       "}\n",
       "\n",
       ".xr-var-name:hover,\n",
       ".xr-var-dims:hover,\n",
       ".xr-var-dtype:hover,\n",
       ".xr-attrs dt:hover {\n",
       "  overflow: visible;\n",
       "  width: auto;\n",
       "  z-index: 1;\n",
       "}\n",
       "\n",
       ".xr-var-attrs,\n",
       ".xr-var-data {\n",
       "  display: none;\n",
       "  background-color: var(--xr-background-color) !important;\n",
       "  padding-bottom: 5px !important;\n",
       "}\n",
       "\n",
       ".xr-var-attrs-in:checked ~ .xr-var-attrs,\n",
       ".xr-var-data-in:checked ~ .xr-var-data {\n",
       "  display: block;\n",
       "}\n",
       "\n",
       ".xr-var-data > table {\n",
       "  float: right;\n",
       "}\n",
       "\n",
       ".xr-var-name span,\n",
       ".xr-var-data,\n",
       ".xr-attrs {\n",
       "  padding-left: 25px !important;\n",
       "}\n",
       "\n",
       ".xr-attrs,\n",
       ".xr-var-attrs,\n",
       ".xr-var-data {\n",
       "  grid-column: 1 / -1;\n",
       "}\n",
       "\n",
       "dl.xr-attrs {\n",
       "  padding: 0;\n",
       "  margin: 0;\n",
       "  display: grid;\n",
       "  grid-template-columns: 125px auto;\n",
       "}\n",
       "\n",
       ".xr-attrs dt,\n",
       ".xr-attrs dd {\n",
       "  padding: 0;\n",
       "  margin: 0;\n",
       "  float: left;\n",
       "  padding-right: 10px;\n",
       "  width: auto;\n",
       "}\n",
       "\n",
       ".xr-attrs dt {\n",
       "  font-weight: normal;\n",
       "  grid-column: 1;\n",
       "}\n",
       "\n",
       ".xr-attrs dt:hover span {\n",
       "  display: inline-block;\n",
       "  background: var(--xr-background-color);\n",
       "  padding-right: 10px;\n",
       "}\n",
       "\n",
       ".xr-attrs dd {\n",
       "  grid-column: 2;\n",
       "  white-space: pre-wrap;\n",
       "  word-break: break-all;\n",
       "}\n",
       "\n",
       ".xr-icon-database,\n",
       ".xr-icon-file-text2 {\n",
       "  display: inline-block;\n",
       "  vertical-align: middle;\n",
       "  width: 1em;\n",
       "  height: 1.5em !important;\n",
       "  stroke-width: 0;\n",
       "  stroke: currentColor;\n",
       "  fill: currentColor;\n",
       "}\n",
       "</style><pre class='xr-text-repr-fallback'>&lt;xarray.Dataset&gt;\n",
       "Dimensions:    (lon: 72, lat: 24, time: 3021)\n",
       "Coordinates:\n",
       "  * lon        (lon) float64 2.5 7.5 12.5 17.5 22.5 ... 342.5 347.5 352.5 357.5\n",
       "  * lat        (lat) float64 60.62 61.88 63.12 64.38 ... 85.62 86.88 88.12 89.38\n",
       "  * time       (time) datetime64[ns] 2019-09-20T09:00:00 ... 2020-10-01T21:00:00\n",
       "    lab        (lat, lon) int64 837 917 976 831 825 815 ... 463 294 294 294 294\n",
       "Data variables:\n",
       "    AIRTRACER  (time, lat, lon) float32 0.0004269 0.0001852 ... 0.0002132</pre><div class='xr-wrap' hidden><div class='xr-header'><div class='xr-obj-type'>xarray.Dataset</div></div><ul class='xr-sections'><li class='xr-section-item'><input id='section-63479e3a-6ff6-4429-9af5-c397006e4c26' class='xr-section-summary-in' type='checkbox' disabled ><label for='section-63479e3a-6ff6-4429-9af5-c397006e4c26' class='xr-section-summary'  title='Expand/collapse section'>Dimensions:</label><div class='xr-section-inline-details'><ul class='xr-dim-list'><li><span class='xr-has-index'>lon</span>: 72</li><li><span class='xr-has-index'>lat</span>: 24</li><li><span class='xr-has-index'>time</span>: 3021</li></ul></div><div class='xr-section-details'></div></li><li class='xr-section-item'><input id='section-afc167e1-3804-4ba5-af95-ce69963b66a0' class='xr-section-summary-in' type='checkbox'  checked><label for='section-afc167e1-3804-4ba5-af95-ce69963b66a0' class='xr-section-summary' >Coordinates: <span>(4)</span></label><div class='xr-section-inline-details'></div><div class='xr-section-details'><ul class='xr-var-list'><li class='xr-var-item'><div class='xr-var-name'><span class='xr-has-index'>lon</span></div><div class='xr-var-dims'>(lon)</div><div class='xr-var-dtype'>float64</div><div class='xr-var-preview xr-preview'>2.5 7.5 12.5 ... 347.5 352.5 357.5</div><input id='attrs-6efaa83b-1447-4f79-a0b7-f5b4243888db' class='xr-var-attrs-in' type='checkbox' disabled><label for='attrs-6efaa83b-1447-4f79-a0b7-f5b4243888db' title='Show/Hide attributes'><svg class='icon xr-icon-file-text2'><use xlink:href='#icon-file-text2'></use></svg></label><input id='data-35b647a1-5533-4e99-8a63-c8a699bc02d0' class='xr-var-data-in' type='checkbox'><label for='data-35b647a1-5533-4e99-8a63-c8a699bc02d0' title='Show/Hide data repr'><svg class='icon xr-icon-database'><use xlink:href='#icon-database'></use></svg></label><div class='xr-var-attrs'><dl class='xr-attrs'></dl></div><div class='xr-var-data'><pre>array([  2.5,   7.5,  12.5,  17.5,  22.5,  27.5,  32.5,  37.5,  42.5,  47.5,\n",
       "        52.5,  57.5,  62.5,  67.5,  72.5,  77.5,  82.5,  87.5,  92.5,  97.5,\n",
       "       102.5, 107.5, 112.5, 117.5, 122.5, 127.5, 132.5, 137.5, 142.5, 147.5,\n",
       "       152.5, 157.5, 162.5, 167.5, 172.5, 177.5, 182.5, 187.5, 192.5, 197.5,\n",
       "       202.5, 207.5, 212.5, 217.5, 222.5, 227.5, 232.5, 237.5, 242.5, 247.5,\n",
       "       252.5, 257.5, 262.5, 267.5, 272.5, 277.5, 282.5, 287.5, 292.5, 297.5,\n",
       "       302.5, 307.5, 312.5, 317.5, 322.5, 327.5, 332.5, 337.5, 342.5, 347.5,\n",
       "       352.5, 357.5])</pre></div></li><li class='xr-var-item'><div class='xr-var-name'><span class='xr-has-index'>lat</span></div><div class='xr-var-dims'>(lat)</div><div class='xr-var-dtype'>float64</div><div class='xr-var-preview xr-preview'>60.62 61.88 63.12 ... 88.12 89.38</div><input id='attrs-51151c13-9e23-4e48-8f73-20102fea6b2f' class='xr-var-attrs-in' type='checkbox' disabled><label for='attrs-51151c13-9e23-4e48-8f73-20102fea6b2f' title='Show/Hide attributes'><svg class='icon xr-icon-file-text2'><use xlink:href='#icon-file-text2'></use></svg></label><input id='data-b3782aec-5f90-495f-aa6c-ee5ac84d96fd' class='xr-var-data-in' type='checkbox'><label for='data-b3782aec-5f90-495f-aa6c-ee5ac84d96fd' title='Show/Hide data repr'><svg class='icon xr-icon-database'><use xlink:href='#icon-database'></use></svg></label><div class='xr-var-attrs'><dl class='xr-attrs'></dl></div><div class='xr-var-data'><pre>array([60.625, 61.875, 63.125, 64.375, 65.625, 66.875, 68.125, 69.375, 70.625,\n",
       "       71.875, 73.125, 74.375, 75.625, 76.875, 78.125, 79.375, 80.625, 81.875,\n",
       "       83.125, 84.375, 85.625, 86.875, 88.125, 89.375])</pre></div></li><li class='xr-var-item'><div class='xr-var-name'><span class='xr-has-index'>time</span></div><div class='xr-var-dims'>(time)</div><div class='xr-var-dtype'>datetime64[ns]</div><div class='xr-var-preview xr-preview'>2019-09-20T09:00:00 ... 2020-10-...</div><input id='attrs-101b5972-2488-461e-9cab-2a7320805f8c' class='xr-var-attrs-in' type='checkbox' ><label for='attrs-101b5972-2488-461e-9cab-2a7320805f8c' title='Show/Hide attributes'><svg class='icon xr-icon-file-text2'><use xlink:href='#icon-file-text2'></use></svg></label><input id='data-23c16b7d-2e71-40be-b56b-3d23da272a35' class='xr-var-data-in' type='checkbox'><label for='data-23c16b7d-2e71-40be-b56b-3d23da272a35' title='Show/Hide data repr'><svg class='icon xr-icon-database'><use xlink:href='#icon-database'></use></svg></label><div class='xr-var-attrs'><dl class='xr-attrs'><dt><span>long_name :</span></dt><dd>hours since 2019-09-20 09:00</dd></dl></div><div class='xr-var-data'><pre>array([&#x27;2019-09-20T09:00:00.000000000&#x27;, &#x27;2019-09-20T12:00:00.000000000&#x27;,\n",
       "       &#x27;2019-09-20T15:00:00.000000000&#x27;, ..., &#x27;2020-10-01T15:00:00.000000000&#x27;,\n",
       "       &#x27;2020-10-01T18:00:00.000000000&#x27;, &#x27;2020-10-01T21:00:00.000000000&#x27;],\n",
       "      dtype=&#x27;datetime64[ns]&#x27;)</pre></div></li><li class='xr-var-item'><div class='xr-var-name'><span>lab</span></div><div class='xr-var-dims'>(lat, lon)</div><div class='xr-var-dtype'>int64</div><div class='xr-var-preview xr-preview'>837 917 976 831 ... 294 294 294 294</div><input id='attrs-07e9586c-c53e-4890-ba88-55ed9e014070' class='xr-var-attrs-in' type='checkbox' disabled><label for='attrs-07e9586c-c53e-4890-ba88-55ed9e014070' title='Show/Hide attributes'><svg class='icon xr-icon-file-text2'><use xlink:href='#icon-file-text2'></use></svg></label><input id='data-ea2c5661-a9a3-464e-b085-9c990c15ddd3' class='xr-var-data-in' type='checkbox'><label for='data-ea2c5661-a9a3-464e-b085-9c990c15ddd3' title='Show/Hide data repr'><svg class='icon xr-icon-database'><use xlink:href='#icon-database'></use></svg></label><div class='xr-var-attrs'><dl class='xr-attrs'></dl></div><div class='xr-var-data'><pre>array([[837, 917, 976, ..., 743, 901, 816],\n",
       "       [837, 917, 970, ..., 743, 587, 816],\n",
       "       [913, 821, 966, ..., 791, 587, 801],\n",
       "       ...,\n",
       "       [119, 302, 134, ..., 141, 119, 119],\n",
       "       [113, 113, 113, ..., 199, 269, 269],\n",
       "       [294, 350, 350, ..., 294, 294, 294]])</pre></div></li></ul></div></li><li class='xr-section-item'><input id='section-b5345f04-bc53-488f-9070-3c172dfc50da' class='xr-section-summary-in' type='checkbox'  checked><label for='section-b5345f04-bc53-488f-9070-3c172dfc50da' class='xr-section-summary' >Data variables: <span>(1)</span></label><div class='xr-section-inline-details'></div><div class='xr-section-details'><ul class='xr-var-list'><li class='xr-var-item'><div class='xr-var-name'><span>AIRTRACER</span></div><div class='xr-var-dims'>(time, lat, lon)</div><div class='xr-var-dtype'>float32</div><div class='xr-var-preview xr-preview'>0.0004269 0.0001852 ... 0.0002132</div><input id='attrs-cfd44962-c90f-4f93-9521-51fe41ed3bcd' class='xr-var-attrs-in' type='checkbox' disabled><label for='attrs-cfd44962-c90f-4f93-9521-51fe41ed3bcd' title='Show/Hide attributes'><svg class='icon xr-icon-file-text2'><use xlink:href='#icon-file-text2'></use></svg></label><input id='data-3f282ef7-6183-4c98-88ec-1f3552110e18' class='xr-var-data-in' type='checkbox'><label for='data-3f282ef7-6183-4c98-88ec-1f3552110e18' title='Show/Hide data repr'><svg class='icon xr-icon-database'><use xlink:href='#icon-database'></use></svg></label><div class='xr-var-attrs'><dl class='xr-attrs'></dl></div><div class='xr-var-data'><pre>array([[[4.268563e-04, 1.852375e-04, ..., 2.621723e-04, 2.943228e-04],\n",
       "        [4.052322e-04, 1.807687e-04, ..., 2.240264e-04, 2.522779e-04],\n",
       "        ...,\n",
       "        [1.307839e-02, 1.780873e-02, ..., 5.970140e-04, 5.370654e-03],\n",
       "        [1.349513e-02, 1.612342e-02, ..., 6.169785e-03, 1.135256e-02]],\n",
       "\n",
       "       [[3.539727e-04, 1.817460e-04, ..., 1.960023e-04, 2.683101e-04],\n",
       "        [3.486043e-04, 1.922844e-04, ..., 1.700503e-04, 2.743898e-04],\n",
       "        ...,\n",
       "        [1.824136e-02, 2.463412e-02, ..., 5.580768e-03, 1.393889e-02],\n",
       "        [1.741647e-02, 1.864909e-02, ..., 1.828488e-02, 1.803528e-02]],\n",
       "\n",
       "       ...,\n",
       "\n",
       "       [[3.538048e-04, 3.289605e-04, ..., 3.454678e-04, 2.917684e-04],\n",
       "        [3.458934e-04, 2.699237e-04, ..., 4.989626e-04, 3.907704e-04],\n",
       "        ...,\n",
       "        [3.555111e-05, 4.241330e-05, ..., 3.796500e-05, 3.836580e-05],\n",
       "        [1.048749e-05, 1.185114e-05, ..., 1.207331e-05, 9.389475e-06]],\n",
       "\n",
       "       [[6.397812e-04, 6.086012e-04, ..., 4.928912e-04, 4.372060e-04],\n",
       "        [6.053369e-04, 4.210267e-04, ..., 6.160549e-04, 5.517354e-04],\n",
       "        ...,\n",
       "        [1.858562e-04, 8.900857e-05, ..., 3.811657e-04, 2.670756e-04],\n",
       "        [1.806014e-04, 1.131911e-04, ..., 2.551314e-04, 2.132116e-04]]],\n",
       "      dtype=float32)</pre></div></li></ul></div></li><li class='xr-section-item'><input id='section-1a9f12b5-6b66-4a0b-857b-9053863378f3' class='xr-section-summary-in' type='checkbox' disabled ><label for='section-1a9f12b5-6b66-4a0b-857b-9053863378f3' class='xr-section-summary'  title='Expand/collapse section'>Attributes: <span>(0)</span></label><div class='xr-section-inline-details'></div><div class='xr-section-details'><dl class='xr-attrs'></dl></div></li></ul></div></div>"
      ],
      "text/plain": [
       "<xarray.Dataset>\n",
       "Dimensions:    (lon: 72, lat: 24, time: 3021)\n",
       "Coordinates:\n",
       "  * lon        (lon) float64 2.5 7.5 12.5 17.5 22.5 ... 342.5 347.5 352.5 357.5\n",
       "  * lat        (lat) float64 60.62 61.88 63.12 64.38 ... 85.62 86.88 88.12 89.38\n",
       "  * time       (time) datetime64[ns] 2019-09-20T09:00:00 ... 2020-10-01T21:00:00\n",
       "    lab        (lat, lon) int64 837 917 976 831 825 815 ... 463 294 294 294 294\n",
       "Data variables:\n",
       "    AIRTRACER  (time, lat, lon) float32 0.0004269 0.0001852 ... 0.0002132"
      ]
     },
     "execution_count": 653,
     "metadata": {},
     "output_type": "execute_result"
    }
   ],
   "source": [
    "ds"
   ]
  },
  {
   "cell_type": "code",
   "execution_count": null,
   "metadata": {},
   "outputs": [],
   "source": []
  },
  {
   "cell_type": "code",
   "execution_count": null,
   "metadata": {},
   "outputs": [],
   "source": []
  }
 ],
 "metadata": {
  "jupytext": {
   "text_representation": {
    "extension": ".py",
    "format_name": "percent",
    "format_version": "1.3",
    "jupytext_version": "1.12.0"
   }
  },
  "kernelspec": {
   "display_name": "Python [conda env:q5]",
   "language": "python",
   "name": "conda-env-q5-py"
  },
  "language_info": {
   "codemirror_mode": {
    "name": "ipython",
    "version": 3
   },
   "file_extension": ".py",
   "mimetype": "text/x-python",
   "name": "python",
   "nbconvert_exporter": "python",
   "pygments_lexer": "ipython3",
   "version": "3.9.7"
  }
 },
 "nbformat": 4,
 "nbformat_minor": 4
}
