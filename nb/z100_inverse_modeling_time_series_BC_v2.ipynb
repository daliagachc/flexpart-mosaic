{
 "cells": [
  {
   "cell_type": "code",
   "execution_count": 1,
   "metadata": {
    "collapsed": false,
    "jupyter": {
     "outputs_hidden": false
    }
   },
   "outputs": [],
   "source": [
    "%load_ext autoreload\n",
    "%autoreload 2\n",
    "\n",
    "import matplotlib.pyplot as plt\n",
    "import numpy as np\n",
    "import pandas as pd\n",
    "import xarray as xr\n",
    "\n",
    "import regression_funs as rfu"
   ]
  },
  {
   "cell_type": "markdown",
   "metadata": {
    "title": "md"
   },
   "source": [
    "\n",
    "## constants and functions"
   ]
  },
  {
   "cell_type": "code",
   "execution_count": 319,
   "metadata": {
    "collapsed": false,
    "jupyter": {
     "outputs_hidden": false
    },
    "lines_to_next_cell": 2
   },
   "outputs": [],
   "source": [
    "\n",
    "PATH_TO_FILE = '../data_in/flexpart-mosaic-data_alias/AIRTRACER_100m.nc'\n",
    "\n",
    "PATH_TO_SO2 = '../data_in/flexpart-mosaic-data_alias/MSAQSO2L4_2005-2018_v01-04_20190314.h5'\n",
    "\n",
    "PATH_TO_ST = '../data_in/ciapitof_masked_filtered.csv'\n",
    "\n",
    "PATH_TO_BC = '../data_in/black_carbon_channel6_masked_5min.csv'\n",
    "# PATH_TO_BC = '../data_in/black_carbon_channel6_raw_5min.csv'\n",
    "\n",
    "PATH_1000_CLUS = '../data_out/cluster1000.nc'\n",
    "\n",
    "LA = 'lat'\n",
    "LO = 'lon'\n",
    "TI = 'time'\n",
    "AG = 'age'\n",
    "AT = 'AIRTRACER'\n",
    "L = 'lab'\n",
    "CM = 'tab20'\n",
    "\n",
    "SA = 'sa'\n",
    "MSA = 'msa'\n",
    "IA = 'ia'\n",
    "\n",
    "BC = 'bc_masked_ngm3'\n",
    "\n",
    "# BC = 'bc_raw_ngm3'\n",
    "\n",
    "LBC = 'log(bc)'\n",
    "\n",
    "LSA = 'log10(sa)'\n",
    "LMSA = 'log10(msa)'\n",
    "LIA = 'log10(ia)'\n",
    "\n",
    "COLS = [SA, MSA, IA]\n",
    "LCOLS = [LSA, LMSA, LIA]\n",
    "\n",
    "DATA_OUT = '../data_out'\n",
    "\n",
    "COL = plt.get_cmap('Dark2')\n",
    "\n",
    "DC = {\n",
    "    SA  : COL(0),\n",
    "    MSA : COL(1),\n",
    "    IA  : COL(2),\n",
    "    LSA : COL(0),\n",
    "    LMSA: COL(1),\n",
    "    LIA : COL(2),\n",
    "    BC  : COL(3),\n",
    "    LBC : COL(3)\n",
    "}"
   ]
  },
  {
   "cell_type": "code",
   "execution_count": 320,
   "metadata": {},
   "outputs": [
    {
     "data": {
      "text/plain": [
       "True     24908\n",
       "False     5380\n",
       "Name: bc_masked_ngm3, dtype: int64"
      ]
     },
     "execution_count": 320,
     "metadata": {},
     "output_type": "execute_result"
    }
   ],
   "source": [
    "df = pd.read_csv(PATH_TO_BC, index_col=0, parse_dates=True)\n",
    "(df[BC]>0).value_counts()"
   ]
  },
  {
   "cell_type": "code",
   "execution_count": 321,
   "metadata": {},
   "outputs": [
    {
     "data": {
      "image/png": "[encoded data removed]",
      "text/plain": [
       "<Figure size 432x288 with 1 Axes>"
      ]
     },
     "metadata": {
      "needs_background": "light"
     },
     "output_type": "display_data"
    }
   ],
   "source": [
    "df[BC].plot.hist(bins=[df[BC].min()-1,*np.geomspace(.01,10000)])\n",
    "plt.gca().set_xscale('log')"
   ]
  },
  {
   "cell_type": "code",
   "execution_count": null,
   "metadata": {},
   "outputs": [],
   "source": []
  },
  {
   "cell_type": "code",
   "execution_count": 322,
   "metadata": {},
   "outputs": [],
   "source": [
    "df=df[df[BC]>0]"
   ]
  },
  {
   "cell_type": "code",
   "execution_count": 323,
   "metadata": {},
   "outputs": [
    {
     "data": {
      "text/plain": [
       "(0.106457777576, 1981.9854372840073)"
      ]
     },
     "execution_count": 323,
     "metadata": {},
     "output_type": "execute_result"
    },
    {
     "data": {
      "image/png": "[encoded data removed]",
      "text/plain": [
       "<Figure size 432x288 with 1 Axes>"
      ]
     },
     "metadata": {
      "needs_background": "light"
     },
     "output_type": "display_data"
    }
   ],
   "source": [
    "p = (df[BC]**1)\n",
    "q1,q2 = p.quantile([.001,.999])\n",
    "p.plot.hist(bins=np.linspace(q1,q2))\n",
    "ax = plt.gca()\n",
    "ax.set_xlim(q1,q2)"
   ]
  },
  {
   "cell_type": "code",
   "execution_count": 324,
   "metadata": {},
   "outputs": [
    {
     "data": {
      "text/plain": [
       "(0.5106607984983879, 9.752818343977255)"
      ]
     },
     "execution_count": 324,
     "metadata": {},
     "output_type": "execute_result"
    },
    {
     "data": {
      "image/png": "[encoded data removed]",
      "text/plain": [
       "<Figure size 432x288 with 1 Axes>"
      ]
     },
     "metadata": {
      "needs_background": "light"
     },
     "output_type": "display_data"
    }
   ],
   "source": [
    "p = (df[BC]**.3)\n",
    "q1,q2 = p.quantile([.001,.999])\n",
    "p.plot.hist(bins=np.linspace(q1,q2))\n",
    "ax = plt.gca()\n",
    "ax.set_xlim(q1,q2)"
   ]
  },
  {
   "cell_type": "code",
   "execution_count": 325,
   "metadata": {},
   "outputs": [],
   "source": [
    "df[LBC] = np.log10(df[BC])"
   ]
  },
  {
   "cell_type": "code",
   "execution_count": null,
   "metadata": {},
   "outputs": [],
   "source": []
  },
  {
   "cell_type": "markdown",
   "metadata": {},
   "source": [
    "# distributions\n",
    "\n",
    "\n",
    "lets find what kind of dist. do we have. They seem to be log dists."
   ]
  },
  {
   "cell_type": "code",
   "execution_count": null,
   "metadata": {},
   "outputs": [],
   "source": []
  },
  {
   "cell_type": "code",
   "execution_count": 326,
   "metadata": {},
   "outputs": [
    {
     "data": {
      "text/plain": [
       "Text(0.5, 0, 'log10')"
      ]
     },
     "execution_count": 326,
     "metadata": {},
     "output_type": "execute_result"
    },
    {
     "data": {
      "image/png": "[encoded data removed]",
      "text/plain": [
       "<Figure size 432x288 with 1 Axes>"
      ]
     },
     "metadata": {
      "needs_background": "light"
     },
     "output_type": "display_data"
    }
   ],
   "source": [
    "for c in [BC]:\n",
    "    np.log10(df[c]).plot.hist(alpha=.5, bins=100, label=c, color=DC[c])\n",
    "ax = plt.gca()\n",
    "ax.legend()\n",
    "ax.set_xlabel('log10')"
   ]
  },
  {
   "cell_type": "markdown",
   "metadata": {},
   "source": [
    "# timeseries of the trace gases"
   ]
  },
  {
   "cell_type": "code",
   "execution_count": null,
   "metadata": {},
   "outputs": [],
   "source": []
  },
  {
   "cell_type": "markdown",
   "metadata": {},
   "source": [
    "# open and merge flex 1000 clusters"
   ]
  },
  {
   "cell_type": "code",
   "execution_count": 327,
   "metadata": {},
   "outputs": [],
   "source": [
    "ds = xr.open_dataset(PATH_1000_CLUS)"
   ]
  },
  {
   "cell_type": "code",
   "execution_count": 328,
   "metadata": {},
   "outputs": [],
   "source": [
    "dsf = ds.groupby(L).sum().to_dataframe()[AT].unstack(L)"
   ]
  },
  {
   "cell_type": "code",
   "execution_count": 329,
   "metadata": {},
   "outputs": [
    {
     "data": {
      "text/plain": [
       "lab\n",
       "0      117.893692\n",
       "1      116.569145\n",
       "2       99.189194\n",
       "3       98.726097\n",
       "4       90.979523\n",
       "          ...    \n",
       "995      0.544238\n",
       "996      0.526847\n",
       "997      0.512809\n",
       "998      0.465698\n",
       "999      0.453642\n",
       "Length: 1000, dtype: float32"
      ]
     },
     "execution_count": 329,
     "metadata": {},
     "output_type": "execute_result"
    }
   ],
   "source": [
    "dsf.sum()"
   ]
  },
  {
   "cell_type": "code",
   "execution_count": 330,
   "metadata": {},
   "outputs": [],
   "source": [
    "from sklearn.preprocessing import RobustScaler"
   ]
  },
  {
   "cell_type": "code",
   "execution_count": 331,
   "metadata": {},
   "outputs": [],
   "source": [
    "RS = RobustScaler(\n",
    "    with_centering=False,\n",
    "    with_scaling=True,\n",
    "    quantile_range=(25.0, 75.0),\n",
    "    copy=True,\n",
    "    unit_variance=False,\n",
    ")"
   ]
  },
  {
   "cell_type": "code",
   "execution_count": 332,
   "metadata": {},
   "outputs": [],
   "source": [
    "dsf2 = dsf/np.sqrt((dsf**2).sum())"
   ]
  },
  {
   "cell_type": "code",
   "execution_count": 333,
   "metadata": {},
   "outputs": [
    {
     "data": {
      "text/plain": [
       "lab\n",
       "0      15.317408\n",
       "1      11.129049\n",
       "2      10.441088\n",
       "3      11.637880\n",
       "4      14.796584\n",
       "         ...    \n",
       "995    30.548052\n",
       "996    31.100914\n",
       "997    30.608913\n",
       "998    30.391745\n",
       "999    32.368301\n",
       "Length: 1000, dtype: float32"
      ]
     },
     "execution_count": 333,
     "metadata": {},
     "output_type": "execute_result"
    }
   ],
   "source": [
    "dsf2.sum()"
   ]
  },
  {
   "cell_type": "code",
   "execution_count": 334,
   "metadata": {},
   "outputs": [],
   "source": [
    "df1 = df[[BC]]"
   ]
  },
  {
   "cell_type": "code",
   "execution_count": null,
   "metadata": {},
   "outputs": [],
   "source": []
  },
  {
   "cell_type": "code",
   "execution_count": 335,
   "metadata": {},
   "outputs": [],
   "source": [
    "df2 = df1.resample('3H').median()\n",
    "df3 = df2[~df2[BC].isna()]"
   ]
  },
  {
   "cell_type": "code",
   "execution_count": null,
   "metadata": {},
   "outputs": [],
   "source": []
  },
  {
   "cell_type": "code",
   "execution_count": 336,
   "metadata": {
    "lines_to_next_cell": 2
   },
   "outputs": [],
   "source": [
    "dm = pd.merge(df3, dsf2, left_index=True, right_index=True, how='inner', validate=\"1:1\")"
   ]
  },
  {
   "cell_type": "code",
   "execution_count": null,
   "metadata": {},
   "outputs": [],
   "source": []
  },
  {
   "cell_type": "markdown",
   "metadata": {},
   "source": [
    "# Linear Regression"
   ]
  },
  {
   "cell_type": "code",
   "execution_count": 337,
   "metadata": {},
   "outputs": [],
   "source": [
    "from sklearn.linear_model import ElasticNetCV,ElasticNet, LinearRegression"
   ]
  },
  {
   "cell_type": "code",
   "execution_count": 338,
   "metadata": {},
   "outputs": [],
   "source": [
    "lreg = LinearRegression(\n",
    "    fit_intercept=False,\n",
    "    normalize='deprecated',\n",
    "    copy_X=True,\n",
    "    n_jobs=None,\n",
    "    positive=True,\n",
    ")"
   ]
  },
  {
   "cell_type": "code",
   "execution_count": 339,
   "metadata": {},
   "outputs": [],
   "source": [
    "X = dm[dsf2.columns]\n",
    "y = dm[BC]\n",
    "lreg.fit(X,y)\n",
    "y_pred = lreg.predict(X)"
   ]
  },
  {
   "cell_type": "code",
   "execution_count": 340,
   "metadata": {},
   "outputs": [
    {
     "data": {
      "image/png": "[encoded data removed]",
      "text/plain": [
       "<Figure size 432x288 with 1 Axes>"
      ]
     },
     "metadata": {
      "needs_background": "light"
     },
     "output_type": "display_data"
    }
   ],
   "source": [
    "plt.scatter(y_pred,y,alpha=.1)\n",
    "ax=plt.gca()\n",
    "ax.set_xlim(0,y.quantile(.99))\n",
    "ax.set_ylim(0,y.quantile(.99))\n",
    "ax.set_aspect('equal')"
   ]
  },
  {
   "cell_type": "code",
   "execution_count": 341,
   "metadata": {},
   "outputs": [
    {
     "data": {
      "text/plain": [
       "<AxesSubplot:xlabel='time'>"
      ]
     },
     "execution_count": 341,
     "metadata": {},
     "output_type": "execute_result"
    },
    {
     "data": {
      "image/png": "[encoded data removed]",
      "text/plain": [
       "<Figure size 1440x360 with 1 Axes>"
      ]
     },
     "metadata": {
      "needs_background": "light"
     },
     "output_type": "display_data"
    }
   ],
   "source": [
    "f,ax = plt.subplots(figsize=(20,5))\n",
    "y.plot(lw=0,marker='x')\n",
    "(y*0 + y_pred).plot(lw=0,marker='v')"
   ]
  },
  {
   "cell_type": "code",
   "execution_count": 342,
   "metadata": {},
   "outputs": [],
   "source": [
    "tot_sd = (y**2).sum()**.5"
   ]
  },
  {
   "cell_type": "code",
   "execution_count": 343,
   "metadata": {},
   "outputs": [],
   "source": [
    "exp_sd = ((y-y_pred)**2).sum()**.5"
   ]
  },
  {
   "cell_type": "code",
   "execution_count": 344,
   "metadata": {},
   "outputs": [
    {
     "data": {
      "text/plain": [
       "0.6023679765470931"
      ]
     },
     "execution_count": 344,
     "metadata": {},
     "output_type": "execute_result"
    }
   ],
   "source": [
    "best_sd = exp_sd/tot_sd\n",
    "best_sd"
   ]
  },
  {
   "cell_type": "code",
   "execution_count": 345,
   "metadata": {},
   "outputs": [
    {
     "data": {
      "text/plain": [
       "0.4383395496171839"
      ]
     },
     "execution_count": 345,
     "metadata": {},
     "output_type": "execute_result"
    }
   ],
   "source": [
    "np.corrcoef(y,y_pred)[0,1]**2"
   ]
  },
  {
   "cell_type": "code",
   "execution_count": 346,
   "metadata": {},
   "outputs": [
    {
     "data": {
      "image/png": "[encoded data removed]",
      "text/plain": [
       "<Figure size 432x288 with 1 Axes>"
      ]
     },
     "metadata": {
      "needs_background": "light"
     },
     "output_type": "display_data"
    }
   ],
   "source": [
    "plt.hist(lreg.coef_,bins=40);"
   ]
  },
  {
   "cell_type": "markdown",
   "metadata": {},
   "source": [
    "# Elastic net regression cross validated\n",
    "\n",
    "$L_{\\text {enet }}(\\hat{\\beta})=\\frac{\\sum_{i=1}^{n}\\left(y_{i}-x_{i}^{\\prime} \\hat{\\beta}\\right)^{2}}{2 n}+\\lambda\\left(\\frac{1-\\alpha}{2} \\sum_{j=1}^{m} \\hat{\\beta}_{j}^{2}+\\alpha \\sum_{j=1}^{m}\\left|\\hat{\\beta}_{j}\\right|\\right)$"
   ]
  },
  {
   "cell_type": "code",
   "execution_count": 347,
   "metadata": {},
   "outputs": [],
   "source": [
    "e_reg_cv=ElasticNetCV(\n",
    "    l1_ratio=[.1,0.5,0.7,.9,.99,.999,.9999,.99999,.999999,.9999999],\n",
    "    eps=0.001,\n",
    "    n_alphas=100,\n",
    "    alphas=None,\n",
    "    fit_intercept=False,\n",
    "    normalize='deprecated',\n",
    "    precompute='auto',\n",
    "    max_iter=1000,\n",
    "    tol=0.0001,\n",
    "    cv=5,\n",
    "    copy_X=True,\n",
    "    verbose=0,\n",
    "    n_jobs=None,\n",
    "    positive=True,\n",
    "    random_state=None,\n",
    "    selection='cyclic',\n",
    ")"
   ]
  },
  {
   "cell_type": "code",
   "execution_count": 348,
   "metadata": {},
   "outputs": [],
   "source": [
    "X = dm[dsf2.columns]\n",
    "y = dm[BC]\n",
    "e_reg_cv.fit(X,y)\n",
    "y_pred = e_reg_cv.predict(X)"
   ]
  },
  {
   "cell_type": "code",
   "execution_count": 349,
   "metadata": {},
   "outputs": [],
   "source": [
    "exp_sd = ((y-y_pred)**2).sum()**.5"
   ]
  },
  {
   "cell_type": "code",
   "execution_count": 350,
   "metadata": {},
   "outputs": [
    {
     "data": {
      "text/plain": [
       "0.6429797961225733"
      ]
     },
     "execution_count": 350,
     "metadata": {},
     "output_type": "execute_result"
    }
   ],
   "source": [
    "exp_sd/tot_sd"
   ]
  },
  {
   "cell_type": "code",
   "execution_count": 351,
   "metadata": {},
   "outputs": [
    {
     "data": {
      "text/plain": [
       "0.0028006589273022933"
      ]
     },
     "execution_count": 351,
     "metadata": {},
     "output_type": "execute_result"
    }
   ],
   "source": [
    "cv_a = e_reg_cv.alpha_\n",
    "cv_a"
   ]
  },
  {
   "cell_type": "code",
   "execution_count": 352,
   "metadata": {},
   "outputs": [
    {
     "data": {
      "text/plain": [
       "0.5"
      ]
     },
     "execution_count": 352,
     "metadata": {},
     "output_type": "execute_result"
    }
   ],
   "source": [
    "cv_l1 = e_reg_cv.l1_ratio_\n",
    "cv_l1"
   ]
  },
  {
   "cell_type": "code",
   "execution_count": 353,
   "metadata": {},
   "outputs": [
    {
     "data": {
      "image/png": "[encoded data removed]",
      "text/plain": [
       "<Figure size 432x288 with 1 Axes>"
      ]
     },
     "metadata": {
      "needs_background": "light"
     },
     "output_type": "display_data"
    }
   ],
   "source": [
    "plt.hist(e_reg_cv.coef_,bins=40);"
   ]
  },
  {
   "cell_type": "code",
   "execution_count": 354,
   "metadata": {},
   "outputs": [
    {
     "data": {
      "image/png": "[encoded data removed]",
      "text/plain": [
       "<Figure size 432x288 with 1 Axes>"
      ]
     },
     "metadata": {
      "needs_background": "light"
     },
     "output_type": "display_data"
    }
   ],
   "source": [
    "plt.scatter(y_pred,y,alpha=.1)\n",
    "ax=plt.gca()\n",
    "ax.set_xlim(0,y.quantile(.99))\n",
    "ax.set_ylim(0,y.quantile(.99))\n",
    "ax.set_aspect('equal')"
   ]
  },
  {
   "cell_type": "code",
   "execution_count": 355,
   "metadata": {},
   "outputs": [
    {
     "data": {
      "text/plain": [
       "<AxesSubplot:xlabel='time'>"
      ]
     },
     "execution_count": 355,
     "metadata": {},
     "output_type": "execute_result"
    },
    {
     "data": {
      "image/png": "[encoded data removed]",
      "text/plain": [
       "<Figure size 1440x360 with 1 Axes>"
      ]
     },
     "metadata": {
      "needs_background": "light"
     },
     "output_type": "display_data"
    }
   ],
   "source": [
    "f,ax = plt.subplots(figsize=(20,5))\n",
    "y.plot(lw=0,marker='x')\n",
    "(y*0 + y_pred).plot(lw=0,marker='v')"
   ]
  },
  {
   "cell_type": "markdown",
   "metadata": {},
   "source": [
    "alpha = a + b and l1_ratio = a / (a + b)"
   ]
  },
  {
   "cell_type": "code",
   "execution_count": 356,
   "metadata": {},
   "outputs": [
    {
     "data": {
      "text/plain": [
       "0.0028006589273022933"
      ]
     },
     "execution_count": 356,
     "metadata": {},
     "output_type": "execute_result"
    }
   ],
   "source": [
    "cv_a"
   ]
  },
  {
   "cell_type": "code",
   "execution_count": 357,
   "metadata": {},
   "outputs": [
    {
     "data": {
      "text/plain": [
       "0.0014003294636511466"
      ]
     },
     "execution_count": 357,
     "metadata": {},
     "output_type": "execute_result"
    }
   ],
   "source": [
    "B = cv_a * (1-cv_l1)\n",
    "B"
   ]
  },
  {
   "cell_type": "code",
   "execution_count": 358,
   "metadata": {},
   "outputs": [
    {
     "data": {
      "text/plain": [
       "0.0014003294636511466"
      ]
     },
     "execution_count": 358,
     "metadata": {},
     "output_type": "execute_result"
    }
   ],
   "source": [
    "A = cv_a - B\n",
    "A"
   ]
  },
  {
   "cell_type": "code",
   "execution_count": null,
   "metadata": {
    "lines_to_next_cell": 1
   },
   "outputs": [],
   "source": []
  },
  {
   "cell_type": "markdown",
   "metadata": {},
   "source": [
    "# selection"
   ]
  },
  {
   "cell_type": "code",
   "execution_count": 359,
   "metadata": {
    "lines_to_next_cell": 0
   },
   "outputs": [],
   "source": [
    "def elastic_net(_a, _l1, dsf2, dm, BC,tot_sd):\n",
    "    e_reg = ElasticNet(\n",
    "        alpha=_a,\n",
    "        l1_ratio=_l1,\n",
    "        fit_intercept=False,\n",
    "        normalize='deprecated',\n",
    "        precompute=False,\n",
    "        max_iter=1000,\n",
    "        copy_X=True,\n",
    "        tol=0.0001,\n",
    "        warm_start=False,\n",
    "        positive=True,\n",
    "        random_state=None,\n",
    "        selection='cyclic',\n",
    "    )\n",
    "\n",
    "    X = dm[dsf2.columns]\n",
    "    y = dm[BC]\n",
    "    e_reg.fit(X, y)\n",
    "    y_pred = e_reg.predict(X)\n",
    "\n",
    "\n",
    "\n",
    "    exp_sd = ((y - y_pred) ** 2).sum() ** .5\n",
    "\n",
    "    ratio = exp_sd / tot_sd\n",
    "\n",
    "    coef = X.sum().T * 0 + e_reg.coef_\n",
    "    return coef, ratio, exp_sd"
   ]
  },
  {
   "cell_type": "code",
   "execution_count": 360,
   "metadata": {},
   "outputs": [],
   "source": [
    "def to_min(fac):\n",
    "    nA = fac*A\n",
    "\n",
    "    _a = B + nA \n",
    "\n",
    "    _l1 = nA/(nA + B)\n",
    "\n",
    "\n",
    "    coef, ratio, exp_sd = elastic_net(_a, _l1, dsf2, dm, BC,tot_sd)\n",
    "#     print(ratio)\n",
    "    return np.abs(ratio - .9999)"
   ]
  },
  {
   "cell_type": "code",
   "execution_count": 361,
   "metadata": {},
   "outputs": [],
   "source": [
    "from scipy.optimize import minimize_scalar"
   ]
  },
  {
   "cell_type": "code",
   "execution_count": 362,
   "metadata": {
    "tags": []
   },
   "outputs": [],
   "source": [
    "res = minimize_scalar(to_min,method='Bounded',bounds=(1,1000))"
   ]
  },
  {
   "cell_type": "code",
   "execution_count": 427,
   "metadata": {},
   "outputs": [],
   "source": [
    "aas = np.linspace(1,res.x,100)"
   ]
  },
  {
   "cell_type": "code",
   "execution_count": 428,
   "metadata": {},
   "outputs": [
    {
     "data": {
      "text/plain": [
       "array([  1.        ,  11.07978847,  21.15957694,  31.23936542,\n",
       "        41.31915389,  51.39894236,  61.47873083,  71.5585193 ,\n",
       "        81.63830778,  91.71809625, 101.79788472, 111.87767319,\n",
       "       121.95746166, 132.03725014, 142.11703861, 152.19682708,\n",
       "       162.27661555, 172.35640402, 182.4361925 , 192.51598097,\n",
       "       202.59576944, 212.67555791, 222.75534638, 232.83513486,\n",
       "       242.91492333, 252.9947118 , 263.07450027, 273.15428874,\n",
       "       283.23407721, 293.31386569, 303.39365416, 313.47344263,\n",
       "       323.5532311 , 333.63301957, 343.71280805, 353.79259652,\n",
       "       363.87238499, 373.95217346, 384.03196193, 394.11175041,\n",
       "       404.19153888, 414.27132735, 424.35111582, 434.43090429,\n",
       "       444.51069277, 454.59048124, 464.67026971, 474.75005818,\n",
       "       484.82984665, 494.90963513, 504.9894236 , 515.06921207,\n",
       "       525.14900054, 535.22878901, 545.30857749, 555.38836596,\n",
       "       565.46815443, 575.5479429 , 585.62773137, 595.70751985,\n",
       "       605.78730832, 615.86709679, 625.94688526, 636.02667373,\n",
       "       646.10646221, 656.18625068, 666.26603915, 676.34582762,\n",
       "       686.42561609, 696.50540457, 706.58519304, 716.66498151,\n",
       "       726.74476998, 736.82455845, 746.90434693, 756.9841354 ,\n",
       "       767.06392387, 777.14371234, 787.22350081, 797.30328928,\n",
       "       807.38307776, 817.46286623, 827.5426547 , 837.62244317,\n",
       "       847.70223164, 857.78202012, 867.86180859, 877.94159706,\n",
       "       888.02138553, 898.101174  , 908.18096248, 918.26075095,\n",
       "       928.34053942, 938.42032789, 948.50011636, 958.57990484,\n",
       "       968.65969331, 978.73948178, 988.81927025, 998.89905872])"
      ]
     },
     "execution_count": 428,
     "metadata": {},
     "output_type": "execute_result"
    }
   ],
   "source": [
    "aas"
   ]
  },
  {
   "cell_type": "code",
   "execution_count": 429,
   "metadata": {
    "collapsed": true,
    "jupyter": {
     "outputs_hidden": true
    },
    "tags": []
   },
   "outputs": [
    {
     "name": "stderr",
     "output_type": "stream",
     "text": [
      "/Users/aliaga/miniforge3/envs/q5/lib/python3.9/site-packages/sklearn/linear_model/_coordinate_descent.py:631: ConvergenceWarning: Objective did not converge. You might want to increase the number of iterations. Duality gap: 149456.75, tolerance: 1029.4940185546875\n",
      "  model = cd_fast.enet_coordinate_descent_gram(\n",
      "/Users/aliaga/miniforge3/envs/q5/lib/python3.9/site-packages/sklearn/linear_model/_coordinate_descent.py:631: ConvergenceWarning: Objective did not converge. You might want to increase the number of iterations. Duality gap: 142833.390625, tolerance: 964.8446044921875\n",
      "  model = cd_fast.enet_coordinate_descent_gram(\n",
      "/Users/aliaga/miniforge3/envs/q5/lib/python3.9/site-packages/sklearn/linear_model/_coordinate_descent.py:631: ConvergenceWarning: Objective did not converge. You might want to increase the number of iterations. Duality gap: 349849.65625, tolerance: 1265.88232421875\n",
      "  model = cd_fast.enet_coordinate_descent_gram(\n",
      "/Users/aliaga/miniforge3/envs/q5/lib/python3.9/site-packages/sklearn/linear_model/_coordinate_descent.py:631: ConvergenceWarning: Objective did not converge. You might want to increase the number of iterations. Duality gap: 536472.4375, tolerance: 1477.689697265625\n",
      "  model = cd_fast.enet_coordinate_descent_gram(\n",
      "/Users/aliaga/miniforge3/envs/q5/lib/python3.9/site-packages/sklearn/linear_model/_coordinate_descent.py:631: ConvergenceWarning: Objective did not converge. You might want to increase the number of iterations. Duality gap: 19696.416015625, tolerance: 1522.064208984375\n",
      "  model = cd_fast.enet_coordinate_descent_gram(\n",
      "/Users/aliaga/miniforge3/envs/q5/lib/python3.9/site-packages/sklearn/linear_model/_coordinate_descent.py:631: ConvergenceWarning: Objective did not converge. You might want to increase the number of iterations. Duality gap: 476063.96875, tolerance: 1522.064208984375\n",
      "  model = cd_fast.enet_coordinate_descent_gram(\n",
      "/Users/aliaga/miniforge3/envs/q5/lib/python3.9/site-packages/sklearn/linear_model/_coordinate_descent.py:631: ConvergenceWarning: Objective did not converge. You might want to increase the number of iterations. Duality gap: 130534.0234375, tolerance: 1029.4940185546875\n",
      "  model = cd_fast.enet_coordinate_descent_gram(\n",
      "/Users/aliaga/miniforge3/envs/q5/lib/python3.9/site-packages/sklearn/linear_model/_coordinate_descent.py:631: ConvergenceWarning: Objective did not converge. You might want to increase the number of iterations. Duality gap: 177963.875, tolerance: 964.8446044921875\n",
      "  model = cd_fast.enet_coordinate_descent_gram(\n",
      "/Users/aliaga/miniforge3/envs/q5/lib/python3.9/site-packages/sklearn/linear_model/_coordinate_descent.py:631: ConvergenceWarning: Objective did not converge. You might want to increase the number of iterations. Duality gap: 518685.65625, tolerance: 1265.88232421875\n",
      "  model = cd_fast.enet_coordinate_descent_gram(\n",
      "/Users/aliaga/miniforge3/envs/q5/lib/python3.9/site-packages/sklearn/linear_model/_coordinate_descent.py:631: ConvergenceWarning: Objective did not converge. You might want to increase the number of iterations. Duality gap: 345036.3125, tolerance: 1477.689697265625\n",
      "  model = cd_fast.enet_coordinate_descent_gram(\n",
      "/Users/aliaga/miniforge3/envs/q5/lib/python3.9/site-packages/sklearn/linear_model/_coordinate_descent.py:631: ConvergenceWarning: Objective did not converge. You might want to increase the number of iterations. Duality gap: 11417.560546875, tolerance: 1522.064208984375\n",
      "  model = cd_fast.enet_coordinate_descent_gram(\n",
      "/Users/aliaga/miniforge3/envs/q5/lib/python3.9/site-packages/sklearn/linear_model/_coordinate_descent.py:631: ConvergenceWarning: Objective did not converge. You might want to increase the number of iterations. Duality gap: 318487.8125, tolerance: 1522.064208984375\n",
      "  model = cd_fast.enet_coordinate_descent_gram(\n",
      "/Users/aliaga/miniforge3/envs/q5/lib/python3.9/site-packages/sklearn/linear_model/_coordinate_descent.py:631: ConvergenceWarning: Objective did not converge. You might want to increase the number of iterations. Duality gap: 137658.546875, tolerance: 1029.4940185546875\n",
      "  model = cd_fast.enet_coordinate_descent_gram(\n",
      "/Users/aliaga/miniforge3/envs/q5/lib/python3.9/site-packages/sklearn/linear_model/_coordinate_descent.py:631: ConvergenceWarning: Objective did not converge. You might want to increase the number of iterations. Duality gap: 170864.65625, tolerance: 964.8446044921875\n",
      "  model = cd_fast.enet_coordinate_descent_gram(\n",
      "/Users/aliaga/miniforge3/envs/q5/lib/python3.9/site-packages/sklearn/linear_model/_coordinate_descent.py:631: ConvergenceWarning: Objective did not converge. You might want to increase the number of iterations. Duality gap: 710274.0625, tolerance: 1265.88232421875\n",
      "  model = cd_fast.enet_coordinate_descent_gram(\n",
      "/Users/aliaga/miniforge3/envs/q5/lib/python3.9/site-packages/sklearn/linear_model/_coordinate_descent.py:631: ConvergenceWarning: Objective did not converge. You might want to increase the number of iterations. Duality gap: 166286.765625, tolerance: 1477.689697265625\n",
      "  model = cd_fast.enet_coordinate_descent_gram(\n",
      "/Users/aliaga/miniforge3/envs/q5/lib/python3.9/site-packages/sklearn/linear_model/_coordinate_descent.py:631: ConvergenceWarning: Objective did not converge. You might want to increase the number of iterations. Duality gap: 581667.125, tolerance: 1522.064208984375\n",
      "  model = cd_fast.enet_coordinate_descent_gram(\n",
      "/Users/aliaga/miniforge3/envs/q5/lib/python3.9/site-packages/sklearn/linear_model/_coordinate_descent.py:631: ConvergenceWarning: Objective did not converge. You might want to increase the number of iterations. Duality gap: 205170.75, tolerance: 1029.4940185546875\n",
      "  model = cd_fast.enet_coordinate_descent_gram(\n",
      "/Users/aliaga/miniforge3/envs/q5/lib/python3.9/site-packages/sklearn/linear_model/_coordinate_descent.py:631: ConvergenceWarning: Objective did not converge. You might want to increase the number of iterations. Duality gap: 240357.625, tolerance: 964.8446044921875\n",
      "  model = cd_fast.enet_coordinate_descent_gram(\n",
      "/Users/aliaga/miniforge3/envs/q5/lib/python3.9/site-packages/sklearn/linear_model/_coordinate_descent.py:631: ConvergenceWarning: Objective did not converge. You might want to increase the number of iterations. Duality gap: 276353.0625, tolerance: 1265.88232421875\n",
      "  model = cd_fast.enet_coordinate_descent_gram(\n",
      "/Users/aliaga/miniforge3/envs/q5/lib/python3.9/site-packages/sklearn/linear_model/_coordinate_descent.py:631: ConvergenceWarning: Objective did not converge. You might want to increase the number of iterations. Duality gap: 296942.875, tolerance: 1477.689697265625\n",
      "  model = cd_fast.enet_coordinate_descent_gram(\n",
      "/Users/aliaga/miniforge3/envs/q5/lib/python3.9/site-packages/sklearn/linear_model/_coordinate_descent.py:631: ConvergenceWarning: Objective did not converge. You might want to increase the number of iterations. Duality gap: 601246.8125, tolerance: 1522.064208984375\n",
      "  model = cd_fast.enet_coordinate_descent_gram(\n",
      "/Users/aliaga/miniforge3/envs/q5/lib/python3.9/site-packages/sklearn/linear_model/_coordinate_descent.py:631: ConvergenceWarning: Objective did not converge. You might want to increase the number of iterations. Duality gap: 146629.140625, tolerance: 1029.4940185546875\n",
      "  model = cd_fast.enet_coordinate_descent_gram(\n",
      "/Users/aliaga/miniforge3/envs/q5/lib/python3.9/site-packages/sklearn/linear_model/_coordinate_descent.py:631: ConvergenceWarning: Objective did not converge. You might want to increase the number of iterations. Duality gap: 179628.390625, tolerance: 964.8446044921875\n",
      "  model = cd_fast.enet_coordinate_descent_gram(\n",
      "/Users/aliaga/miniforge3/envs/q5/lib/python3.9/site-packages/sklearn/linear_model/_coordinate_descent.py:631: ConvergenceWarning: Objective did not converge. You might want to increase the number of iterations. Duality gap: 351275.03125, tolerance: 1265.88232421875\n",
      "  model = cd_fast.enet_coordinate_descent_gram(\n",
      "/Users/aliaga/miniforge3/envs/q5/lib/python3.9/site-packages/sklearn/linear_model/_coordinate_descent.py:631: ConvergenceWarning: Objective did not converge. You might want to increase the number of iterations. Duality gap: 253627.34375, tolerance: 1477.689697265625\n",
      "  model = cd_fast.enet_coordinate_descent_gram(\n",
      "/Users/aliaga/miniforge3/envs/q5/lib/python3.9/site-packages/sklearn/linear_model/_coordinate_descent.py:631: ConvergenceWarning: Objective did not converge. You might want to increase the number of iterations. Duality gap: 268656.25, tolerance: 1522.064208984375\n",
      "  model = cd_fast.enet_coordinate_descent_gram(\n",
      "/Users/aliaga/miniforge3/envs/q5/lib/python3.9/site-packages/sklearn/linear_model/_coordinate_descent.py:631: ConvergenceWarning: Objective did not converge. You might want to increase the number of iterations. Duality gap: 98284.234375, tolerance: 1029.4940185546875\n",
      "  model = cd_fast.enet_coordinate_descent_gram(\n",
      "/Users/aliaga/miniforge3/envs/q5/lib/python3.9/site-packages/sklearn/linear_model/_coordinate_descent.py:631: ConvergenceWarning: Objective did not converge. You might want to increase the number of iterations. Duality gap: 175760.8125, tolerance: 964.8446044921875\n",
      "  model = cd_fast.enet_coordinate_descent_gram(\n",
      "/Users/aliaga/miniforge3/envs/q5/lib/python3.9/site-packages/sklearn/linear_model/_coordinate_descent.py:631: ConvergenceWarning: Objective did not converge. You might want to increase the number of iterations. Duality gap: 168180.0625, tolerance: 1265.88232421875\n",
      "  model = cd_fast.enet_coordinate_descent_gram(\n",
      "/Users/aliaga/miniforge3/envs/q5/lib/python3.9/site-packages/sklearn/linear_model/_coordinate_descent.py:631: ConvergenceWarning: Objective did not converge. You might want to increase the number of iterations. Duality gap: 204163.09375, tolerance: 1477.689697265625\n",
      "  model = cd_fast.enet_coordinate_descent_gram(\n",
      "/Users/aliaga/miniforge3/envs/q5/lib/python3.9/site-packages/sklearn/linear_model/_coordinate_descent.py:631: ConvergenceWarning: Objective did not converge. You might want to increase the number of iterations. Duality gap: 56562.125, tolerance: 1029.4940185546875\n",
      "  model = cd_fast.enet_coordinate_descent_gram(\n",
      "/Users/aliaga/miniforge3/envs/q5/lib/python3.9/site-packages/sklearn/linear_model/_coordinate_descent.py:631: ConvergenceWarning: Objective did not converge. You might want to increase the number of iterations. Duality gap: 151072.609375, tolerance: 964.8446044921875\n",
      "  model = cd_fast.enet_coordinate_descent_gram(\n",
      "/Users/aliaga/miniforge3/envs/q5/lib/python3.9/site-packages/sklearn/linear_model/_coordinate_descent.py:631: ConvergenceWarning: Objective did not converge. You might want to increase the number of iterations. Duality gap: 102039.9296875, tolerance: 1265.88232421875\n",
      "  model = cd_fast.enet_coordinate_descent_gram(\n",
      "/Users/aliaga/miniforge3/envs/q5/lib/python3.9/site-packages/sklearn/linear_model/_coordinate_descent.py:631: ConvergenceWarning: Objective did not converge. You might want to increase the number of iterations. Duality gap: 5600.80908203125, tolerance: 1477.689697265625\n",
      "  model = cd_fast.enet_coordinate_descent_gram(\n",
      "/Users/aliaga/miniforge3/envs/q5/lib/python3.9/site-packages/sklearn/linear_model/_coordinate_descent.py:631: ConvergenceWarning: Objective did not converge. You might want to increase the number of iterations. Duality gap: 385112.3125, tolerance: 1477.689697265625\n",
      "  model = cd_fast.enet_coordinate_descent_gram(\n",
      "/Users/aliaga/miniforge3/envs/q5/lib/python3.9/site-packages/sklearn/linear_model/_coordinate_descent.py:631: ConvergenceWarning: Objective did not converge. You might want to increase the number of iterations. Duality gap: 222236.1875, tolerance: 1522.064208984375\n",
      "  model = cd_fast.enet_coordinate_descent_gram(\n",
      "/Users/aliaga/miniforge3/envs/q5/lib/python3.9/site-packages/sklearn/linear_model/_coordinate_descent.py:631: ConvergenceWarning: Objective did not converge. You might want to increase the number of iterations. Duality gap: 127043.53125, tolerance: 1029.4940185546875\n",
      "  model = cd_fast.enet_coordinate_descent_gram(\n",
      "/Users/aliaga/miniforge3/envs/q5/lib/python3.9/site-packages/sklearn/linear_model/_coordinate_descent.py:631: ConvergenceWarning: Objective did not converge. You might want to increase the number of iterations. Duality gap: 161198.1875, tolerance: 964.8446044921875\n",
      "  model = cd_fast.enet_coordinate_descent_gram(\n",
      "/Users/aliaga/miniforge3/envs/q5/lib/python3.9/site-packages/sklearn/linear_model/_coordinate_descent.py:631: ConvergenceWarning: Objective did not converge. You might want to increase the number of iterations. Duality gap: 482864.65625, tolerance: 1265.88232421875\n",
      "  model = cd_fast.enet_coordinate_descent_gram(\n",
      "/Users/aliaga/miniforge3/envs/q5/lib/python3.9/site-packages/sklearn/linear_model/_coordinate_descent.py:631: ConvergenceWarning: Objective did not converge. You might want to increase the number of iterations. Duality gap: 160052.734375, tolerance: 1477.689697265625\n",
      "  model = cd_fast.enet_coordinate_descent_gram(\n",
      "/Users/aliaga/miniforge3/envs/q5/lib/python3.9/site-packages/sklearn/linear_model/_coordinate_descent.py:631: ConvergenceWarning: Objective did not converge. You might want to increase the number of iterations. Duality gap: 294276.8125, tolerance: 1522.064208984375\n",
      "  model = cd_fast.enet_coordinate_descent_gram(\n",
      "/Users/aliaga/miniforge3/envs/q5/lib/python3.9/site-packages/sklearn/linear_model/_coordinate_descent.py:631: ConvergenceWarning: Objective did not converge. You might want to increase the number of iterations. Duality gap: 184610.203125, tolerance: 964.8446044921875\n",
      "  model = cd_fast.enet_coordinate_descent_gram(\n",
      "/Users/aliaga/miniforge3/envs/q5/lib/python3.9/site-packages/sklearn/linear_model/_coordinate_descent.py:631: ConvergenceWarning: Objective did not converge. You might want to increase the number of iterations. Duality gap: 106521.71875, tolerance: 1265.88232421875\n",
      "  model = cd_fast.enet_coordinate_descent_gram(\n",
      "/Users/aliaga/miniforge3/envs/q5/lib/python3.9/site-packages/sklearn/linear_model/_coordinate_descent.py:631: ConvergenceWarning: Objective did not converge. You might want to increase the number of iterations. Duality gap: 52197.87109375, tolerance: 1477.689697265625\n",
      "  model = cd_fast.enet_coordinate_descent_gram(\n",
      "/Users/aliaga/miniforge3/envs/q5/lib/python3.9/site-packages/sklearn/linear_model/_coordinate_descent.py:631: ConvergenceWarning: Objective did not converge. You might want to increase the number of iterations. Duality gap: 440814.90625, tolerance: 1522.064208984375\n",
      "  model = cd_fast.enet_coordinate_descent_gram(\n",
      "/Users/aliaga/miniforge3/envs/q5/lib/python3.9/site-packages/sklearn/linear_model/_coordinate_descent.py:631: ConvergenceWarning: Objective did not converge. You might want to increase the number of iterations. Duality gap: 225180.515625, tolerance: 964.8446044921875\n",
      "  model = cd_fast.enet_coordinate_descent_gram(\n",
      "/Users/aliaga/miniforge3/envs/q5/lib/python3.9/site-packages/sklearn/linear_model/_coordinate_descent.py:631: ConvergenceWarning: Objective did not converge. You might want to increase the number of iterations. Duality gap: 262785.0625, tolerance: 1265.88232421875\n",
      "  model = cd_fast.enet_coordinate_descent_gram(\n",
      "/Users/aliaga/miniforge3/envs/q5/lib/python3.9/site-packages/sklearn/linear_model/_coordinate_descent.py:631: ConvergenceWarning: Objective did not converge. You might want to increase the number of iterations. Duality gap: 504989.125, tolerance: 1477.689697265625\n",
      "  model = cd_fast.enet_coordinate_descent_gram(\n",
      "/Users/aliaga/miniforge3/envs/q5/lib/python3.9/site-packages/sklearn/linear_model/_coordinate_descent.py:631: ConvergenceWarning: Objective did not converge. You might want to increase the number of iterations. Duality gap: 120034.7421875, tolerance: 1522.064208984375\n",
      "  model = cd_fast.enet_coordinate_descent_gram(\n",
      "/Users/aliaga/miniforge3/envs/q5/lib/python3.9/site-packages/sklearn/linear_model/_coordinate_descent.py:631: ConvergenceWarning: Objective did not converge. You might want to increase the number of iterations. Duality gap: 214924.671875, tolerance: 1029.4940185546875\n",
      "  model = cd_fast.enet_coordinate_descent_gram(\n",
      "/Users/aliaga/miniforge3/envs/q5/lib/python3.9/site-packages/sklearn/linear_model/_coordinate_descent.py:631: ConvergenceWarning: Objective did not converge. You might want to increase the number of iterations. Duality gap: 227712.9375, tolerance: 1265.88232421875\n",
      "  model = cd_fast.enet_coordinate_descent_gram(\n",
      "/Users/aliaga/miniforge3/envs/q5/lib/python3.9/site-packages/sklearn/linear_model/_coordinate_descent.py:631: ConvergenceWarning: Objective did not converge. You might want to increase the number of iterations. Duality gap: 247881.25, tolerance: 1477.689697265625\n",
      "  model = cd_fast.enet_coordinate_descent_gram(\n",
      "/Users/aliaga/miniforge3/envs/q5/lib/python3.9/site-packages/sklearn/linear_model/_coordinate_descent.py:631: ConvergenceWarning: Objective did not converge. You might want to increase the number of iterations. Duality gap: 471520.21875, tolerance: 1522.064208984375\n",
      "  model = cd_fast.enet_coordinate_descent_gram(\n",
      "/Users/aliaga/miniforge3/envs/q5/lib/python3.9/site-packages/sklearn/linear_model/_coordinate_descent.py:631: ConvergenceWarning: Objective did not converge. You might want to increase the number of iterations. Duality gap: 41723.859375, tolerance: 1029.4940185546875\n",
      "  model = cd_fast.enet_coordinate_descent_gram(\n",
      "/Users/aliaga/miniforge3/envs/q5/lib/python3.9/site-packages/sklearn/linear_model/_coordinate_descent.py:631: ConvergenceWarning: Objective did not converge. You might want to increase the number of iterations. Duality gap: 145093.53125, tolerance: 964.8446044921875\n",
      "  model = cd_fast.enet_coordinate_descent_gram(\n",
      "/Users/aliaga/miniforge3/envs/q5/lib/python3.9/site-packages/sklearn/linear_model/_coordinate_descent.py:631: ConvergenceWarning: Objective did not converge. You might want to increase the number of iterations. Duality gap: 241632.265625, tolerance: 1265.88232421875\n",
      "  model = cd_fast.enet_coordinate_descent_gram(\n",
      "/Users/aliaga/miniforge3/envs/q5/lib/python3.9/site-packages/sklearn/linear_model/_coordinate_descent.py:631: ConvergenceWarning: Objective did not converge. You might want to increase the number of iterations. Duality gap: 157450.71875, tolerance: 1522.064208984375\n",
      "  model = cd_fast.enet_coordinate_descent_gram(\n",
      "/Users/aliaga/miniforge3/envs/q5/lib/python3.9/site-packages/sklearn/linear_model/_coordinate_descent.py:631: ConvergenceWarning: Objective did not converge. You might want to increase the number of iterations. Duality gap: 202631.6875, tolerance: 1029.4940185546875\n",
      "  model = cd_fast.enet_coordinate_descent_gram(\n",
      "/Users/aliaga/miniforge3/envs/q5/lib/python3.9/site-packages/sklearn/linear_model/_coordinate_descent.py:631: ConvergenceWarning: Objective did not converge. You might want to increase the number of iterations. Duality gap: 103225.4765625, tolerance: 964.8446044921875\n",
      "  model = cd_fast.enet_coordinate_descent_gram(\n",
      "/Users/aliaga/miniforge3/envs/q5/lib/python3.9/site-packages/sklearn/linear_model/_coordinate_descent.py:631: ConvergenceWarning: Objective did not converge. You might want to increase the number of iterations. Duality gap: 335429.40625, tolerance: 1265.88232421875\n",
      "  model = cd_fast.enet_coordinate_descent_gram(\n",
      "/Users/aliaga/miniforge3/envs/q5/lib/python3.9/site-packages/sklearn/linear_model/_coordinate_descent.py:631: ConvergenceWarning: Objective did not converge. You might want to increase the number of iterations. Duality gap: 526078.8125, tolerance: 1522.064208984375\n",
      "  model = cd_fast.enet_coordinate_descent_gram(\n",
      "/Users/aliaga/miniforge3/envs/q5/lib/python3.9/site-packages/sklearn/linear_model/_coordinate_descent.py:631: ConvergenceWarning: Objective did not converge. You might want to increase the number of iterations. Duality gap: 130099.1015625, tolerance: 964.8446044921875\n",
      "  model = cd_fast.enet_coordinate_descent_gram(\n",
      "/Users/aliaga/miniforge3/envs/q5/lib/python3.9/site-packages/sklearn/linear_model/_coordinate_descent.py:631: ConvergenceWarning: Objective did not converge. You might want to increase the number of iterations. Duality gap: 808563.625, tolerance: 1522.064208984375\n",
      "  model = cd_fast.enet_coordinate_descent_gram(\n",
      "/Users/aliaga/miniforge3/envs/q5/lib/python3.9/site-packages/sklearn/linear_model/_coordinate_descent.py:631: ConvergenceWarning: Objective did not converge. You might want to increase the number of iterations. Duality gap: 186857.59375, tolerance: 1029.4940185546875\n",
      "  model = cd_fast.enet_coordinate_descent_gram(\n",
      "/Users/aliaga/miniforge3/envs/q5/lib/python3.9/site-packages/sklearn/linear_model/_coordinate_descent.py:631: ConvergenceWarning: Objective did not converge. You might want to increase the number of iterations. Duality gap: 171214.125, tolerance: 964.8446044921875\n",
      "  model = cd_fast.enet_coordinate_descent_gram(\n",
      "/Users/aliaga/miniforge3/envs/q5/lib/python3.9/site-packages/sklearn/linear_model/_coordinate_descent.py:631: ConvergenceWarning: Objective did not converge. You might want to increase the number of iterations. Duality gap: 537039.1875, tolerance: 1265.88232421875\n",
      "  model = cd_fast.enet_coordinate_descent_gram(\n",
      "/Users/aliaga/miniforge3/envs/q5/lib/python3.9/site-packages/sklearn/linear_model/_coordinate_descent.py:631: ConvergenceWarning: Objective did not converge. You might want to increase the number of iterations. Duality gap: 419145.65625, tolerance: 1522.064208984375\n",
      "  model = cd_fast.enet_coordinate_descent_gram(\n",
      "/Users/aliaga/miniforge3/envs/q5/lib/python3.9/site-packages/sklearn/linear_model/_coordinate_descent.py:631: ConvergenceWarning: Objective did not converge. You might want to increase the number of iterations. Duality gap: 132905.625, tolerance: 964.8446044921875\n",
      "  model = cd_fast.enet_coordinate_descent_gram(\n",
      "/Users/aliaga/miniforge3/envs/q5/lib/python3.9/site-packages/sklearn/linear_model/_coordinate_descent.py:631: ConvergenceWarning: Objective did not converge. You might want to increase the number of iterations. Duality gap: 279590.0625, tolerance: 1265.88232421875\n",
      "  model = cd_fast.enet_coordinate_descent_gram(\n",
      "/Users/aliaga/miniforge3/envs/q5/lib/python3.9/site-packages/sklearn/linear_model/_coordinate_descent.py:631: ConvergenceWarning: Objective did not converge. You might want to increase the number of iterations. Duality gap: 489287.46875, tolerance: 1522.064208984375\n",
      "  model = cd_fast.enet_coordinate_descent_gram(\n",
      "/Users/aliaga/miniforge3/envs/q5/lib/python3.9/site-packages/sklearn/linear_model/_coordinate_descent.py:631: ConvergenceWarning: Objective did not converge. You might want to increase the number of iterations. Duality gap: 147857.75, tolerance: 1265.88232421875\n",
      "  model = cd_fast.enet_coordinate_descent_gram(\n",
      "/Users/aliaga/miniforge3/envs/q5/lib/python3.9/site-packages/sklearn/linear_model/_coordinate_descent.py:631: ConvergenceWarning: Objective did not converge. You might want to increase the number of iterations. Duality gap: 245597.21875, tolerance: 1522.064208984375\n",
      "  model = cd_fast.enet_coordinate_descent_gram(\n",
      "/Users/aliaga/miniforge3/envs/q5/lib/python3.9/site-packages/sklearn/linear_model/_coordinate_descent.py:631: ConvergenceWarning: Objective did not converge. You might want to increase the number of iterations. Duality gap: 495220.28125, tolerance: 1522.064208984375\n",
      "  model = cd_fast.enet_coordinate_descent_gram(\n",
      "/Users/aliaga/miniforge3/envs/q5/lib/python3.9/site-packages/sklearn/linear_model/_coordinate_descent.py:631: ConvergenceWarning: Objective did not converge. You might want to increase the number of iterations. Duality gap: 173232.421875, tolerance: 964.8446044921875\n",
      "  model = cd_fast.enet_coordinate_descent_gram(\n",
      "/Users/aliaga/miniforge3/envs/q5/lib/python3.9/site-packages/sklearn/linear_model/_coordinate_descent.py:631: ConvergenceWarning: Objective did not converge. You might want to increase the number of iterations. Duality gap: 76090.28125, tolerance: 1265.88232421875\n",
      "  model = cd_fast.enet_coordinate_descent_gram(\n",
      "/Users/aliaga/miniforge3/envs/q5/lib/python3.9/site-packages/sklearn/linear_model/_coordinate_descent.py:631: ConvergenceWarning: Objective did not converge. You might want to increase the number of iterations. Duality gap: 378331.0625, tolerance: 1522.064208984375\n",
      "  model = cd_fast.enet_coordinate_descent_gram(\n",
      "/Users/aliaga/miniforge3/envs/q5/lib/python3.9/site-packages/sklearn/linear_model/_coordinate_descent.py:631: ConvergenceWarning: Objective did not converge. You might want to increase the number of iterations. Duality gap: 94096.8125, tolerance: 1029.4940185546875\n",
      "  model = cd_fast.enet_coordinate_descent_gram(\n",
      "/Users/aliaga/miniforge3/envs/q5/lib/python3.9/site-packages/sklearn/linear_model/_coordinate_descent.py:631: ConvergenceWarning: Objective did not converge. You might want to increase the number of iterations. Duality gap: 73716.3515625, tolerance: 1029.4940185546875\n",
      "  model = cd_fast.enet_coordinate_descent_gram(\n",
      "/Users/aliaga/miniforge3/envs/q5/lib/python3.9/site-packages/sklearn/linear_model/_coordinate_descent.py:631: ConvergenceWarning: Objective did not converge. You might want to increase the number of iterations. Duality gap: 152511.421875, tolerance: 1265.88232421875\n",
      "  model = cd_fast.enet_coordinate_descent_gram(\n",
      "/Users/aliaga/miniforge3/envs/q5/lib/python3.9/site-packages/sklearn/linear_model/_coordinate_descent.py:631: ConvergenceWarning: Objective did not converge. You might want to increase the number of iterations. Duality gap: 122169.71875, tolerance: 1522.064208984375\n",
      "  model = cd_fast.enet_coordinate_descent_gram(\n",
      "/Users/aliaga/miniforge3/envs/q5/lib/python3.9/site-packages/sklearn/linear_model/_coordinate_descent.py:631: ConvergenceWarning: Objective did not converge. You might want to increase the number of iterations. Duality gap: 136837.484375, tolerance: 964.8446044921875\n",
      "  model = cd_fast.enet_coordinate_descent_gram(\n",
      "/Users/aliaga/miniforge3/envs/q5/lib/python3.9/site-packages/sklearn/linear_model/_coordinate_descent.py:631: ConvergenceWarning: Objective did not converge. You might want to increase the number of iterations. Duality gap: 341024.3125, tolerance: 1265.88232421875\n",
      "  model = cd_fast.enet_coordinate_descent_gram(\n",
      "/Users/aliaga/miniforge3/envs/q5/lib/python3.9/site-packages/sklearn/linear_model/_coordinate_descent.py:631: ConvergenceWarning: Objective did not converge. You might want to increase the number of iterations. Duality gap: 126384.5390625, tolerance: 1265.88232421875\n",
      "  model = cd_fast.enet_coordinate_descent_gram(\n",
      "/Users/aliaga/miniforge3/envs/q5/lib/python3.9/site-packages/sklearn/linear_model/_coordinate_descent.py:631: ConvergenceWarning: Objective did not converge. You might want to increase the number of iterations. Duality gap: 275079.09375, tolerance: 1265.88232421875\n",
      "  model = cd_fast.enet_coordinate_descent_gram(\n",
      "/Users/aliaga/miniforge3/envs/q5/lib/python3.9/site-packages/sklearn/linear_model/_coordinate_descent.py:631: ConvergenceWarning: Objective did not converge. You might want to increase the number of iterations. Duality gap: 11298.22265625, tolerance: 1522.064208984375\n",
      "  model = cd_fast.enet_coordinate_descent_gram(\n",
      "/Users/aliaga/miniforge3/envs/q5/lib/python3.9/site-packages/sklearn/linear_model/_coordinate_descent.py:631: ConvergenceWarning: Objective did not converge. You might want to increase the number of iterations. Duality gap: 11298.22265625, tolerance: 1522.064208984375\n",
      "  model = cd_fast.enet_coordinate_descent_gram(\n",
      "/Users/aliaga/miniforge3/envs/q5/lib/python3.9/site-packages/sklearn/linear_model/_coordinate_descent.py:631: ConvergenceWarning: Objective did not converge. You might want to increase the number of iterations. Duality gap: 11298.22265625, tolerance: 1522.064208984375\n",
      "  model = cd_fast.enet_coordinate_descent_gram(\n",
      "/Users/aliaga/miniforge3/envs/q5/lib/python3.9/site-packages/sklearn/linear_model/_coordinate_descent.py:631: ConvergenceWarning: Objective did not converge. You might want to increase the number of iterations. Duality gap: 3532.974365234375, tolerance: 1029.4940185546875\n",
      "  model = cd_fast.enet_coordinate_descent_gram(\n",
      "/Users/aliaga/miniforge3/envs/q5/lib/python3.9/site-packages/sklearn/linear_model/_coordinate_descent.py:631: ConvergenceWarning: Objective did not converge. You might want to increase the number of iterations. Duality gap: 1302.479248046875, tolerance: 964.8446044921875\n",
      "  model = cd_fast.enet_coordinate_descent_gram(\n",
      "/Users/aliaga/miniforge3/envs/q5/lib/python3.9/site-packages/sklearn/linear_model/_coordinate_descent.py:631: ConvergenceWarning: Objective did not converge. You might want to increase the number of iterations. Duality gap: 8923.9033203125, tolerance: 1477.689697265625\n",
      "  model = cd_fast.enet_coordinate_descent_gram(\n",
      "/Users/aliaga/miniforge3/envs/q5/lib/python3.9/site-packages/sklearn/linear_model/_coordinate_descent.py:631: ConvergenceWarning: Objective did not converge. You might want to increase the number of iterations. Duality gap: 21399.91015625, tolerance: 1522.064208984375\n",
      "  model = cd_fast.enet_coordinate_descent_gram(\n",
      "/Users/aliaga/miniforge3/envs/q5/lib/python3.9/site-packages/sklearn/linear_model/_coordinate_descent.py:631: ConvergenceWarning: Objective did not converge. You might want to increase the number of iterations. Duality gap: 7167.80126953125, tolerance: 1029.4940185546875\n",
      "  model = cd_fast.enet_coordinate_descent_gram(\n",
      "/Users/aliaga/miniforge3/envs/q5/lib/python3.9/site-packages/sklearn/linear_model/_coordinate_descent.py:631: ConvergenceWarning: Objective did not converge. You might want to increase the number of iterations. Duality gap: 14521.1396484375, tolerance: 1477.689697265625\n",
      "  model = cd_fast.enet_coordinate_descent_gram(\n",
      "/Users/aliaga/miniforge3/envs/q5/lib/python3.9/site-packages/sklearn/linear_model/_coordinate_descent.py:631: ConvergenceWarning: Objective did not converge. You might want to increase the number of iterations. Duality gap: 6734.8798828125, tolerance: 1522.064208984375\n",
      "  model = cd_fast.enet_coordinate_descent_gram(\n",
      "/Users/aliaga/miniforge3/envs/q5/lib/python3.9/site-packages/sklearn/linear_model/_coordinate_descent.py:631: ConvergenceWarning: Objective did not converge. You might want to increase the number of iterations. Duality gap: 7167.80126953125, tolerance: 1029.4940185546875\n",
      "  model = cd_fast.enet_coordinate_descent_gram(\n",
      "/Users/aliaga/miniforge3/envs/q5/lib/python3.9/site-packages/sklearn/linear_model/_coordinate_descent.py:631: ConvergenceWarning: Objective did not converge. You might want to increase the number of iterations. Duality gap: 14521.1396484375, tolerance: 1477.689697265625\n",
      "  model = cd_fast.enet_coordinate_descent_gram(\n",
      "/Users/aliaga/miniforge3/envs/q5/lib/python3.9/site-packages/sklearn/linear_model/_coordinate_descent.py:631: ConvergenceWarning: Objective did not converge. You might want to increase the number of iterations. Duality gap: 6734.8798828125, tolerance: 1522.064208984375\n",
      "  model = cd_fast.enet_coordinate_descent_gram(\n",
      "/Users/aliaga/miniforge3/envs/q5/lib/python3.9/site-packages/sklearn/linear_model/_coordinate_descent.py:631: ConvergenceWarning: Objective did not converge. You might want to increase the number of iterations. Duality gap: 22400.521484375, tolerance: 1029.4940185546875\n",
      "  model = cd_fast.enet_coordinate_descent_gram(\n",
      "/Users/aliaga/miniforge3/envs/q5/lib/python3.9/site-packages/sklearn/linear_model/_coordinate_descent.py:631: ConvergenceWarning: Objective did not converge. You might want to increase the number of iterations. Duality gap: 7591.880859375, tolerance: 1522.064208984375\n",
      "  model = cd_fast.enet_coordinate_descent_gram(\n",
      "/Users/aliaga/miniforge3/envs/q5/lib/python3.9/site-packages/sklearn/linear_model/_coordinate_descent.py:645: ConvergenceWarning: Objective did not converge. You might want to increase the number of iterations, check the scale of the features or consider increasing regularisation. Duality gap: 6.133e+04, tolerance: 1.565e+03\n",
      "  model = cd_fast.enet_coordinate_descent(\n",
      "/Users/aliaga/miniforge3/envs/q5/lib/python3.9/site-packages/sklearn/linear_model/_coordinate_descent.py:631: ConvergenceWarning: Objective did not converge. You might want to increase the number of iterations. Duality gap: 22400.521484375, tolerance: 1029.4940185546875\n",
      "  model = cd_fast.enet_coordinate_descent_gram(\n",
      "/Users/aliaga/miniforge3/envs/q5/lib/python3.9/site-packages/sklearn/linear_model/_coordinate_descent.py:631: ConvergenceWarning: Objective did not converge. You might want to increase the number of iterations. Duality gap: 7591.880859375, tolerance: 1522.064208984375\n",
      "  model = cd_fast.enet_coordinate_descent_gram(\n",
      "/Users/aliaga/miniforge3/envs/q5/lib/python3.9/site-packages/sklearn/linear_model/_coordinate_descent.py:645: ConvergenceWarning: Objective did not converge. You might want to increase the number of iterations, check the scale of the features or consider increasing regularisation. Duality gap: 6.133e+04, tolerance: 1.565e+03\n",
      "  model = cd_fast.enet_coordinate_descent(\n",
      "/Users/aliaga/miniforge3/envs/q5/lib/python3.9/site-packages/sklearn/linear_model/_coordinate_descent.py:631: ConvergenceWarning: Objective did not converge. You might want to increase the number of iterations. Duality gap: 22400.521484375, tolerance: 1029.4940185546875\n",
      "  model = cd_fast.enet_coordinate_descent_gram(\n",
      "/Users/aliaga/miniforge3/envs/q5/lib/python3.9/site-packages/sklearn/linear_model/_coordinate_descent.py:631: ConvergenceWarning: Objective did not converge. You might want to increase the number of iterations. Duality gap: 7591.880859375, tolerance: 1522.064208984375\n",
      "  model = cd_fast.enet_coordinate_descent_gram(\n",
      "/Users/aliaga/miniforge3/envs/q5/lib/python3.9/site-packages/sklearn/linear_model/_coordinate_descent.py:645: ConvergenceWarning: Objective did not converge. You might want to increase the number of iterations, check the scale of the features or consider increasing regularisation. Duality gap: 6.133e+04, tolerance: 1.565e+03\n",
      "  model = cd_fast.enet_coordinate_descent(\n",
      "/Users/aliaga/miniforge3/envs/q5/lib/python3.9/site-packages/sklearn/linear_model/_coordinate_descent.py:631: ConvergenceWarning: Objective did not converge. You might want to increase the number of iterations. Duality gap: 22400.521484375, tolerance: 1029.4940185546875\n",
      "  model = cd_fast.enet_coordinate_descent_gram(\n",
      "/Users/aliaga/miniforge3/envs/q5/lib/python3.9/site-packages/sklearn/linear_model/_coordinate_descent.py:631: ConvergenceWarning: Objective did not converge. You might want to increase the number of iterations. Duality gap: 7591.880859375, tolerance: 1522.064208984375\n",
      "  model = cd_fast.enet_coordinate_descent_gram(\n",
      "/Users/aliaga/miniforge3/envs/q5/lib/python3.9/site-packages/sklearn/linear_model/_coordinate_descent.py:645: ConvergenceWarning: Objective did not converge. You might want to increase the number of iterations, check the scale of the features or consider increasing regularisation. Duality gap: 6.133e+04, tolerance: 1.565e+03\n",
      "  model = cd_fast.enet_coordinate_descent(\n",
      "/Users/aliaga/miniforge3/envs/q5/lib/python3.9/site-packages/sklearn/linear_model/_coordinate_descent.py:631: ConvergenceWarning: Objective did not converge. You might want to increase the number of iterations. Duality gap: 22400.521484375, tolerance: 1029.4940185546875\n",
      "  model = cd_fast.enet_coordinate_descent_gram(\n",
      "/Users/aliaga/miniforge3/envs/q5/lib/python3.9/site-packages/sklearn/linear_model/_coordinate_descent.py:631: ConvergenceWarning: Objective did not converge. You might want to increase the number of iterations. Duality gap: 7591.880859375, tolerance: 1522.064208984375\n",
      "  model = cd_fast.enet_coordinate_descent_gram(\n",
      "/Users/aliaga/miniforge3/envs/q5/lib/python3.9/site-packages/sklearn/linear_model/_coordinate_descent.py:645: ConvergenceWarning: Objective did not converge. You might want to increase the number of iterations, check the scale of the features or consider increasing regularisation. Duality gap: 6.133e+04, tolerance: 1.565e+03\n",
      "  model = cd_fast.enet_coordinate_descent(\n"
     ]
    }
   ],
   "source": [
    "dic = {}\n",
    "for aa in aas:\n",
    "#     print(aa)\n",
    "    d2 = {}\n",
    "    nA = aa * A\n",
    "#     print(aa)\n",
    "\n",
    "    _a = B + nA \n",
    "\n",
    "    _l1 = nA/(nA + B)\n",
    "\n",
    "\n",
    "    coef, ratio, exp_sd = elastic_net(_a, _l1, dsf2, dm, BC,tot_sd)\n",
    "\n",
    "    inn=coef[coef>0].index\n",
    "\n",
    "\n",
    "    e_reg_cv=ElasticNetCV(\n",
    "        l1_ratio=0.01,\n",
    "        eps=0.001,\n",
    "    #     n_alphas=100,\n",
    "        alphas=[.0001,.001,.01,.1,1,10,100,1000,10000],\n",
    "        fit_intercept=False,\n",
    "        normalize='deprecated',\n",
    "        precompute='auto',\n",
    "        max_iter=100000,\n",
    "        tol=0.0001,\n",
    "        cv=5,\n",
    "        copy_X=True,\n",
    "        verbose=0,\n",
    "        n_jobs=None,\n",
    "        positive=True,\n",
    "        random_state=None,\n",
    "        selection='cyclic',\n",
    "    )\n",
    "\n",
    "    X = dm[inn]\n",
    "    y = dm[BC]\n",
    "    e_reg_cv.fit(X, y)\n",
    "    y_pred = e_reg_cv.predict(X)\n",
    "\n",
    "    exp_sd = ((y - y_pred) ** 2).sum() ** .5\n",
    "\n",
    "    ratio = exp_sd / tot_sd\n",
    "\n",
    "    coef = X.sum().T * 0 + e_reg_cv.coef_\n",
    "\n",
    "    d2['coef'] = coef\n",
    "    d2['ratio'] = ratio\n",
    "    d2['exp_sd'] = exp_sd\n",
    "    dic[aa] = d2\n",
    "        \n"
   ]
  },
  {
   "cell_type": "code",
   "execution_count": 398,
   "metadata": {},
   "outputs": [],
   "source": [
    "dk = {}\n",
    "for k,r in dic.items():\n",
    "    dk[k] = r['coef'].to_dict()\n",
    "ddf = pd.DataFrame(dk).T"
   ]
  },
  {
   "cell_type": "code",
   "execution_count": null,
   "metadata": {},
   "outputs": [],
   "source": []
  },
  {
   "cell_type": "code",
   "execution_count": 399,
   "metadata": {},
   "outputs": [
    {
     "data": {
      "image/png": "[encoded data removed]",
      "text/plain": [
       "<Figure size 432x288 with 1 Axes>"
      ]
     },
     "metadata": {
      "needs_background": "light"
     },
     "output_type": "display_data"
    }
   ],
   "source": [
    "\n",
    "ddf.plot.area()\n",
    "ax = plt.gca()\n",
    "ax.get_legend().remove()"
   ]
  },
  {
   "cell_type": "code",
   "execution_count": 400,
   "metadata": {},
   "outputs": [
    {
     "data": {
      "text/plain": [
       "<AxesSubplot:>"
      ]
     },
     "execution_count": 400,
     "metadata": {},
     "output_type": "execute_result"
    },
    {
     "data": {
      "image/png": "[encoded data removed]",
      "text/plain": [
       "<Figure size 432x288 with 1 Axes>"
      ]
     },
     "metadata": {
      "needs_background": "light"
     },
     "output_type": "display_data"
    }
   ],
   "source": [
    "dk = {}\n",
    "for k,r in dic.items():\n",
    "    dk[k] = 1-r['ratio']\n",
    "pd.Series(dk).plot()"
   ]
  },
  {
   "cell_type": "code",
   "execution_count": 408,
   "metadata": {},
   "outputs": [],
   "source": [
    "dk = {}\n",
    "for k,r in dic.items():\n",
    "    dk[1-dic[k]['ratio']] = r['coef'].to_dict()\n",
    "ddf = pd.DataFrame(dk).T"
   ]
  },
  {
   "cell_type": "code",
   "execution_count": null,
   "metadata": {},
   "outputs": [],
   "source": []
  },
  {
   "cell_type": "code",
   "execution_count": 659,
   "metadata": {},
   "outputs": [],
   "source": [
    "la = []\n",
    "rr = []\n",
    "# lr = {0.1+i/100000:0 for i in range(1,100)}\n",
    "lr = {0:0}\n",
    "# lr = {}\n",
    "for l,r in ddf[::-1].iterrows():\n",
    "    ii = r[r>0].index\n",
    "    bo = ~ii.isin(la)\n",
    "    la = [*la,*list(ii[bo])]\n",
    "    rr = [*rr,*r[list(ii[bo])].values]\n",
    "    lr[len(la)] = l\n",
    "    \n",
    "    "
   ]
  },
  {
   "cell_type": "code",
   "execution_count": 660,
   "metadata": {},
   "outputs": [],
   "source": [
    "n_sd = pd.Series(lr)"
   ]
  },
  {
   "cell_type": "code",
   "execution_count": null,
   "metadata": {},
   "outputs": [],
   "source": []
  },
  {
   "cell_type": "code",
   "execution_count": 716,
   "metadata": {},
   "outputs": [
    {
     "name": "stderr",
     "output_type": "stream",
     "text": [
      "/Users/aliaga/miniforge3/envs/q5/lib/python3.9/site-packages/pygam/pygam.py:752: RuntimeWarning: divide by zero encountered in reciprocal\n",
      "  np.fill_diagonal(Dinv, d**-1) # invert the singular values\n"
     ]
    }
   ],
   "source": [
    "from pygam import LinearGAM, s\n",
    "\n",
    "# X = np.log10(n_sd.reset_index()[['index']])\n",
    "X = (n_sd.reset_index()[['index']])\n",
    "y = n_sd\n",
    "\n",
    "gam1 = LinearGAM(s(0, constraints='concave',n_splines=20,spline_order=3)).fit(X, y)\n",
    "# gam1 = LinearGAM(s(0,n_splines=20,spline_order=3)).fit(X, y)"
   ]
  },
  {
   "cell_type": "code",
   "execution_count": 717,
   "metadata": {},
   "outputs": [],
   "source": [
    "X1=10**X\n",
    "X1=X"
   ]
  },
  {
   "cell_type": "code",
   "execution_count": 738,
   "metadata": {},
   "outputs": [
    {
     "data": {
      "text/plain": [
       "[<matplotlib.lines.Line2D at 0x287d5c0a0>]"
      ]
     },
     "execution_count": 738,
     "metadata": {},
     "output_type": "execute_result"
    },
    {
     "data": {
      "image/png": "[encoded data removed]",
      "text/plain": [
       "<Figure size 432x288 with 2 Axes>"
      ]
     },
     "metadata": {
      "needs_background": "light"
     },
     "output_type": "display_data"
    }
   ],
   "source": [
    "f,ax = plt.subplots()\n",
    "ax.plot(X1,n_sd,lw=0,marker='x')\n",
    "ax.plot(X1,gam1.predict(X))\n",
    "\n",
    "def ffit(x): \n",
    "#     if x ==0:\n",
    "#         return 0\n",
    "#     else:\n",
    "#         return gam1.predict([x])[0]\n",
    "    return gam1.predict([x])[0]\n",
    "\n",
    "from scipy.misc import derivative\n",
    "\n",
    "x = np.arange(0,500,1)\n",
    "\n",
    "y = [derivative(ffit,_) for _ in x ]\n",
    "\n",
    "axx = ax.twinx()\n",
    "axx.plot(x,y,lw=1,marker='o')\n",
    "# axx.set_yscale('log')"
   ]
  },
  {
   "cell_type": "code",
   "execution_count": null,
   "metadata": {},
   "outputs": [],
   "source": []
  },
  {
   "cell_type": "code",
   "execution_count": 739,
   "metadata": {},
   "outputs": [],
   "source": [
    "ni = pd.Series(rr,index=la)"
   ]
  },
  {
   "cell_type": "code",
   "execution_count": null,
   "metadata": {},
   "outputs": [],
   "source": []
  },
  {
   "cell_type": "code",
   "execution_count": 740,
   "metadata": {},
   "outputs": [],
   "source": [
    "ni1 = ni[::-1].reset_index().reset_index().set_index('index')['level_0'].to_dict()\n",
    "ni1 = ni[::].reset_index().reset_index().set_index('index')['level_0'].to_dict()"
   ]
  },
  {
   "cell_type": "code",
   "execution_count": 753,
   "metadata": {},
   "outputs": [],
   "source": [
    "ni2 = {i:derivative(ffit,_)  for i,_ in ni1.items()}\n",
    "ni2 = {i:ffit(_)  for i,_ in ni1.items()}"
   ]
  },
  {
   "cell_type": "code",
   "execution_count": 754,
   "metadata": {},
   "outputs": [],
   "source": [
    "_ds = ds['lab'].to_series()"
   ]
  },
  {
   "cell_type": "code",
   "execution_count": 755,
   "metadata": {},
   "outputs": [],
   "source": [
    "_ds1 = _ds.where(_ds.isin(ni2)).replace(ni2).to_xarray()"
   ]
  },
  {
   "cell_type": "code",
   "execution_count": 756,
   "metadata": {},
   "outputs": [
    {
     "data": {
      "text/html": [
       "<div><svg style=\"position: absolute; width: 0; height: 0; overflow: hidden\">\n",
       "<defs>\n",
       "<symbol id=\"icon-database\" viewBox=\"0 0 32 32\">\n",
       "<path d=\"M16 0c-8.837 0-16 2.239-16 5v4c0 2.761 7.163 5 16 5s16-2.239 16-5v-4c0-2.761-7.163-5-16-5z\"></path>\n",
       "<path d=\"M16 17c-8.837 0-16-2.239-16-5v6c0 2.761 7.163 5 16 5s16-2.239 16-5v-6c0 2.761-7.163 5-16 5z\"></path>\n",
       "<path d=\"M16 26c-8.837 0-16-2.239-16-5v6c0 2.761 7.163 5 16 5s16-2.239 16-5v-6c0 2.761-7.163 5-16 5z\"></path>\n",
       "</symbol>\n",
       "<symbol id=\"icon-file-text2\" viewBox=\"0 0 32 32\">\n",
       "<path d=\"M28.681 7.159c-0.694-0.947-1.662-2.053-2.724-3.116s-2.169-2.030-3.116-2.724c-1.612-1.182-2.393-1.319-2.841-1.319h-15.5c-1.378 0-2.5 1.121-2.5 2.5v27c0 1.378 1.122 2.5 2.5 2.5h23c1.378 0 2.5-1.122 2.5-2.5v-19.5c0-0.448-0.137-1.23-1.319-2.841zM24.543 5.457c0.959 0.959 1.712 1.825 2.268 2.543h-4.811v-4.811c0.718 0.556 1.584 1.309 2.543 2.268zM28 29.5c0 0.271-0.229 0.5-0.5 0.5h-23c-0.271 0-0.5-0.229-0.5-0.5v-27c0-0.271 0.229-0.5 0.5-0.5 0 0 15.499-0 15.5 0v7c0 0.552 0.448 1 1 1h7v19.5z\"></path>\n",
       "<path d=\"M23 26h-14c-0.552 0-1-0.448-1-1s0.448-1 1-1h14c0.552 0 1 0.448 1 1s-0.448 1-1 1z\"></path>\n",
       "<path d=\"M23 22h-14c-0.552 0-1-0.448-1-1s0.448-1 1-1h14c0.552 0 1 0.448 1 1s-0.448 1-1 1z\"></path>\n",
       "<path d=\"M23 18h-14c-0.552 0-1-0.448-1-1s0.448-1 1-1h14c0.552 0 1 0.448 1 1s-0.448 1-1 1z\"></path>\n",
       "</symbol>\n",
       "</defs>\n",
       "</svg>\n",
       "<style>/* CSS stylesheet for displaying xarray objects in jupyterlab.\n",
       " *\n",
       " */\n",
       "\n",
       ":root {\n",
       "  --xr-font-color0: var(--jp-content-font-color0, rgba(0, 0, 0, 1));\n",
       "  --xr-font-color2: var(--jp-content-font-color2, rgba(0, 0, 0, 0.54));\n",
       "  --xr-font-color3: var(--jp-content-font-color3, rgba(0, 0, 0, 0.38));\n",
       "  --xr-border-color: var(--jp-border-color2, #e0e0e0);\n",
       "  --xr-disabled-color: var(--jp-layout-color3, #bdbdbd);\n",
       "  --xr-background-color: var(--jp-layout-color0, white);\n",
       "  --xr-background-color-row-even: var(--jp-layout-color1, white);\n",
       "  --xr-background-color-row-odd: var(--jp-layout-color2, #eeeeee);\n",
       "}\n",
       "\n",
       "html[theme=dark],\n",
       "body.vscode-dark {\n",
       "  --xr-font-color0: rgba(255, 255, 255, 1);\n",
       "  --xr-font-color2: rgba(255, 255, 255, 0.54);\n",
       "  --xr-font-color3: rgba(255, 255, 255, 0.38);\n",
       "  --xr-border-color: #1F1F1F;\n",
       "  --xr-disabled-color: #515151;\n",
       "  --xr-background-color: #111111;\n",
       "  --xr-background-color-row-even: #111111;\n",
       "  --xr-background-color-row-odd: #313131;\n",
       "}\n",
       "\n",
       ".xr-wrap {\n",
       "  display: block;\n",
       "  min-width: 300px;\n",
       "  max-width: 700px;\n",
       "}\n",
       "\n",
       ".xr-text-repr-fallback {\n",
       "  /* fallback to plain text repr when CSS is not injected (untrusted notebook) */\n",
       "  display: none;\n",
       "}\n",
       "\n",
       ".xr-header {\n",
       "  padding-top: 6px;\n",
       "  padding-bottom: 6px;\n",
       "  margin-bottom: 4px;\n",
       "  border-bottom: solid 1px var(--xr-border-color);\n",
       "}\n",
       "\n",
       ".xr-header > div,\n",
       ".xr-header > ul {\n",
       "  display: inline;\n",
       "  margin-top: 0;\n",
       "  margin-bottom: 0;\n",
       "}\n",
       "\n",
       ".xr-obj-type,\n",
       ".xr-array-name {\n",
       "  margin-left: 2px;\n",
       "  margin-right: 10px;\n",
       "}\n",
       "\n",
       ".xr-obj-type {\n",
       "  color: var(--xr-font-color2);\n",
       "}\n",
       "\n",
       ".xr-sections {\n",
       "  padding-left: 0 !important;\n",
       "  display: grid;\n",
       "  grid-template-columns: 150px auto auto 1fr 20px 20px;\n",
       "}\n",
       "\n",
       ".xr-section-item {\n",
       "  display: contents;\n",
       "}\n",
       "\n",
       ".xr-section-item input {\n",
       "  display: none;\n",
       "}\n",
       "\n",
       ".xr-section-item input + label {\n",
       "  color: var(--xr-disabled-color);\n",
       "}\n",
       "\n",
       ".xr-section-item input:enabled + label {\n",
       "  cursor: pointer;\n",
       "  color: var(--xr-font-color2);\n",
       "}\n",
       "\n",
       ".xr-section-item input:enabled + label:hover {\n",
       "  color: var(--xr-font-color0);\n",
       "}\n",
       "\n",
       ".xr-section-summary {\n",
       "  grid-column: 1;\n",
       "  color: var(--xr-font-color2);\n",
       "  font-weight: 500;\n",
       "}\n",
       "\n",
       ".xr-section-summary > span {\n",
       "  display: inline-block;\n",
       "  padding-left: 0.5em;\n",
       "}\n",
       "\n",
       ".xr-section-summary-in:disabled + label {\n",
       "  color: var(--xr-font-color2);\n",
       "}\n",
       "\n",
       ".xr-section-summary-in + label:before {\n",
       "  display: inline-block;\n",
       "  content: '►';\n",
       "  font-size: 11px;\n",
       "  width: 15px;\n",
       "  text-align: center;\n",
       "}\n",
       "\n",
       ".xr-section-summary-in:disabled + label:before {\n",
       "  color: var(--xr-disabled-color);\n",
       "}\n",
       "\n",
       ".xr-section-summary-in:checked + label:before {\n",
       "  content: '▼';\n",
       "}\n",
       "\n",
       ".xr-section-summary-in:checked + label > span {\n",
       "  display: none;\n",
       "}\n",
       "\n",
       ".xr-section-summary,\n",
       ".xr-section-inline-details {\n",
       "  padding-top: 4px;\n",
       "  padding-bottom: 4px;\n",
       "}\n",
       "\n",
       ".xr-section-inline-details {\n",
       "  grid-column: 2 / -1;\n",
       "}\n",
       "\n",
       ".xr-section-details {\n",
       "  display: none;\n",
       "  grid-column: 1 / -1;\n",
       "  margin-bottom: 5px;\n",
       "}\n",
       "\n",
       ".xr-section-summary-in:checked ~ .xr-section-details {\n",
       "  display: contents;\n",
       "}\n",
       "\n",
       ".xr-array-wrap {\n",
       "  grid-column: 1 / -1;\n",
       "  display: grid;\n",
       "  grid-template-columns: 20px auto;\n",
       "}\n",
       "\n",
       ".xr-array-wrap > label {\n",
       "  grid-column: 1;\n",
       "  vertical-align: top;\n",
       "}\n",
       "\n",
       ".xr-preview {\n",
       "  color: var(--xr-font-color3);\n",
       "}\n",
       "\n",
       ".xr-array-preview,\n",
       ".xr-array-data {\n",
       "  padding: 0 5px !important;\n",
       "  grid-column: 2;\n",
       "}\n",
       "\n",
       ".xr-array-data,\n",
       ".xr-array-in:checked ~ .xr-array-preview {\n",
       "  display: none;\n",
       "}\n",
       "\n",
       ".xr-array-in:checked ~ .xr-array-data,\n",
       ".xr-array-preview {\n",
       "  display: inline-block;\n",
       "}\n",
       "\n",
       ".xr-dim-list {\n",
       "  display: inline-block !important;\n",
       "  list-style: none;\n",
       "  padding: 0 !important;\n",
       "  margin: 0;\n",
       "}\n",
       "\n",
       ".xr-dim-list li {\n",
       "  display: inline-block;\n",
       "  padding: 0;\n",
       "  margin: 0;\n",
       "}\n",
       "\n",
       ".xr-dim-list:before {\n",
       "  content: '(';\n",
       "}\n",
       "\n",
       ".xr-dim-list:after {\n",
       "  content: ')';\n",
       "}\n",
       "\n",
       ".xr-dim-list li:not(:last-child):after {\n",
       "  content: ',';\n",
       "  padding-right: 5px;\n",
       "}\n",
       "\n",
       ".xr-has-index {\n",
       "  font-weight: bold;\n",
       "}\n",
       "\n",
       ".xr-var-list,\n",
       ".xr-var-item {\n",
       "  display: contents;\n",
       "}\n",
       "\n",
       ".xr-var-item > div,\n",
       ".xr-var-item label,\n",
       ".xr-var-item > .xr-var-name span {\n",
       "  background-color: var(--xr-background-color-row-even);\n",
       "  margin-bottom: 0;\n",
       "}\n",
       "\n",
       ".xr-var-item > .xr-var-name:hover span {\n",
       "  padding-right: 5px;\n",
       "}\n",
       "\n",
       ".xr-var-list > li:nth-child(odd) > div,\n",
       ".xr-var-list > li:nth-child(odd) > label,\n",
       ".xr-var-list > li:nth-child(odd) > .xr-var-name span {\n",
       "  background-color: var(--xr-background-color-row-odd);\n",
       "}\n",
       "\n",
       ".xr-var-name {\n",
       "  grid-column: 1;\n",
       "}\n",
       "\n",
       ".xr-var-dims {\n",
       "  grid-column: 2;\n",
       "}\n",
       "\n",
       ".xr-var-dtype {\n",
       "  grid-column: 3;\n",
       "  text-align: right;\n",
       "  color: var(--xr-font-color2);\n",
       "}\n",
       "\n",
       ".xr-var-preview {\n",
       "  grid-column: 4;\n",
       "}\n",
       "\n",
       ".xr-var-name,\n",
       ".xr-var-dims,\n",
       ".xr-var-dtype,\n",
       ".xr-preview,\n",
       ".xr-attrs dt {\n",
       "  white-space: nowrap;\n",
       "  overflow: hidden;\n",
       "  text-overflow: ellipsis;\n",
       "  padding-right: 10px;\n",
       "}\n",
       "\n",
       ".xr-var-name:hover,\n",
       ".xr-var-dims:hover,\n",
       ".xr-var-dtype:hover,\n",
       ".xr-attrs dt:hover {\n",
       "  overflow: visible;\n",
       "  width: auto;\n",
       "  z-index: 1;\n",
       "}\n",
       "\n",
       ".xr-var-attrs,\n",
       ".xr-var-data {\n",
       "  display: none;\n",
       "  background-color: var(--xr-background-color) !important;\n",
       "  padding-bottom: 5px !important;\n",
       "}\n",
       "\n",
       ".xr-var-attrs-in:checked ~ .xr-var-attrs,\n",
       ".xr-var-data-in:checked ~ .xr-var-data {\n",
       "  display: block;\n",
       "}\n",
       "\n",
       ".xr-var-data > table {\n",
       "  float: right;\n",
       "}\n",
       "\n",
       ".xr-var-name span,\n",
       ".xr-var-data,\n",
       ".xr-attrs {\n",
       "  padding-left: 25px !important;\n",
       "}\n",
       "\n",
       ".xr-attrs,\n",
       ".xr-var-attrs,\n",
       ".xr-var-data {\n",
       "  grid-column: 1 / -1;\n",
       "}\n",
       "\n",
       "dl.xr-attrs {\n",
       "  padding: 0;\n",
       "  margin: 0;\n",
       "  display: grid;\n",
       "  grid-template-columns: 125px auto;\n",
       "}\n",
       "\n",
       ".xr-attrs dt,\n",
       ".xr-attrs dd {\n",
       "  padding: 0;\n",
       "  margin: 0;\n",
       "  float: left;\n",
       "  padding-right: 10px;\n",
       "  width: auto;\n",
       "}\n",
       "\n",
       ".xr-attrs dt {\n",
       "  font-weight: normal;\n",
       "  grid-column: 1;\n",
       "}\n",
       "\n",
       ".xr-attrs dt:hover span {\n",
       "  display: inline-block;\n",
       "  background: var(--xr-background-color);\n",
       "  padding-right: 10px;\n",
       "}\n",
       "\n",
       ".xr-attrs dd {\n",
       "  grid-column: 2;\n",
       "  white-space: pre-wrap;\n",
       "  word-break: break-all;\n",
       "}\n",
       "\n",
       ".xr-icon-database,\n",
       ".xr-icon-file-text2 {\n",
       "  display: inline-block;\n",
       "  vertical-align: middle;\n",
       "  width: 1em;\n",
       "  height: 1.5em !important;\n",
       "  stroke-width: 0;\n",
       "  stroke: currentColor;\n",
       "  fill: currentColor;\n",
       "}\n",
       "</style><pre class='xr-text-repr-fallback'>&lt;xarray.DataArray &#x27;lab&#x27; (lat: 24, lon: 72)&gt;\n",
       "array([[0.3654394 , 0.35981528, 0.2521381 , ..., 0.36545234, 0.36543273,\n",
       "        0.36526834],\n",
       "       [0.3654394 , 0.35981528, 0.27559863, ..., 0.36545234, 0.36531491,\n",
       "        0.36526834],\n",
       "       [0.36543049, 0.3654416 , 0.34257128, ...,        nan, 0.36531491,\n",
       "        0.36527351],\n",
       "       ...,\n",
       "       [0.36432702, 0.36537193, 0.36542101, ..., 0.36543197, 0.36432702,\n",
       "        0.36432702],\n",
       "       [0.36540885, 0.36540885, 0.36540885, ...,        nan,        nan,\n",
       "               nan],\n",
       "       [       nan,        nan,        nan, ...,        nan,        nan,\n",
       "               nan]])\n",
       "Coordinates:\n",
       "  * lat      (lat) float64 60.62 61.88 63.12 64.38 ... 85.62 86.88 88.12 89.38\n",
       "  * lon      (lon) float64 2.5 7.5 12.5 17.5 22.5 ... 342.5 347.5 352.5 357.5</pre><div class='xr-wrap' hidden><div class='xr-header'><div class='xr-obj-type'>xarray.DataArray</div><div class='xr-array-name'>'lab'</div><ul class='xr-dim-list'><li><span class='xr-has-index'>lat</span>: 24</li><li><span class='xr-has-index'>lon</span>: 72</li></ul></div><ul class='xr-sections'><li class='xr-section-item'><div class='xr-array-wrap'><input id='section-38e79246-cf76-478f-873d-077abe267961' class='xr-array-in' type='checkbox' checked><label for='section-38e79246-cf76-478f-873d-077abe267961' title='Show/hide data repr'><svg class='icon xr-icon-database'><use xlink:href='#icon-database'></use></svg></label><div class='xr-array-preview xr-preview'><span>0.3654 0.3598 0.2521 0.3299 0.3349 0.3476 ... nan nan nan nan nan nan</span></div><div class='xr-array-data'><pre>array([[0.3654394 , 0.35981528, 0.2521381 , ..., 0.36545234, 0.36543273,\n",
       "        0.36526834],\n",
       "       [0.3654394 , 0.35981528, 0.27559863, ..., 0.36545234, 0.36531491,\n",
       "        0.36526834],\n",
       "       [0.36543049, 0.3654416 , 0.34257128, ...,        nan, 0.36531491,\n",
       "        0.36527351],\n",
       "       ...,\n",
       "       [0.36432702, 0.36537193, 0.36542101, ..., 0.36543197, 0.36432702,\n",
       "        0.36432702],\n",
       "       [0.36540885, 0.36540885, 0.36540885, ...,        nan,        nan,\n",
       "               nan],\n",
       "       [       nan,        nan,        nan, ...,        nan,        nan,\n",
       "               nan]])</pre></div></div></li><li class='xr-section-item'><input id='section-75de6a63-471d-4d15-8626-22de552b4a54' class='xr-section-summary-in' type='checkbox'  checked><label for='section-75de6a63-471d-4d15-8626-22de552b4a54' class='xr-section-summary' >Coordinates: <span>(2)</span></label><div class='xr-section-inline-details'></div><div class='xr-section-details'><ul class='xr-var-list'><li class='xr-var-item'><div class='xr-var-name'><span class='xr-has-index'>lat</span></div><div class='xr-var-dims'>(lat)</div><div class='xr-var-dtype'>float64</div><div class='xr-var-preview xr-preview'>60.62 61.88 63.12 ... 88.12 89.38</div><input id='attrs-5359bc41-99d7-4305-86b7-7d568c475e0c' class='xr-var-attrs-in' type='checkbox' disabled><label for='attrs-5359bc41-99d7-4305-86b7-7d568c475e0c' title='Show/Hide attributes'><svg class='icon xr-icon-file-text2'><use xlink:href='#icon-file-text2'></use></svg></label><input id='data-93386c04-0558-49cc-807d-40f76d86ba86' class='xr-var-data-in' type='checkbox'><label for='data-93386c04-0558-49cc-807d-40f76d86ba86' title='Show/Hide data repr'><svg class='icon xr-icon-database'><use xlink:href='#icon-database'></use></svg></label><div class='xr-var-attrs'><dl class='xr-attrs'></dl></div><div class='xr-var-data'><pre>array([60.625, 61.875, 63.125, 64.375, 65.625, 66.875, 68.125, 69.375, 70.625,\n",
       "       71.875, 73.125, 74.375, 75.625, 76.875, 78.125, 79.375, 80.625, 81.875,\n",
       "       83.125, 84.375, 85.625, 86.875, 88.125, 89.375])</pre></div></li><li class='xr-var-item'><div class='xr-var-name'><span class='xr-has-index'>lon</span></div><div class='xr-var-dims'>(lon)</div><div class='xr-var-dtype'>float64</div><div class='xr-var-preview xr-preview'>2.5 7.5 12.5 ... 347.5 352.5 357.5</div><input id='attrs-1ce57f22-efff-4b9e-92b4-a2cfdae45435' class='xr-var-attrs-in' type='checkbox' disabled><label for='attrs-1ce57f22-efff-4b9e-92b4-a2cfdae45435' title='Show/Hide attributes'><svg class='icon xr-icon-file-text2'><use xlink:href='#icon-file-text2'></use></svg></label><input id='data-26afd73d-5ec0-4e72-87c9-d44c298004bb' class='xr-var-data-in' type='checkbox'><label for='data-26afd73d-5ec0-4e72-87c9-d44c298004bb' title='Show/Hide data repr'><svg class='icon xr-icon-database'><use xlink:href='#icon-database'></use></svg></label><div class='xr-var-attrs'><dl class='xr-attrs'></dl></div><div class='xr-var-data'><pre>array([  2.5,   7.5,  12.5,  17.5,  22.5,  27.5,  32.5,  37.5,  42.5,  47.5,\n",
       "        52.5,  57.5,  62.5,  67.5,  72.5,  77.5,  82.5,  87.5,  92.5,  97.5,\n",
       "       102.5, 107.5, 112.5, 117.5, 122.5, 127.5, 132.5, 137.5, 142.5, 147.5,\n",
       "       152.5, 157.5, 162.5, 167.5, 172.5, 177.5, 182.5, 187.5, 192.5, 197.5,\n",
       "       202.5, 207.5, 212.5, 217.5, 222.5, 227.5, 232.5, 237.5, 242.5, 247.5,\n",
       "       252.5, 257.5, 262.5, 267.5, 272.5, 277.5, 282.5, 287.5, 292.5, 297.5,\n",
       "       302.5, 307.5, 312.5, 317.5, 322.5, 327.5, 332.5, 337.5, 342.5, 347.5,\n",
       "       352.5, 357.5])</pre></div></li></ul></div></li><li class='xr-section-item'><input id='section-678980d2-ac2c-47ef-a911-f3642d2d5eb4' class='xr-section-summary-in' type='checkbox' disabled ><label for='section-678980d2-ac2c-47ef-a911-f3642d2d5eb4' class='xr-section-summary'  title='Expand/collapse section'>Attributes: <span>(0)</span></label><div class='xr-section-inline-details'></div><div class='xr-section-details'><dl class='xr-attrs'></dl></div></li></ul></div></div>"
      ],
      "text/plain": [
       "<xarray.DataArray 'lab' (lat: 24, lon: 72)>\n",
       "array([[0.3654394 , 0.35981528, 0.2521381 , ..., 0.36545234, 0.36543273,\n",
       "        0.36526834],\n",
       "       [0.3654394 , 0.35981528, 0.27559863, ..., 0.36545234, 0.36531491,\n",
       "        0.36526834],\n",
       "       [0.36543049, 0.3654416 , 0.34257128, ...,        nan, 0.36531491,\n",
       "        0.36527351],\n",
       "       ...,\n",
       "       [0.36432702, 0.36537193, 0.36542101, ..., 0.36543197, 0.36432702,\n",
       "        0.36432702],\n",
       "       [0.36540885, 0.36540885, 0.36540885, ...,        nan,        nan,\n",
       "               nan],\n",
       "       [       nan,        nan,        nan, ...,        nan,        nan,\n",
       "               nan]])\n",
       "Coordinates:\n",
       "  * lat      (lat) float64 60.62 61.88 63.12 64.38 ... 85.62 86.88 88.12 89.38\n",
       "  * lon      (lon) float64 2.5 7.5 12.5 17.5 22.5 ... 342.5 347.5 352.5 357.5"
      ]
     },
     "execution_count": 756,
     "metadata": {},
     "output_type": "execute_result"
    }
   ],
   "source": [
    "_ds1"
   ]
  },
  {
   "cell_type": "code",
   "execution_count": null,
   "metadata": {},
   "outputs": [],
   "source": []
  },
  {
   "cell_type": "code",
   "execution_count": 757,
   "metadata": {},
   "outputs": [],
   "source": [
    "# plt.scatter(y_pred,y,alpha=.1)\n",
    "# ax=plt.gca()\n",
    "# ax.set_xlim(0,y.quantile(.99))\n",
    "# ax.set_ylim(0,y.quantile(.99))\n",
    "# ax.set_aspect('equal')"
   ]
  },
  {
   "cell_type": "code",
   "execution_count": 758,
   "metadata": {},
   "outputs": [],
   "source": [
    "# f,ax = plt.subplots(figsize=(20,5))\n",
    "# y.plot(lw=0,marker='x')\n",
    "# (y*0 + y_pred).plot(lw=0,marker='v')"
   ]
  },
  {
   "cell_type": "code",
   "execution_count": 759,
   "metadata": {},
   "outputs": [],
   "source": [
    "_ds2 = (_ds1/_ds1.max())**10\n",
    "_ds2 = _ds1/_ds1.max()\n",
    "_ds2 = _ds1"
   ]
  },
  {
   "cell_type": "code",
   "execution_count": 763,
   "metadata": {},
   "outputs": [
    {
     "data": {
      "text/plain": [
       "<cartopy.mpl.feature_artist.FeatureArtist at 0x28285e640>"
      ]
     },
     "execution_count": 763,
     "metadata": {},
     "output_type": "execute_result"
    },
    {
     "data": {
      "image/png": "[encoded data removed]",
      "text/plain": [
       "<Figure size 432x288 with 2 Axes>"
      ]
     },
     "metadata": {
      "needs_background": "light"
     },
     "output_type": "display_data"
    }
   ],
   "source": [
    "# inn = coef[coef>0].index\n",
    "\n",
    "# pl = ds['lab'].where(ds['lab'].isin(inn))* 0 + 1\n",
    "\n",
    "\n",
    "\n",
    "\n",
    "import cartopy.crs as ccrs\n",
    "ax = plt.subplot(projection=ccrs.Orthographic(0, 90), facecolor=plt.get_cmap('inferno_r')(0))\n",
    "(_ds2).plot(\n",
    "    ax=ax,\n",
    "    transform=ccrs.PlateCarree(),\n",
    "    robust=True,\n",
    "    levels=6,\n",
    "    cmap='inferno',\n",
    "#     vmin=0,\n",
    "\n",
    ")\n",
    "ax.coastlines(color='red')"
   ]
  },
  {
   "cell_type": "code",
   "execution_count": 762,
   "metadata": {},
   "outputs": [
    {
     "data": {
      "text/html": [
       "<div><svg style=\"position: absolute; width: 0; height: 0; overflow: hidden\">\n",
       "<defs>\n",
       "<symbol id=\"icon-database\" viewBox=\"0 0 32 32\">\n",
       "<path d=\"M16 0c-8.837 0-16 2.239-16 5v4c0 2.761 7.163 5 16 5s16-2.239 16-5v-4c0-2.761-7.163-5-16-5z\"></path>\n",
       "<path d=\"M16 17c-8.837 0-16-2.239-16-5v6c0 2.761 7.163 5 16 5s16-2.239 16-5v-6c0 2.761-7.163 5-16 5z\"></path>\n",
       "<path d=\"M16 26c-8.837 0-16-2.239-16-5v6c0 2.761 7.163 5 16 5s16-2.239 16-5v-6c0 2.761-7.163 5-16 5z\"></path>\n",
       "</symbol>\n",
       "<symbol id=\"icon-file-text2\" viewBox=\"0 0 32 32\">\n",
       "<path d=\"M28.681 7.159c-0.694-0.947-1.662-2.053-2.724-3.116s-2.169-2.030-3.116-2.724c-1.612-1.182-2.393-1.319-2.841-1.319h-15.5c-1.378 0-2.5 1.121-2.5 2.5v27c0 1.378 1.122 2.5 2.5 2.5h23c1.378 0 2.5-1.122 2.5-2.5v-19.5c0-0.448-0.137-1.23-1.319-2.841zM24.543 5.457c0.959 0.959 1.712 1.825 2.268 2.543h-4.811v-4.811c0.718 0.556 1.584 1.309 2.543 2.268zM28 29.5c0 0.271-0.229 0.5-0.5 0.5h-23c-0.271 0-0.5-0.229-0.5-0.5v-27c0-0.271 0.229-0.5 0.5-0.5 0 0 15.499-0 15.5 0v7c0 0.552 0.448 1 1 1h7v19.5z\"></path>\n",
       "<path d=\"M23 26h-14c-0.552 0-1-0.448-1-1s0.448-1 1-1h14c0.552 0 1 0.448 1 1s-0.448 1-1 1z\"></path>\n",
       "<path d=\"M23 22h-14c-0.552 0-1-0.448-1-1s0.448-1 1-1h14c0.552 0 1 0.448 1 1s-0.448 1-1 1z\"></path>\n",
       "<path d=\"M23 18h-14c-0.552 0-1-0.448-1-1s0.448-1 1-1h14c0.552 0 1 0.448 1 1s-0.448 1-1 1z\"></path>\n",
       "</symbol>\n",
       "</defs>\n",
       "</svg>\n",
       "<style>/* CSS stylesheet for displaying xarray objects in jupyterlab.\n",
       " *\n",
       " */\n",
       "\n",
       ":root {\n",
       "  --xr-font-color0: var(--jp-content-font-color0, rgba(0, 0, 0, 1));\n",
       "  --xr-font-color2: var(--jp-content-font-color2, rgba(0, 0, 0, 0.54));\n",
       "  --xr-font-color3: var(--jp-content-font-color3, rgba(0, 0, 0, 0.38));\n",
       "  --xr-border-color: var(--jp-border-color2, #e0e0e0);\n",
       "  --xr-disabled-color: var(--jp-layout-color3, #bdbdbd);\n",
       "  --xr-background-color: var(--jp-layout-color0, white);\n",
       "  --xr-background-color-row-even: var(--jp-layout-color1, white);\n",
       "  --xr-background-color-row-odd: var(--jp-layout-color2, #eeeeee);\n",
       "}\n",
       "\n",
       "html[theme=dark],\n",
       "body.vscode-dark {\n",
       "  --xr-font-color0: rgba(255, 255, 255, 1);\n",
       "  --xr-font-color2: rgba(255, 255, 255, 0.54);\n",
       "  --xr-font-color3: rgba(255, 255, 255, 0.38);\n",
       "  --xr-border-color: #1F1F1F;\n",
       "  --xr-disabled-color: #515151;\n",
       "  --xr-background-color: #111111;\n",
       "  --xr-background-color-row-even: #111111;\n",
       "  --xr-background-color-row-odd: #313131;\n",
       "}\n",
       "\n",
       ".xr-wrap {\n",
       "  display: block;\n",
       "  min-width: 300px;\n",
       "  max-width: 700px;\n",
       "}\n",
       "\n",
       ".xr-text-repr-fallback {\n",
       "  /* fallback to plain text repr when CSS is not injected (untrusted notebook) */\n",
       "  display: none;\n",
       "}\n",
       "\n",
       ".xr-header {\n",
       "  padding-top: 6px;\n",
       "  padding-bottom: 6px;\n",
       "  margin-bottom: 4px;\n",
       "  border-bottom: solid 1px var(--xr-border-color);\n",
       "}\n",
       "\n",
       ".xr-header > div,\n",
       ".xr-header > ul {\n",
       "  display: inline;\n",
       "  margin-top: 0;\n",
       "  margin-bottom: 0;\n",
       "}\n",
       "\n",
       ".xr-obj-type,\n",
       ".xr-array-name {\n",
       "  margin-left: 2px;\n",
       "  margin-right: 10px;\n",
       "}\n",
       "\n",
       ".xr-obj-type {\n",
       "  color: var(--xr-font-color2);\n",
       "}\n",
       "\n",
       ".xr-sections {\n",
       "  padding-left: 0 !important;\n",
       "  display: grid;\n",
       "  grid-template-columns: 150px auto auto 1fr 20px 20px;\n",
       "}\n",
       "\n",
       ".xr-section-item {\n",
       "  display: contents;\n",
       "}\n",
       "\n",
       ".xr-section-item input {\n",
       "  display: none;\n",
       "}\n",
       "\n",
       ".xr-section-item input + label {\n",
       "  color: var(--xr-disabled-color);\n",
       "}\n",
       "\n",
       ".xr-section-item input:enabled + label {\n",
       "  cursor: pointer;\n",
       "  color: var(--xr-font-color2);\n",
       "}\n",
       "\n",
       ".xr-section-item input:enabled + label:hover {\n",
       "  color: var(--xr-font-color0);\n",
       "}\n",
       "\n",
       ".xr-section-summary {\n",
       "  grid-column: 1;\n",
       "  color: var(--xr-font-color2);\n",
       "  font-weight: 500;\n",
       "}\n",
       "\n",
       ".xr-section-summary > span {\n",
       "  display: inline-block;\n",
       "  padding-left: 0.5em;\n",
       "}\n",
       "\n",
       ".xr-section-summary-in:disabled + label {\n",
       "  color: var(--xr-font-color2);\n",
       "}\n",
       "\n",
       ".xr-section-summary-in + label:before {\n",
       "  display: inline-block;\n",
       "  content: '►';\n",
       "  font-size: 11px;\n",
       "  width: 15px;\n",
       "  text-align: center;\n",
       "}\n",
       "\n",
       ".xr-section-summary-in:disabled + label:before {\n",
       "  color: var(--xr-disabled-color);\n",
       "}\n",
       "\n",
       ".xr-section-summary-in:checked + label:before {\n",
       "  content: '▼';\n",
       "}\n",
       "\n",
       ".xr-section-summary-in:checked + label > span {\n",
       "  display: none;\n",
       "}\n",
       "\n",
       ".xr-section-summary,\n",
       ".xr-section-inline-details {\n",
       "  padding-top: 4px;\n",
       "  padding-bottom: 4px;\n",
       "}\n",
       "\n",
       ".xr-section-inline-details {\n",
       "  grid-column: 2 / -1;\n",
       "}\n",
       "\n",
       ".xr-section-details {\n",
       "  display: none;\n",
       "  grid-column: 1 / -1;\n",
       "  margin-bottom: 5px;\n",
       "}\n",
       "\n",
       ".xr-section-summary-in:checked ~ .xr-section-details {\n",
       "  display: contents;\n",
       "}\n",
       "\n",
       ".xr-array-wrap {\n",
       "  grid-column: 1 / -1;\n",
       "  display: grid;\n",
       "  grid-template-columns: 20px auto;\n",
       "}\n",
       "\n",
       ".xr-array-wrap > label {\n",
       "  grid-column: 1;\n",
       "  vertical-align: top;\n",
       "}\n",
       "\n",
       ".xr-preview {\n",
       "  color: var(--xr-font-color3);\n",
       "}\n",
       "\n",
       ".xr-array-preview,\n",
       ".xr-array-data {\n",
       "  padding: 0 5px !important;\n",
       "  grid-column: 2;\n",
       "}\n",
       "\n",
       ".xr-array-data,\n",
       ".xr-array-in:checked ~ .xr-array-preview {\n",
       "  display: none;\n",
       "}\n",
       "\n",
       ".xr-array-in:checked ~ .xr-array-data,\n",
       ".xr-array-preview {\n",
       "  display: inline-block;\n",
       "}\n",
       "\n",
       ".xr-dim-list {\n",
       "  display: inline-block !important;\n",
       "  list-style: none;\n",
       "  padding: 0 !important;\n",
       "  margin: 0;\n",
       "}\n",
       "\n",
       ".xr-dim-list li {\n",
       "  display: inline-block;\n",
       "  padding: 0;\n",
       "  margin: 0;\n",
       "}\n",
       "\n",
       ".xr-dim-list:before {\n",
       "  content: '(';\n",
       "}\n",
       "\n",
       ".xr-dim-list:after {\n",
       "  content: ')';\n",
       "}\n",
       "\n",
       ".xr-dim-list li:not(:last-child):after {\n",
       "  content: ',';\n",
       "  padding-right: 5px;\n",
       "}\n",
       "\n",
       ".xr-has-index {\n",
       "  font-weight: bold;\n",
       "}\n",
       "\n",
       ".xr-var-list,\n",
       ".xr-var-item {\n",
       "  display: contents;\n",
       "}\n",
       "\n",
       ".xr-var-item > div,\n",
       ".xr-var-item label,\n",
       ".xr-var-item > .xr-var-name span {\n",
       "  background-color: var(--xr-background-color-row-even);\n",
       "  margin-bottom: 0;\n",
       "}\n",
       "\n",
       ".xr-var-item > .xr-var-name:hover span {\n",
       "  padding-right: 5px;\n",
       "}\n",
       "\n",
       ".xr-var-list > li:nth-child(odd) > div,\n",
       ".xr-var-list > li:nth-child(odd) > label,\n",
       ".xr-var-list > li:nth-child(odd) > .xr-var-name span {\n",
       "  background-color: var(--xr-background-color-row-odd);\n",
       "}\n",
       "\n",
       ".xr-var-name {\n",
       "  grid-column: 1;\n",
       "}\n",
       "\n",
       ".xr-var-dims {\n",
       "  grid-column: 2;\n",
       "}\n",
       "\n",
       ".xr-var-dtype {\n",
       "  grid-column: 3;\n",
       "  text-align: right;\n",
       "  color: var(--xr-font-color2);\n",
       "}\n",
       "\n",
       ".xr-var-preview {\n",
       "  grid-column: 4;\n",
       "}\n",
       "\n",
       ".xr-var-name,\n",
       ".xr-var-dims,\n",
       ".xr-var-dtype,\n",
       ".xr-preview,\n",
       ".xr-attrs dt {\n",
       "  white-space: nowrap;\n",
       "  overflow: hidden;\n",
       "  text-overflow: ellipsis;\n",
       "  padding-right: 10px;\n",
       "}\n",
       "\n",
       ".xr-var-name:hover,\n",
       ".xr-var-dims:hover,\n",
       ".xr-var-dtype:hover,\n",
       ".xr-attrs dt:hover {\n",
       "  overflow: visible;\n",
       "  width: auto;\n",
       "  z-index: 1;\n",
       "}\n",
       "\n",
       ".xr-var-attrs,\n",
       ".xr-var-data {\n",
       "  display: none;\n",
       "  background-color: var(--xr-background-color) !important;\n",
       "  padding-bottom: 5px !important;\n",
       "}\n",
       "\n",
       ".xr-var-attrs-in:checked ~ .xr-var-attrs,\n",
       ".xr-var-data-in:checked ~ .xr-var-data {\n",
       "  display: block;\n",
       "}\n",
       "\n",
       ".xr-var-data > table {\n",
       "  float: right;\n",
       "}\n",
       "\n",
       ".xr-var-name span,\n",
       ".xr-var-data,\n",
       ".xr-attrs {\n",
       "  padding-left: 25px !important;\n",
       "}\n",
       "\n",
       ".xr-attrs,\n",
       ".xr-var-attrs,\n",
       ".xr-var-data {\n",
       "  grid-column: 1 / -1;\n",
       "}\n",
       "\n",
       "dl.xr-attrs {\n",
       "  padding: 0;\n",
       "  margin: 0;\n",
       "  display: grid;\n",
       "  grid-template-columns: 125px auto;\n",
       "}\n",
       "\n",
       ".xr-attrs dt,\n",
       ".xr-attrs dd {\n",
       "  padding: 0;\n",
       "  margin: 0;\n",
       "  float: left;\n",
       "  padding-right: 10px;\n",
       "  width: auto;\n",
       "}\n",
       "\n",
       ".xr-attrs dt {\n",
       "  font-weight: normal;\n",
       "  grid-column: 1;\n",
       "}\n",
       "\n",
       ".xr-attrs dt:hover span {\n",
       "  display: inline-block;\n",
       "  background: var(--xr-background-color);\n",
       "  padding-right: 10px;\n",
       "}\n",
       "\n",
       ".xr-attrs dd {\n",
       "  grid-column: 2;\n",
       "  white-space: pre-wrap;\n",
       "  word-break: break-all;\n",
       "}\n",
       "\n",
       ".xr-icon-database,\n",
       ".xr-icon-file-text2 {\n",
       "  display: inline-block;\n",
       "  vertical-align: middle;\n",
       "  width: 1em;\n",
       "  height: 1.5em !important;\n",
       "  stroke-width: 0;\n",
       "  stroke: currentColor;\n",
       "  fill: currentColor;\n",
       "}\n",
       "</style><pre class='xr-text-repr-fallback'>&lt;xarray.Dataset&gt;\n",
       "Dimensions:    (lon: 72, lat: 24, time: 3021)\n",
       "Coordinates:\n",
       "  * lon        (lon) float64 2.5 7.5 12.5 17.5 22.5 ... 342.5 347.5 352.5 357.5\n",
       "  * lat        (lat) float64 60.62 61.88 63.12 64.38 ... 85.62 86.88 88.12 89.38\n",
       "  * time       (time) datetime64[ns] 2019-09-20T09:00:00 ... 2020-10-01T21:00:00\n",
       "    lab        (lat, lon) int64 837 917 976 831 825 815 ... 463 294 294 294 294\n",
       "Data variables:\n",
       "    AIRTRACER  (time, lat, lon) float32 0.0004269 0.0001852 ... 0.0002132</pre><div class='xr-wrap' hidden><div class='xr-header'><div class='xr-obj-type'>xarray.Dataset</div></div><ul class='xr-sections'><li class='xr-section-item'><input id='section-6c91fa32-b0a9-46d9-a49a-3d75d8885dc0' class='xr-section-summary-in' type='checkbox' disabled ><label for='section-6c91fa32-b0a9-46d9-a49a-3d75d8885dc0' class='xr-section-summary'  title='Expand/collapse section'>Dimensions:</label><div class='xr-section-inline-details'><ul class='xr-dim-list'><li><span class='xr-has-index'>lon</span>: 72</li><li><span class='xr-has-index'>lat</span>: 24</li><li><span class='xr-has-index'>time</span>: 3021</li></ul></div><div class='xr-section-details'></div></li><li class='xr-section-item'><input id='section-67fb1430-305b-42ca-9b7c-65585c20a8dd' class='xr-section-summary-in' type='checkbox'  checked><label for='section-67fb1430-305b-42ca-9b7c-65585c20a8dd' class='xr-section-summary' >Coordinates: <span>(4)</span></label><div class='xr-section-inline-details'></div><div class='xr-section-details'><ul class='xr-var-list'><li class='xr-var-item'><div class='xr-var-name'><span class='xr-has-index'>lon</span></div><div class='xr-var-dims'>(lon)</div><div class='xr-var-dtype'>float64</div><div class='xr-var-preview xr-preview'>2.5 7.5 12.5 ... 347.5 352.5 357.5</div><input id='attrs-13f628ab-7c91-457b-a9d9-5b56d060b277' class='xr-var-attrs-in' type='checkbox' disabled><label for='attrs-13f628ab-7c91-457b-a9d9-5b56d060b277' title='Show/Hide attributes'><svg class='icon xr-icon-file-text2'><use xlink:href='#icon-file-text2'></use></svg></label><input id='data-413caef4-07cc-40be-b0c5-ca77d68e0df6' class='xr-var-data-in' type='checkbox'><label for='data-413caef4-07cc-40be-b0c5-ca77d68e0df6' title='Show/Hide data repr'><svg class='icon xr-icon-database'><use xlink:href='#icon-database'></use></svg></label><div class='xr-var-attrs'><dl class='xr-attrs'></dl></div><div class='xr-var-data'><pre>array([  2.5,   7.5,  12.5,  17.5,  22.5,  27.5,  32.5,  37.5,  42.5,  47.5,\n",
       "        52.5,  57.5,  62.5,  67.5,  72.5,  77.5,  82.5,  87.5,  92.5,  97.5,\n",
       "       102.5, 107.5, 112.5, 117.5, 122.5, 127.5, 132.5, 137.5, 142.5, 147.5,\n",
       "       152.5, 157.5, 162.5, 167.5, 172.5, 177.5, 182.5, 187.5, 192.5, 197.5,\n",
       "       202.5, 207.5, 212.5, 217.5, 222.5, 227.5, 232.5, 237.5, 242.5, 247.5,\n",
       "       252.5, 257.5, 262.5, 267.5, 272.5, 277.5, 282.5, 287.5, 292.5, 297.5,\n",
       "       302.5, 307.5, 312.5, 317.5, 322.5, 327.5, 332.5, 337.5, 342.5, 347.5,\n",
       "       352.5, 357.5])</pre></div></li><li class='xr-var-item'><div class='xr-var-name'><span class='xr-has-index'>lat</span></div><div class='xr-var-dims'>(lat)</div><div class='xr-var-dtype'>float64</div><div class='xr-var-preview xr-preview'>60.62 61.88 63.12 ... 88.12 89.38</div><input id='attrs-9349a574-bda7-40aa-9476-b9a1f5962eff' class='xr-var-attrs-in' type='checkbox' disabled><label for='attrs-9349a574-bda7-40aa-9476-b9a1f5962eff' title='Show/Hide attributes'><svg class='icon xr-icon-file-text2'><use xlink:href='#icon-file-text2'></use></svg></label><input id='data-4b78f5c6-a6c9-43d7-94bf-4c0f76074299' class='xr-var-data-in' type='checkbox'><label for='data-4b78f5c6-a6c9-43d7-94bf-4c0f76074299' title='Show/Hide data repr'><svg class='icon xr-icon-database'><use xlink:href='#icon-database'></use></svg></label><div class='xr-var-attrs'><dl class='xr-attrs'></dl></div><div class='xr-var-data'><pre>array([60.625, 61.875, 63.125, 64.375, 65.625, 66.875, 68.125, 69.375, 70.625,\n",
       "       71.875, 73.125, 74.375, 75.625, 76.875, 78.125, 79.375, 80.625, 81.875,\n",
       "       83.125, 84.375, 85.625, 86.875, 88.125, 89.375])</pre></div></li><li class='xr-var-item'><div class='xr-var-name'><span class='xr-has-index'>time</span></div><div class='xr-var-dims'>(time)</div><div class='xr-var-dtype'>datetime64[ns]</div><div class='xr-var-preview xr-preview'>2019-09-20T09:00:00 ... 2020-10-...</div><input id='attrs-49dd48c0-83fd-4f8c-9eab-dd3a04f16fab' class='xr-var-attrs-in' type='checkbox' ><label for='attrs-49dd48c0-83fd-4f8c-9eab-dd3a04f16fab' title='Show/Hide attributes'><svg class='icon xr-icon-file-text2'><use xlink:href='#icon-file-text2'></use></svg></label><input id='data-6cff95fb-6a84-41fa-bb91-6ba88cd2c973' class='xr-var-data-in' type='checkbox'><label for='data-6cff95fb-6a84-41fa-bb91-6ba88cd2c973' title='Show/Hide data repr'><svg class='icon xr-icon-database'><use xlink:href='#icon-database'></use></svg></label><div class='xr-var-attrs'><dl class='xr-attrs'><dt><span>long_name :</span></dt><dd>hours since 2019-09-20 09:00</dd></dl></div><div class='xr-var-data'><pre>array([&#x27;2019-09-20T09:00:00.000000000&#x27;, &#x27;2019-09-20T12:00:00.000000000&#x27;,\n",
       "       &#x27;2019-09-20T15:00:00.000000000&#x27;, ..., &#x27;2020-10-01T15:00:00.000000000&#x27;,\n",
       "       &#x27;2020-10-01T18:00:00.000000000&#x27;, &#x27;2020-10-01T21:00:00.000000000&#x27;],\n",
       "      dtype=&#x27;datetime64[ns]&#x27;)</pre></div></li><li class='xr-var-item'><div class='xr-var-name'><span>lab</span></div><div class='xr-var-dims'>(lat, lon)</div><div class='xr-var-dtype'>int64</div><div class='xr-var-preview xr-preview'>837 917 976 831 ... 294 294 294 294</div><input id='attrs-8687cd9d-b963-4c0d-8af4-1356ccff6187' class='xr-var-attrs-in' type='checkbox' disabled><label for='attrs-8687cd9d-b963-4c0d-8af4-1356ccff6187' title='Show/Hide attributes'><svg class='icon xr-icon-file-text2'><use xlink:href='#icon-file-text2'></use></svg></label><input id='data-fafff519-aa1d-4cf6-b27b-e4b40efb538d' class='xr-var-data-in' type='checkbox'><label for='data-fafff519-aa1d-4cf6-b27b-e4b40efb538d' title='Show/Hide data repr'><svg class='icon xr-icon-database'><use xlink:href='#icon-database'></use></svg></label><div class='xr-var-attrs'><dl class='xr-attrs'></dl></div><div class='xr-var-data'><pre>array([[837, 917, 976, ..., 743, 901, 816],\n",
       "       [837, 917, 970, ..., 743, 587, 816],\n",
       "       [913, 821, 966, ..., 791, 587, 801],\n",
       "       ...,\n",
       "       [119, 302, 134, ..., 141, 119, 119],\n",
       "       [113, 113, 113, ..., 199, 269, 269],\n",
       "       [294, 350, 350, ..., 294, 294, 294]])</pre></div></li></ul></div></li><li class='xr-section-item'><input id='section-bddeb63b-66bf-4d05-91e9-0a95113a182e' class='xr-section-summary-in' type='checkbox'  checked><label for='section-bddeb63b-66bf-4d05-91e9-0a95113a182e' class='xr-section-summary' >Data variables: <span>(1)</span></label><div class='xr-section-inline-details'></div><div class='xr-section-details'><ul class='xr-var-list'><li class='xr-var-item'><div class='xr-var-name'><span>AIRTRACER</span></div><div class='xr-var-dims'>(time, lat, lon)</div><div class='xr-var-dtype'>float32</div><div class='xr-var-preview xr-preview'>0.0004269 0.0001852 ... 0.0002132</div><input id='attrs-b98f01f9-2d51-49cb-bbed-121e2274f023' class='xr-var-attrs-in' type='checkbox' disabled><label for='attrs-b98f01f9-2d51-49cb-bbed-121e2274f023' title='Show/Hide attributes'><svg class='icon xr-icon-file-text2'><use xlink:href='#icon-file-text2'></use></svg></label><input id='data-519c2cba-26d7-4b4e-97c0-e93b419a13ba' class='xr-var-data-in' type='checkbox'><label for='data-519c2cba-26d7-4b4e-97c0-e93b419a13ba' title='Show/Hide data repr'><svg class='icon xr-icon-database'><use xlink:href='#icon-database'></use></svg></label><div class='xr-var-attrs'><dl class='xr-attrs'></dl></div><div class='xr-var-data'><pre>array([[[4.268563e-04, 1.852375e-04, ..., 2.621723e-04, 2.943228e-04],\n",
       "        [4.052322e-04, 1.807687e-04, ..., 2.240264e-04, 2.522779e-04],\n",
       "        ...,\n",
       "        [1.307839e-02, 1.780873e-02, ..., 5.970140e-04, 5.370654e-03],\n",
       "        [1.349513e-02, 1.612342e-02, ..., 6.169785e-03, 1.135256e-02]],\n",
       "\n",
       "       [[3.539727e-04, 1.817460e-04, ..., 1.960023e-04, 2.683101e-04],\n",
       "        [3.486043e-04, 1.922844e-04, ..., 1.700503e-04, 2.743898e-04],\n",
       "        ...,\n",
       "        [1.824136e-02, 2.463412e-02, ..., 5.580768e-03, 1.393889e-02],\n",
       "        [1.741647e-02, 1.864909e-02, ..., 1.828488e-02, 1.803528e-02]],\n",
       "\n",
       "       ...,\n",
       "\n",
       "       [[3.538048e-04, 3.289605e-04, ..., 3.454678e-04, 2.917684e-04],\n",
       "        [3.458934e-04, 2.699237e-04, ..., 4.989626e-04, 3.907704e-04],\n",
       "        ...,\n",
       "        [3.555111e-05, 4.241330e-05, ..., 3.796500e-05, 3.836580e-05],\n",
       "        [1.048749e-05, 1.185114e-05, ..., 1.207331e-05, 9.389475e-06]],\n",
       "\n",
       "       [[6.397812e-04, 6.086012e-04, ..., 4.928912e-04, 4.372060e-04],\n",
       "        [6.053369e-04, 4.210267e-04, ..., 6.160549e-04, 5.517354e-04],\n",
       "        ...,\n",
       "        [1.858562e-04, 8.900857e-05, ..., 3.811657e-04, 2.670756e-04],\n",
       "        [1.806014e-04, 1.131911e-04, ..., 2.551314e-04, 2.132116e-04]]],\n",
       "      dtype=float32)</pre></div></li></ul></div></li><li class='xr-section-item'><input id='section-d8414f3e-390e-4038-91c3-eb9f7bcc19d8' class='xr-section-summary-in' type='checkbox' disabled ><label for='section-d8414f3e-390e-4038-91c3-eb9f7bcc19d8' class='xr-section-summary'  title='Expand/collapse section'>Attributes: <span>(0)</span></label><div class='xr-section-inline-details'></div><div class='xr-section-details'><dl class='xr-attrs'></dl></div></li></ul></div></div>"
      ],
      "text/plain": [
       "<xarray.Dataset>\n",
       "Dimensions:    (lon: 72, lat: 24, time: 3021)\n",
       "Coordinates:\n",
       "  * lon        (lon) float64 2.5 7.5 12.5 17.5 22.5 ... 342.5 347.5 352.5 357.5\n",
       "  * lat        (lat) float64 60.62 61.88 63.12 64.38 ... 85.62 86.88 88.12 89.38\n",
       "  * time       (time) datetime64[ns] 2019-09-20T09:00:00 ... 2020-10-01T21:00:00\n",
       "    lab        (lat, lon) int64 837 917 976 831 825 815 ... 463 294 294 294 294\n",
       "Data variables:\n",
       "    AIRTRACER  (time, lat, lon) float32 0.0004269 0.0001852 ... 0.0002132"
      ]
     },
     "execution_count": 762,
     "metadata": {},
     "output_type": "execute_result"
    }
   ],
   "source": [
    "ds"
   ]
  },
  {
   "cell_type": "code",
   "execution_count": null,
   "metadata": {},
   "outputs": [],
   "source": []
  },
  {
   "cell_type": "code",
   "execution_count": null,
   "metadata": {},
   "outputs": [],
   "source": []
  }
 ],
 "metadata": {
  "jupytext": {
   "text_representation": {
    "extension": ".py",
    "format_name": "percent",
    "format_version": "1.3",
    "jupytext_version": "1.12.0"
   }
  },
  "kernelspec": {
   "display_name": "Python [conda env:q5]",
   "language": "python",
   "name": "conda-env-q5-py"
  },
  "language_info": {
   "codemirror_mode": {
    "name": "ipython",
    "version": 3
   },
   "file_extension": ".py",
   "mimetype": "text/x-python",
   "name": "python",
   "nbconvert_exporter": "python",
   "pygments_lexer": "ipython3",
   "version": "3.9.7"
  }
 },
 "nbformat": 4,
 "nbformat_minor": 4
}
